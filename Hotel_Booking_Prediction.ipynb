{
 "cells": [
  {
   "cell_type": "code",
   "execution_count": 139,
   "id": "4bc98b11",
   "metadata": {},
   "outputs": [],
   "source": [
    "import pandas as pd\n",
    "import numpy as np\n",
    "import matplotlib.pyplot as plt\n",
    "import seaborn as sas"
   ]
  },
  {
   "cell_type": "code",
   "execution_count": 140,
   "id": "479413c1",
   "metadata": {},
   "outputs": [],
   "source": [
    "df = pd.read_csv('D:\\Intern\\Machine_Learning_Projects\\Hotel_Booking_Prediction/hotel_bookings.csv')"
   ]
  },
  {
   "cell_type": "code",
   "execution_count": 141,
   "id": "15bee60c",
   "metadata": {},
   "outputs": [
    {
     "data": {
      "text/html": [
       "<div>\n",
       "<style scoped>\n",
       "    .dataframe tbody tr th:only-of-type {\n",
       "        vertical-align: middle;\n",
       "    }\n",
       "\n",
       "    .dataframe tbody tr th {\n",
       "        vertical-align: top;\n",
       "    }\n",
       "\n",
       "    .dataframe thead th {\n",
       "        text-align: right;\n",
       "    }\n",
       "</style>\n",
       "<table border=\"1\" class=\"dataframe\">\n",
       "  <thead>\n",
       "    <tr style=\"text-align: right;\">\n",
       "      <th></th>\n",
       "      <th>hotel</th>\n",
       "      <th>is_canceled</th>\n",
       "      <th>lead_time</th>\n",
       "      <th>arrival_date_year</th>\n",
       "      <th>arrival_date_month</th>\n",
       "      <th>arrival_date_week_number</th>\n",
       "      <th>arrival_date_day_of_month</th>\n",
       "      <th>stays_in_weekend_nights</th>\n",
       "      <th>stays_in_week_nights</th>\n",
       "      <th>adults</th>\n",
       "      <th>children</th>\n",
       "      <th>babies</th>\n",
       "      <th>meal</th>\n",
       "      <th>country</th>\n",
       "      <th>market_segment</th>\n",
       "      <th>distribution_channel</th>\n",
       "      <th>is_repeated_guest</th>\n",
       "      <th>previous_cancellations</th>\n",
       "      <th>previous_bookings_not_canceled</th>\n",
       "      <th>reserved_room_type</th>\n",
       "      <th>assigned_room_type</th>\n",
       "      <th>booking_changes</th>\n",
       "      <th>deposit_type</th>\n",
       "      <th>agent</th>\n",
       "      <th>company</th>\n",
       "      <th>days_in_waiting_list</th>\n",
       "      <th>customer_type</th>\n",
       "      <th>adr</th>\n",
       "      <th>required_car_parking_spaces</th>\n",
       "      <th>total_of_special_requests</th>\n",
       "      <th>reservation_status</th>\n",
       "      <th>reservation_status_date</th>\n",
       "    </tr>\n",
       "  </thead>\n",
       "  <tbody>\n",
       "    <tr>\n",
       "      <th>0</th>\n",
       "      <td>Resort Hotel</td>\n",
       "      <td>0</td>\n",
       "      <td>342</td>\n",
       "      <td>2015</td>\n",
       "      <td>July</td>\n",
       "      <td>27</td>\n",
       "      <td>1</td>\n",
       "      <td>0</td>\n",
       "      <td>0</td>\n",
       "      <td>2</td>\n",
       "      <td>0.0</td>\n",
       "      <td>0</td>\n",
       "      <td>BB</td>\n",
       "      <td>PRT</td>\n",
       "      <td>Direct</td>\n",
       "      <td>Direct</td>\n",
       "      <td>0</td>\n",
       "      <td>0</td>\n",
       "      <td>0</td>\n",
       "      <td>C</td>\n",
       "      <td>C</td>\n",
       "      <td>3</td>\n",
       "      <td>No Deposit</td>\n",
       "      <td>NaN</td>\n",
       "      <td>NaN</td>\n",
       "      <td>0</td>\n",
       "      <td>Transient</td>\n",
       "      <td>0.0</td>\n",
       "      <td>0</td>\n",
       "      <td>0</td>\n",
       "      <td>Check-Out</td>\n",
       "      <td>7/1/2015</td>\n",
       "    </tr>\n",
       "    <tr>\n",
       "      <th>1</th>\n",
       "      <td>Resort Hotel</td>\n",
       "      <td>0</td>\n",
       "      <td>737</td>\n",
       "      <td>2015</td>\n",
       "      <td>July</td>\n",
       "      <td>27</td>\n",
       "      <td>1</td>\n",
       "      <td>0</td>\n",
       "      <td>0</td>\n",
       "      <td>2</td>\n",
       "      <td>0.0</td>\n",
       "      <td>0</td>\n",
       "      <td>BB</td>\n",
       "      <td>PRT</td>\n",
       "      <td>Direct</td>\n",
       "      <td>Direct</td>\n",
       "      <td>0</td>\n",
       "      <td>0</td>\n",
       "      <td>0</td>\n",
       "      <td>C</td>\n",
       "      <td>C</td>\n",
       "      <td>4</td>\n",
       "      <td>No Deposit</td>\n",
       "      <td>NaN</td>\n",
       "      <td>NaN</td>\n",
       "      <td>0</td>\n",
       "      <td>Transient</td>\n",
       "      <td>0.0</td>\n",
       "      <td>0</td>\n",
       "      <td>0</td>\n",
       "      <td>Check-Out</td>\n",
       "      <td>7/1/2015</td>\n",
       "    </tr>\n",
       "    <tr>\n",
       "      <th>2</th>\n",
       "      <td>Resort Hotel</td>\n",
       "      <td>0</td>\n",
       "      <td>7</td>\n",
       "      <td>2015</td>\n",
       "      <td>July</td>\n",
       "      <td>27</td>\n",
       "      <td>1</td>\n",
       "      <td>0</td>\n",
       "      <td>1</td>\n",
       "      <td>1</td>\n",
       "      <td>0.0</td>\n",
       "      <td>0</td>\n",
       "      <td>BB</td>\n",
       "      <td>GBR</td>\n",
       "      <td>Direct</td>\n",
       "      <td>Direct</td>\n",
       "      <td>0</td>\n",
       "      <td>0</td>\n",
       "      <td>0</td>\n",
       "      <td>A</td>\n",
       "      <td>C</td>\n",
       "      <td>0</td>\n",
       "      <td>No Deposit</td>\n",
       "      <td>NaN</td>\n",
       "      <td>NaN</td>\n",
       "      <td>0</td>\n",
       "      <td>Transient</td>\n",
       "      <td>75.0</td>\n",
       "      <td>0</td>\n",
       "      <td>0</td>\n",
       "      <td>Check-Out</td>\n",
       "      <td>7/2/2015</td>\n",
       "    </tr>\n",
       "    <tr>\n",
       "      <th>3</th>\n",
       "      <td>Resort Hotel</td>\n",
       "      <td>0</td>\n",
       "      <td>13</td>\n",
       "      <td>2015</td>\n",
       "      <td>July</td>\n",
       "      <td>27</td>\n",
       "      <td>1</td>\n",
       "      <td>0</td>\n",
       "      <td>1</td>\n",
       "      <td>1</td>\n",
       "      <td>0.0</td>\n",
       "      <td>0</td>\n",
       "      <td>BB</td>\n",
       "      <td>GBR</td>\n",
       "      <td>Corporate</td>\n",
       "      <td>Corporate</td>\n",
       "      <td>0</td>\n",
       "      <td>0</td>\n",
       "      <td>0</td>\n",
       "      <td>A</td>\n",
       "      <td>A</td>\n",
       "      <td>0</td>\n",
       "      <td>No Deposit</td>\n",
       "      <td>304.0</td>\n",
       "      <td>NaN</td>\n",
       "      <td>0</td>\n",
       "      <td>Transient</td>\n",
       "      <td>75.0</td>\n",
       "      <td>0</td>\n",
       "      <td>0</td>\n",
       "      <td>Check-Out</td>\n",
       "      <td>7/2/2015</td>\n",
       "    </tr>\n",
       "    <tr>\n",
       "      <th>4</th>\n",
       "      <td>Resort Hotel</td>\n",
       "      <td>0</td>\n",
       "      <td>14</td>\n",
       "      <td>2015</td>\n",
       "      <td>July</td>\n",
       "      <td>27</td>\n",
       "      <td>1</td>\n",
       "      <td>0</td>\n",
       "      <td>2</td>\n",
       "      <td>2</td>\n",
       "      <td>0.0</td>\n",
       "      <td>0</td>\n",
       "      <td>BB</td>\n",
       "      <td>GBR</td>\n",
       "      <td>Online TA</td>\n",
       "      <td>TA/TO</td>\n",
       "      <td>0</td>\n",
       "      <td>0</td>\n",
       "      <td>0</td>\n",
       "      <td>A</td>\n",
       "      <td>A</td>\n",
       "      <td>0</td>\n",
       "      <td>No Deposit</td>\n",
       "      <td>240.0</td>\n",
       "      <td>NaN</td>\n",
       "      <td>0</td>\n",
       "      <td>Transient</td>\n",
       "      <td>98.0</td>\n",
       "      <td>0</td>\n",
       "      <td>1</td>\n",
       "      <td>Check-Out</td>\n",
       "      <td>7/3/2015</td>\n",
       "    </tr>\n",
       "  </tbody>\n",
       "</table>\n",
       "</div>"
      ],
      "text/plain": [
       "          hotel  is_canceled  lead_time  arrival_date_year arrival_date_month  \\\n",
       "0  Resort Hotel            0        342               2015               July   \n",
       "1  Resort Hotel            0        737               2015               July   \n",
       "2  Resort Hotel            0          7               2015               July   \n",
       "3  Resort Hotel            0         13               2015               July   \n",
       "4  Resort Hotel            0         14               2015               July   \n",
       "\n",
       "   arrival_date_week_number  arrival_date_day_of_month  \\\n",
       "0                        27                          1   \n",
       "1                        27                          1   \n",
       "2                        27                          1   \n",
       "3                        27                          1   \n",
       "4                        27                          1   \n",
       "\n",
       "   stays_in_weekend_nights  stays_in_week_nights  adults  children  babies  \\\n",
       "0                        0                     0       2       0.0       0   \n",
       "1                        0                     0       2       0.0       0   \n",
       "2                        0                     1       1       0.0       0   \n",
       "3                        0                     1       1       0.0       0   \n",
       "4                        0                     2       2       0.0       0   \n",
       "\n",
       "  meal country market_segment distribution_channel  is_repeated_guest  \\\n",
       "0   BB     PRT         Direct               Direct                  0   \n",
       "1   BB     PRT         Direct               Direct                  0   \n",
       "2   BB     GBR         Direct               Direct                  0   \n",
       "3   BB     GBR      Corporate            Corporate                  0   \n",
       "4   BB     GBR      Online TA                TA/TO                  0   \n",
       "\n",
       "   previous_cancellations  previous_bookings_not_canceled reserved_room_type  \\\n",
       "0                       0                               0                  C   \n",
       "1                       0                               0                  C   \n",
       "2                       0                               0                  A   \n",
       "3                       0                               0                  A   \n",
       "4                       0                               0                  A   \n",
       "\n",
       "  assigned_room_type  booking_changes deposit_type  agent  company  \\\n",
       "0                  C                3   No Deposit    NaN      NaN   \n",
       "1                  C                4   No Deposit    NaN      NaN   \n",
       "2                  C                0   No Deposit    NaN      NaN   \n",
       "3                  A                0   No Deposit  304.0      NaN   \n",
       "4                  A                0   No Deposit  240.0      NaN   \n",
       "\n",
       "   days_in_waiting_list customer_type   adr  required_car_parking_spaces  \\\n",
       "0                     0     Transient   0.0                            0   \n",
       "1                     0     Transient   0.0                            0   \n",
       "2                     0     Transient  75.0                            0   \n",
       "3                     0     Transient  75.0                            0   \n",
       "4                     0     Transient  98.0                            0   \n",
       "\n",
       "   total_of_special_requests reservation_status reservation_status_date  \n",
       "0                          0          Check-Out                7/1/2015  \n",
       "1                          0          Check-Out                7/1/2015  \n",
       "2                          0          Check-Out                7/2/2015  \n",
       "3                          0          Check-Out                7/2/2015  \n",
       "4                          1          Check-Out                7/3/2015  "
      ]
     },
     "execution_count": 141,
     "metadata": {},
     "output_type": "execute_result"
    }
   ],
   "source": [
    "df.head()"
   ]
  },
  {
   "cell_type": "code",
   "execution_count": 142,
   "id": "f12b2bd9",
   "metadata": {},
   "outputs": [
    {
     "data": {
      "text/plain": [
       "(119390, 32)"
      ]
     },
     "execution_count": 142,
     "metadata": {},
     "output_type": "execute_result"
    }
   ],
   "source": [
    "df.shape"
   ]
  },
  {
   "cell_type": "code",
   "execution_count": 143,
   "id": "64a2f39a",
   "metadata": {},
   "outputs": [
    {
     "data": {
      "text/plain": [
       "hotel                                  0\n",
       "is_canceled                            0\n",
       "lead_time                              0\n",
       "arrival_date_year                      0\n",
       "arrival_date_month                     0\n",
       "arrival_date_week_number               0\n",
       "arrival_date_day_of_month              0\n",
       "stays_in_weekend_nights                0\n",
       "stays_in_week_nights                   0\n",
       "adults                                 0\n",
       "children                               4\n",
       "babies                                 0\n",
       "meal                                   0\n",
       "country                              488\n",
       "market_segment                         0\n",
       "distribution_channel                   0\n",
       "is_repeated_guest                      0\n",
       "previous_cancellations                 0\n",
       "previous_bookings_not_canceled         0\n",
       "reserved_room_type                     0\n",
       "assigned_room_type                     0\n",
       "booking_changes                        0\n",
       "deposit_type                           0\n",
       "agent                              16340\n",
       "company                           112593\n",
       "days_in_waiting_list                   0\n",
       "customer_type                          0\n",
       "adr                                    0\n",
       "required_car_parking_spaces            0\n",
       "total_of_special_requests              0\n",
       "reservation_status                     0\n",
       "reservation_status_date                0\n",
       "dtype: int64"
      ]
     },
     "execution_count": 143,
     "metadata": {},
     "output_type": "execute_result"
    }
   ],
   "source": [
    "df.isna().sum()"
   ]
  },
  {
   "cell_type": "code",
   "execution_count": 144,
   "id": "c4acc018",
   "metadata": {},
   "outputs": [],
   "source": [
    "def data_clean(df):\n",
    "    df.fillna(0,inplace=True)\n",
    "    print(df.isnull().sum())"
   ]
  },
  {
   "cell_type": "code",
   "execution_count": 145,
   "id": "973753e7",
   "metadata": {},
   "outputs": [
    {
     "name": "stdout",
     "output_type": "stream",
     "text": [
      "hotel                             0\n",
      "is_canceled                       0\n",
      "lead_time                         0\n",
      "arrival_date_year                 0\n",
      "arrival_date_month                0\n",
      "arrival_date_week_number          0\n",
      "arrival_date_day_of_month         0\n",
      "stays_in_weekend_nights           0\n",
      "stays_in_week_nights              0\n",
      "adults                            0\n",
      "children                          0\n",
      "babies                            0\n",
      "meal                              0\n",
      "country                           0\n",
      "market_segment                    0\n",
      "distribution_channel              0\n",
      "is_repeated_guest                 0\n",
      "previous_cancellations            0\n",
      "previous_bookings_not_canceled    0\n",
      "reserved_room_type                0\n",
      "assigned_room_type                0\n",
      "booking_changes                   0\n",
      "deposit_type                      0\n",
      "agent                             0\n",
      "company                           0\n",
      "days_in_waiting_list              0\n",
      "customer_type                     0\n",
      "adr                               0\n",
      "required_car_parking_spaces       0\n",
      "total_of_special_requests         0\n",
      "reservation_status                0\n",
      "reservation_status_date           0\n",
      "dtype: int64\n"
     ]
    }
   ],
   "source": [
    "data_clean(df)"
   ]
  },
  {
   "cell_type": "code",
   "execution_count": 146,
   "id": "c8897fe3",
   "metadata": {},
   "outputs": [
    {
     "data": {
      "text/plain": [
       "Index(['hotel', 'is_canceled', 'lead_time', 'arrival_date_year',\n",
       "       'arrival_date_month', 'arrival_date_week_number',\n",
       "       'arrival_date_day_of_month', 'stays_in_weekend_nights',\n",
       "       'stays_in_week_nights', 'adults', 'children', 'babies', 'meal',\n",
       "       'country', 'market_segment', 'distribution_channel',\n",
       "       'is_repeated_guest', 'previous_cancellations',\n",
       "       'previous_bookings_not_canceled', 'reserved_room_type',\n",
       "       'assigned_room_type', 'booking_changes', 'deposit_type', 'agent',\n",
       "       'company', 'days_in_waiting_list', 'customer_type', 'adr',\n",
       "       'required_car_parking_spaces', 'total_of_special_requests',\n",
       "       'reservation_status', 'reservation_status_date'],\n",
       "      dtype='object')"
      ]
     },
     "execution_count": 146,
     "metadata": {},
     "output_type": "execute_result"
    }
   ],
   "source": [
    "df.columns"
   ]
  },
  {
   "cell_type": "code",
   "execution_count": 147,
   "id": "efa6512b",
   "metadata": {},
   "outputs": [
    {
     "name": "stdout",
     "output_type": "stream",
     "text": [
      "adults has uniques values as [ 2  1  3  4 40 26 50 27 55  0 20  6  5 10]\n",
      "children has uniques values as [ 0.  1.  2. 10.  3.]\n",
      "babies has uniques values as [ 0  1  2 10  9]\n"
     ]
    }
   ],
   "source": [
    "list=['adults', 'children', 'babies']\n",
    "for i in list:\n",
    "    print('{} has uniques values as {}'.format(i,df[i].unique()))"
   ]
  },
  {
   "cell_type": "code",
   "execution_count": 148,
   "id": "9ec69ca6",
   "metadata": {},
   "outputs": [],
   "source": [
    "pd.set_option('display.max_columns',32)"
   ]
  },
  {
   "cell_type": "code",
   "execution_count": 149,
   "id": "7579ffcf",
   "metadata": {},
   "outputs": [
    {
     "data": {
      "text/html": [
       "<div>\n",
       "<style scoped>\n",
       "    .dataframe tbody tr th:only-of-type {\n",
       "        vertical-align: middle;\n",
       "    }\n",
       "\n",
       "    .dataframe tbody tr th {\n",
       "        vertical-align: top;\n",
       "    }\n",
       "\n",
       "    .dataframe thead th {\n",
       "        text-align: right;\n",
       "    }\n",
       "</style>\n",
       "<table border=\"1\" class=\"dataframe\">\n",
       "  <thead>\n",
       "    <tr style=\"text-align: right;\">\n",
       "      <th></th>\n",
       "      <th>hotel</th>\n",
       "      <th>is_canceled</th>\n",
       "      <th>lead_time</th>\n",
       "      <th>arrival_date_year</th>\n",
       "      <th>arrival_date_month</th>\n",
       "      <th>arrival_date_week_number</th>\n",
       "      <th>arrival_date_day_of_month</th>\n",
       "      <th>stays_in_weekend_nights</th>\n",
       "      <th>stays_in_week_nights</th>\n",
       "      <th>adults</th>\n",
       "      <th>children</th>\n",
       "      <th>babies</th>\n",
       "      <th>meal</th>\n",
       "      <th>country</th>\n",
       "      <th>market_segment</th>\n",
       "      <th>distribution_channel</th>\n",
       "      <th>is_repeated_guest</th>\n",
       "      <th>previous_cancellations</th>\n",
       "      <th>previous_bookings_not_canceled</th>\n",
       "      <th>reserved_room_type</th>\n",
       "      <th>assigned_room_type</th>\n",
       "      <th>booking_changes</th>\n",
       "      <th>deposit_type</th>\n",
       "      <th>agent</th>\n",
       "      <th>company</th>\n",
       "      <th>days_in_waiting_list</th>\n",
       "      <th>customer_type</th>\n",
       "      <th>adr</th>\n",
       "      <th>required_car_parking_spaces</th>\n",
       "      <th>total_of_special_requests</th>\n",
       "      <th>reservation_status</th>\n",
       "      <th>reservation_status_date</th>\n",
       "    </tr>\n",
       "  </thead>\n",
       "  <tbody>\n",
       "    <tr>\n",
       "      <th>2224</th>\n",
       "      <td>Resort Hotel</td>\n",
       "      <td>0</td>\n",
       "      <td>1</td>\n",
       "      <td>2015</td>\n",
       "      <td>October</td>\n",
       "      <td>41</td>\n",
       "      <td>6</td>\n",
       "      <td>0</td>\n",
       "      <td>3</td>\n",
       "      <td>0</td>\n",
       "      <td>0.0</td>\n",
       "      <td>0</td>\n",
       "      <td>SC</td>\n",
       "      <td>PRT</td>\n",
       "      <td>Corporate</td>\n",
       "      <td>Corporate</td>\n",
       "      <td>0</td>\n",
       "      <td>0</td>\n",
       "      <td>0</td>\n",
       "      <td>A</td>\n",
       "      <td>I</td>\n",
       "      <td>1</td>\n",
       "      <td>No Deposit</td>\n",
       "      <td>0.0</td>\n",
       "      <td>174.0</td>\n",
       "      <td>0</td>\n",
       "      <td>Transient-Party</td>\n",
       "      <td>0.00</td>\n",
       "      <td>0</td>\n",
       "      <td>0</td>\n",
       "      <td>Check-Out</td>\n",
       "      <td>10/6/2015</td>\n",
       "    </tr>\n",
       "    <tr>\n",
       "      <th>2409</th>\n",
       "      <td>Resort Hotel</td>\n",
       "      <td>0</td>\n",
       "      <td>0</td>\n",
       "      <td>2015</td>\n",
       "      <td>October</td>\n",
       "      <td>42</td>\n",
       "      <td>12</td>\n",
       "      <td>0</td>\n",
       "      <td>0</td>\n",
       "      <td>0</td>\n",
       "      <td>0.0</td>\n",
       "      <td>0</td>\n",
       "      <td>SC</td>\n",
       "      <td>PRT</td>\n",
       "      <td>Corporate</td>\n",
       "      <td>Corporate</td>\n",
       "      <td>0</td>\n",
       "      <td>0</td>\n",
       "      <td>0</td>\n",
       "      <td>A</td>\n",
       "      <td>I</td>\n",
       "      <td>0</td>\n",
       "      <td>No Deposit</td>\n",
       "      <td>0.0</td>\n",
       "      <td>174.0</td>\n",
       "      <td>0</td>\n",
       "      <td>Transient</td>\n",
       "      <td>0.00</td>\n",
       "      <td>0</td>\n",
       "      <td>0</td>\n",
       "      <td>Check-Out</td>\n",
       "      <td>10/12/2015</td>\n",
       "    </tr>\n",
       "    <tr>\n",
       "      <th>3181</th>\n",
       "      <td>Resort Hotel</td>\n",
       "      <td>0</td>\n",
       "      <td>36</td>\n",
       "      <td>2015</td>\n",
       "      <td>November</td>\n",
       "      <td>47</td>\n",
       "      <td>20</td>\n",
       "      <td>1</td>\n",
       "      <td>2</td>\n",
       "      <td>0</td>\n",
       "      <td>0.0</td>\n",
       "      <td>0</td>\n",
       "      <td>SC</td>\n",
       "      <td>ESP</td>\n",
       "      <td>Groups</td>\n",
       "      <td>TA/TO</td>\n",
       "      <td>0</td>\n",
       "      <td>0</td>\n",
       "      <td>0</td>\n",
       "      <td>A</td>\n",
       "      <td>C</td>\n",
       "      <td>0</td>\n",
       "      <td>No Deposit</td>\n",
       "      <td>38.0</td>\n",
       "      <td>0.0</td>\n",
       "      <td>0</td>\n",
       "      <td>Transient-Party</td>\n",
       "      <td>0.00</td>\n",
       "      <td>0</td>\n",
       "      <td>0</td>\n",
       "      <td>Check-Out</td>\n",
       "      <td>11/23/2015</td>\n",
       "    </tr>\n",
       "    <tr>\n",
       "      <th>3684</th>\n",
       "      <td>Resort Hotel</td>\n",
       "      <td>0</td>\n",
       "      <td>165</td>\n",
       "      <td>2015</td>\n",
       "      <td>December</td>\n",
       "      <td>53</td>\n",
       "      <td>30</td>\n",
       "      <td>1</td>\n",
       "      <td>4</td>\n",
       "      <td>0</td>\n",
       "      <td>0.0</td>\n",
       "      <td>0</td>\n",
       "      <td>SC</td>\n",
       "      <td>PRT</td>\n",
       "      <td>Groups</td>\n",
       "      <td>TA/TO</td>\n",
       "      <td>0</td>\n",
       "      <td>0</td>\n",
       "      <td>0</td>\n",
       "      <td>A</td>\n",
       "      <td>A</td>\n",
       "      <td>1</td>\n",
       "      <td>No Deposit</td>\n",
       "      <td>308.0</td>\n",
       "      <td>0.0</td>\n",
       "      <td>122</td>\n",
       "      <td>Transient-Party</td>\n",
       "      <td>0.00</td>\n",
       "      <td>0</td>\n",
       "      <td>0</td>\n",
       "      <td>Check-Out</td>\n",
       "      <td>1/4/2016</td>\n",
       "    </tr>\n",
       "    <tr>\n",
       "      <th>3708</th>\n",
       "      <td>Resort Hotel</td>\n",
       "      <td>0</td>\n",
       "      <td>165</td>\n",
       "      <td>2015</td>\n",
       "      <td>December</td>\n",
       "      <td>53</td>\n",
       "      <td>30</td>\n",
       "      <td>2</td>\n",
       "      <td>4</td>\n",
       "      <td>0</td>\n",
       "      <td>0.0</td>\n",
       "      <td>0</td>\n",
       "      <td>SC</td>\n",
       "      <td>PRT</td>\n",
       "      <td>Groups</td>\n",
       "      <td>TA/TO</td>\n",
       "      <td>0</td>\n",
       "      <td>0</td>\n",
       "      <td>0</td>\n",
       "      <td>A</td>\n",
       "      <td>C</td>\n",
       "      <td>1</td>\n",
       "      <td>No Deposit</td>\n",
       "      <td>308.0</td>\n",
       "      <td>0.0</td>\n",
       "      <td>122</td>\n",
       "      <td>Transient-Party</td>\n",
       "      <td>0.00</td>\n",
       "      <td>0</td>\n",
       "      <td>0</td>\n",
       "      <td>Check-Out</td>\n",
       "      <td>1/5/2016</td>\n",
       "    </tr>\n",
       "    <tr>\n",
       "      <th>...</th>\n",
       "      <td>...</td>\n",
       "      <td>...</td>\n",
       "      <td>...</td>\n",
       "      <td>...</td>\n",
       "      <td>...</td>\n",
       "      <td>...</td>\n",
       "      <td>...</td>\n",
       "      <td>...</td>\n",
       "      <td>...</td>\n",
       "      <td>...</td>\n",
       "      <td>...</td>\n",
       "      <td>...</td>\n",
       "      <td>...</td>\n",
       "      <td>...</td>\n",
       "      <td>...</td>\n",
       "      <td>...</td>\n",
       "      <td>...</td>\n",
       "      <td>...</td>\n",
       "      <td>...</td>\n",
       "      <td>...</td>\n",
       "      <td>...</td>\n",
       "      <td>...</td>\n",
       "      <td>...</td>\n",
       "      <td>...</td>\n",
       "      <td>...</td>\n",
       "      <td>...</td>\n",
       "      <td>...</td>\n",
       "      <td>...</td>\n",
       "      <td>...</td>\n",
       "      <td>...</td>\n",
       "      <td>...</td>\n",
       "      <td>...</td>\n",
       "    </tr>\n",
       "    <tr>\n",
       "      <th>115029</th>\n",
       "      <td>City Hotel</td>\n",
       "      <td>0</td>\n",
       "      <td>107</td>\n",
       "      <td>2017</td>\n",
       "      <td>June</td>\n",
       "      <td>26</td>\n",
       "      <td>27</td>\n",
       "      <td>0</td>\n",
       "      <td>3</td>\n",
       "      <td>0</td>\n",
       "      <td>0.0</td>\n",
       "      <td>0</td>\n",
       "      <td>BB</td>\n",
       "      <td>CHE</td>\n",
       "      <td>Online TA</td>\n",
       "      <td>TA/TO</td>\n",
       "      <td>0</td>\n",
       "      <td>0</td>\n",
       "      <td>0</td>\n",
       "      <td>A</td>\n",
       "      <td>A</td>\n",
       "      <td>1</td>\n",
       "      <td>No Deposit</td>\n",
       "      <td>7.0</td>\n",
       "      <td>0.0</td>\n",
       "      <td>0</td>\n",
       "      <td>Transient</td>\n",
       "      <td>100.80</td>\n",
       "      <td>0</td>\n",
       "      <td>0</td>\n",
       "      <td>Check-Out</td>\n",
       "      <td>6/30/2017</td>\n",
       "    </tr>\n",
       "    <tr>\n",
       "      <th>115091</th>\n",
       "      <td>City Hotel</td>\n",
       "      <td>0</td>\n",
       "      <td>1</td>\n",
       "      <td>2017</td>\n",
       "      <td>June</td>\n",
       "      <td>26</td>\n",
       "      <td>30</td>\n",
       "      <td>0</td>\n",
       "      <td>1</td>\n",
       "      <td>0</td>\n",
       "      <td>0.0</td>\n",
       "      <td>0</td>\n",
       "      <td>SC</td>\n",
       "      <td>PRT</td>\n",
       "      <td>Complementary</td>\n",
       "      <td>Direct</td>\n",
       "      <td>0</td>\n",
       "      <td>0</td>\n",
       "      <td>0</td>\n",
       "      <td>E</td>\n",
       "      <td>K</td>\n",
       "      <td>0</td>\n",
       "      <td>No Deposit</td>\n",
       "      <td>0.0</td>\n",
       "      <td>0.0</td>\n",
       "      <td>0</td>\n",
       "      <td>Transient</td>\n",
       "      <td>0.00</td>\n",
       "      <td>1</td>\n",
       "      <td>1</td>\n",
       "      <td>Check-Out</td>\n",
       "      <td>7/1/2017</td>\n",
       "    </tr>\n",
       "    <tr>\n",
       "      <th>116251</th>\n",
       "      <td>City Hotel</td>\n",
       "      <td>0</td>\n",
       "      <td>44</td>\n",
       "      <td>2017</td>\n",
       "      <td>July</td>\n",
       "      <td>28</td>\n",
       "      <td>15</td>\n",
       "      <td>1</td>\n",
       "      <td>1</td>\n",
       "      <td>0</td>\n",
       "      <td>0.0</td>\n",
       "      <td>0</td>\n",
       "      <td>SC</td>\n",
       "      <td>SWE</td>\n",
       "      <td>Online TA</td>\n",
       "      <td>TA/TO</td>\n",
       "      <td>0</td>\n",
       "      <td>0</td>\n",
       "      <td>0</td>\n",
       "      <td>A</td>\n",
       "      <td>K</td>\n",
       "      <td>2</td>\n",
       "      <td>No Deposit</td>\n",
       "      <td>425.0</td>\n",
       "      <td>0.0</td>\n",
       "      <td>0</td>\n",
       "      <td>Transient</td>\n",
       "      <td>73.80</td>\n",
       "      <td>0</td>\n",
       "      <td>0</td>\n",
       "      <td>Check-Out</td>\n",
       "      <td>7/17/2017</td>\n",
       "    </tr>\n",
       "    <tr>\n",
       "      <th>116534</th>\n",
       "      <td>City Hotel</td>\n",
       "      <td>0</td>\n",
       "      <td>2</td>\n",
       "      <td>2017</td>\n",
       "      <td>July</td>\n",
       "      <td>28</td>\n",
       "      <td>15</td>\n",
       "      <td>2</td>\n",
       "      <td>5</td>\n",
       "      <td>0</td>\n",
       "      <td>0.0</td>\n",
       "      <td>0</td>\n",
       "      <td>SC</td>\n",
       "      <td>RUS</td>\n",
       "      <td>Online TA</td>\n",
       "      <td>TA/TO</td>\n",
       "      <td>0</td>\n",
       "      <td>0</td>\n",
       "      <td>0</td>\n",
       "      <td>A</td>\n",
       "      <td>K</td>\n",
       "      <td>1</td>\n",
       "      <td>No Deposit</td>\n",
       "      <td>9.0</td>\n",
       "      <td>0.0</td>\n",
       "      <td>0</td>\n",
       "      <td>Transient-Party</td>\n",
       "      <td>22.86</td>\n",
       "      <td>0</td>\n",
       "      <td>1</td>\n",
       "      <td>Check-Out</td>\n",
       "      <td>7/22/2017</td>\n",
       "    </tr>\n",
       "    <tr>\n",
       "      <th>117087</th>\n",
       "      <td>City Hotel</td>\n",
       "      <td>0</td>\n",
       "      <td>170</td>\n",
       "      <td>2017</td>\n",
       "      <td>July</td>\n",
       "      <td>30</td>\n",
       "      <td>27</td>\n",
       "      <td>0</td>\n",
       "      <td>2</td>\n",
       "      <td>0</td>\n",
       "      <td>0.0</td>\n",
       "      <td>0</td>\n",
       "      <td>BB</td>\n",
       "      <td>BRA</td>\n",
       "      <td>Offline TA/TO</td>\n",
       "      <td>TA/TO</td>\n",
       "      <td>0</td>\n",
       "      <td>0</td>\n",
       "      <td>0</td>\n",
       "      <td>A</td>\n",
       "      <td>A</td>\n",
       "      <td>0</td>\n",
       "      <td>No Deposit</td>\n",
       "      <td>52.0</td>\n",
       "      <td>0.0</td>\n",
       "      <td>0</td>\n",
       "      <td>Transient</td>\n",
       "      <td>0.00</td>\n",
       "      <td>0</td>\n",
       "      <td>0</td>\n",
       "      <td>Check-Out</td>\n",
       "      <td>7/29/2017</td>\n",
       "    </tr>\n",
       "  </tbody>\n",
       "</table>\n",
       "<p>180 rows × 32 columns</p>\n",
       "</div>"
      ],
      "text/plain": [
       "               hotel  is_canceled  lead_time  arrival_date_year  \\\n",
       "2224    Resort Hotel            0          1               2015   \n",
       "2409    Resort Hotel            0          0               2015   \n",
       "3181    Resort Hotel            0         36               2015   \n",
       "3684    Resort Hotel            0        165               2015   \n",
       "3708    Resort Hotel            0        165               2015   \n",
       "...              ...          ...        ...                ...   \n",
       "115029    City Hotel            0        107               2017   \n",
       "115091    City Hotel            0          1               2017   \n",
       "116251    City Hotel            0         44               2017   \n",
       "116534    City Hotel            0          2               2017   \n",
       "117087    City Hotel            0        170               2017   \n",
       "\n",
       "       arrival_date_month  arrival_date_week_number  \\\n",
       "2224              October                        41   \n",
       "2409              October                        42   \n",
       "3181             November                        47   \n",
       "3684             December                        53   \n",
       "3708             December                        53   \n",
       "...                   ...                       ...   \n",
       "115029               June                        26   \n",
       "115091               June                        26   \n",
       "116251               July                        28   \n",
       "116534               July                        28   \n",
       "117087               July                        30   \n",
       "\n",
       "        arrival_date_day_of_month  stays_in_weekend_nights  \\\n",
       "2224                            6                        0   \n",
       "2409                           12                        0   \n",
       "3181                           20                        1   \n",
       "3684                           30                        1   \n",
       "3708                           30                        2   \n",
       "...                           ...                      ...   \n",
       "115029                         27                        0   \n",
       "115091                         30                        0   \n",
       "116251                         15                        1   \n",
       "116534                         15                        2   \n",
       "117087                         27                        0   \n",
       "\n",
       "        stays_in_week_nights  adults  children  babies meal country  \\\n",
       "2224                       3       0       0.0       0   SC     PRT   \n",
       "2409                       0       0       0.0       0   SC     PRT   \n",
       "3181                       2       0       0.0       0   SC     ESP   \n",
       "3684                       4       0       0.0       0   SC     PRT   \n",
       "3708                       4       0       0.0       0   SC     PRT   \n",
       "...                      ...     ...       ...     ...  ...     ...   \n",
       "115029                     3       0       0.0       0   BB     CHE   \n",
       "115091                     1       0       0.0       0   SC     PRT   \n",
       "116251                     1       0       0.0       0   SC     SWE   \n",
       "116534                     5       0       0.0       0   SC     RUS   \n",
       "117087                     2       0       0.0       0   BB     BRA   \n",
       "\n",
       "       market_segment distribution_channel  is_repeated_guest  \\\n",
       "2224        Corporate            Corporate                  0   \n",
       "2409        Corporate            Corporate                  0   \n",
       "3181           Groups                TA/TO                  0   \n",
       "3684           Groups                TA/TO                  0   \n",
       "3708           Groups                TA/TO                  0   \n",
       "...               ...                  ...                ...   \n",
       "115029      Online TA                TA/TO                  0   \n",
       "115091  Complementary               Direct                  0   \n",
       "116251      Online TA                TA/TO                  0   \n",
       "116534      Online TA                TA/TO                  0   \n",
       "117087  Offline TA/TO                TA/TO                  0   \n",
       "\n",
       "        previous_cancellations  previous_bookings_not_canceled  \\\n",
       "2224                         0                               0   \n",
       "2409                         0                               0   \n",
       "3181                         0                               0   \n",
       "3684                         0                               0   \n",
       "3708                         0                               0   \n",
       "...                        ...                             ...   \n",
       "115029                       0                               0   \n",
       "115091                       0                               0   \n",
       "116251                       0                               0   \n",
       "116534                       0                               0   \n",
       "117087                       0                               0   \n",
       "\n",
       "       reserved_room_type assigned_room_type  booking_changes deposit_type  \\\n",
       "2224                    A                  I                1   No Deposit   \n",
       "2409                    A                  I                0   No Deposit   \n",
       "3181                    A                  C                0   No Deposit   \n",
       "3684                    A                  A                1   No Deposit   \n",
       "3708                    A                  C                1   No Deposit   \n",
       "...                   ...                ...              ...          ...   \n",
       "115029                  A                  A                1   No Deposit   \n",
       "115091                  E                  K                0   No Deposit   \n",
       "116251                  A                  K                2   No Deposit   \n",
       "116534                  A                  K                1   No Deposit   \n",
       "117087                  A                  A                0   No Deposit   \n",
       "\n",
       "        agent  company  days_in_waiting_list    customer_type     adr  \\\n",
       "2224      0.0    174.0                     0  Transient-Party    0.00   \n",
       "2409      0.0    174.0                     0        Transient    0.00   \n",
       "3181     38.0      0.0                     0  Transient-Party    0.00   \n",
       "3684    308.0      0.0                   122  Transient-Party    0.00   \n",
       "3708    308.0      0.0                   122  Transient-Party    0.00   \n",
       "...       ...      ...                   ...              ...     ...   \n",
       "115029    7.0      0.0                     0        Transient  100.80   \n",
       "115091    0.0      0.0                     0        Transient    0.00   \n",
       "116251  425.0      0.0                     0        Transient   73.80   \n",
       "116534    9.0      0.0                     0  Transient-Party   22.86   \n",
       "117087   52.0      0.0                     0        Transient    0.00   \n",
       "\n",
       "        required_car_parking_spaces  total_of_special_requests  \\\n",
       "2224                              0                          0   \n",
       "2409                              0                          0   \n",
       "3181                              0                          0   \n",
       "3684                              0                          0   \n",
       "3708                              0                          0   \n",
       "...                             ...                        ...   \n",
       "115029                            0                          0   \n",
       "115091                            1                          1   \n",
       "116251                            0                          0   \n",
       "116534                            0                          1   \n",
       "117087                            0                          0   \n",
       "\n",
       "       reservation_status reservation_status_date  \n",
       "2224            Check-Out               10/6/2015  \n",
       "2409            Check-Out              10/12/2015  \n",
       "3181            Check-Out              11/23/2015  \n",
       "3684            Check-Out                1/4/2016  \n",
       "3708            Check-Out                1/5/2016  \n",
       "...                   ...                     ...  \n",
       "115029          Check-Out               6/30/2017  \n",
       "115091          Check-Out                7/1/2017  \n",
       "116251          Check-Out               7/17/2017  \n",
       "116534          Check-Out               7/22/2017  \n",
       "117087          Check-Out               7/29/2017  \n",
       "\n",
       "[180 rows x 32 columns]"
      ]
     },
     "execution_count": 149,
     "metadata": {},
     "output_type": "execute_result"
    }
   ],
   "source": [
    "filter = (df['children']==0)&(df['adults']==0)&(df['babies']==0)\n",
    "df[filter]"
   ]
  },
  {
   "cell_type": "code",
   "execution_count": 150,
   "id": "ed43eefe",
   "metadata": {},
   "outputs": [
    {
     "data": {
      "text/html": [
       "<div>\n",
       "<style scoped>\n",
       "    .dataframe tbody tr th:only-of-type {\n",
       "        vertical-align: middle;\n",
       "    }\n",
       "\n",
       "    .dataframe tbody tr th {\n",
       "        vertical-align: top;\n",
       "    }\n",
       "\n",
       "    .dataframe thead th {\n",
       "        text-align: right;\n",
       "    }\n",
       "</style>\n",
       "<table border=\"1\" class=\"dataframe\">\n",
       "  <thead>\n",
       "    <tr style=\"text-align: right;\">\n",
       "      <th></th>\n",
       "      <th>hotel</th>\n",
       "      <th>is_canceled</th>\n",
       "      <th>lead_time</th>\n",
       "      <th>arrival_date_year</th>\n",
       "      <th>arrival_date_month</th>\n",
       "      <th>arrival_date_week_number</th>\n",
       "      <th>arrival_date_day_of_month</th>\n",
       "      <th>stays_in_weekend_nights</th>\n",
       "      <th>stays_in_week_nights</th>\n",
       "      <th>adults</th>\n",
       "      <th>children</th>\n",
       "      <th>babies</th>\n",
       "      <th>meal</th>\n",
       "      <th>country</th>\n",
       "      <th>market_segment</th>\n",
       "      <th>distribution_channel</th>\n",
       "      <th>is_repeated_guest</th>\n",
       "      <th>previous_cancellations</th>\n",
       "      <th>previous_bookings_not_canceled</th>\n",
       "      <th>reserved_room_type</th>\n",
       "      <th>assigned_room_type</th>\n",
       "      <th>booking_changes</th>\n",
       "      <th>deposit_type</th>\n",
       "      <th>agent</th>\n",
       "      <th>company</th>\n",
       "      <th>days_in_waiting_list</th>\n",
       "      <th>customer_type</th>\n",
       "      <th>adr</th>\n",
       "      <th>required_car_parking_spaces</th>\n",
       "      <th>total_of_special_requests</th>\n",
       "      <th>reservation_status</th>\n",
       "      <th>reservation_status_date</th>\n",
       "    </tr>\n",
       "  </thead>\n",
       "  <tbody>\n",
       "    <tr>\n",
       "      <th>0</th>\n",
       "      <td>Resort Hotel</td>\n",
       "      <td>0</td>\n",
       "      <td>342</td>\n",
       "      <td>2015</td>\n",
       "      <td>July</td>\n",
       "      <td>27</td>\n",
       "      <td>1</td>\n",
       "      <td>0</td>\n",
       "      <td>0</td>\n",
       "      <td>2</td>\n",
       "      <td>0.0</td>\n",
       "      <td>0</td>\n",
       "      <td>BB</td>\n",
       "      <td>PRT</td>\n",
       "      <td>Direct</td>\n",
       "      <td>Direct</td>\n",
       "      <td>0</td>\n",
       "      <td>0</td>\n",
       "      <td>0</td>\n",
       "      <td>C</td>\n",
       "      <td>C</td>\n",
       "      <td>3</td>\n",
       "      <td>No Deposit</td>\n",
       "      <td>0.0</td>\n",
       "      <td>0.0</td>\n",
       "      <td>0</td>\n",
       "      <td>Transient</td>\n",
       "      <td>0.0</td>\n",
       "      <td>0</td>\n",
       "      <td>0</td>\n",
       "      <td>Check-Out</td>\n",
       "      <td>7/1/2015</td>\n",
       "    </tr>\n",
       "    <tr>\n",
       "      <th>1</th>\n",
       "      <td>Resort Hotel</td>\n",
       "      <td>0</td>\n",
       "      <td>737</td>\n",
       "      <td>2015</td>\n",
       "      <td>July</td>\n",
       "      <td>27</td>\n",
       "      <td>1</td>\n",
       "      <td>0</td>\n",
       "      <td>0</td>\n",
       "      <td>2</td>\n",
       "      <td>0.0</td>\n",
       "      <td>0</td>\n",
       "      <td>BB</td>\n",
       "      <td>PRT</td>\n",
       "      <td>Direct</td>\n",
       "      <td>Direct</td>\n",
       "      <td>0</td>\n",
       "      <td>0</td>\n",
       "      <td>0</td>\n",
       "      <td>C</td>\n",
       "      <td>C</td>\n",
       "      <td>4</td>\n",
       "      <td>No Deposit</td>\n",
       "      <td>0.0</td>\n",
       "      <td>0.0</td>\n",
       "      <td>0</td>\n",
       "      <td>Transient</td>\n",
       "      <td>0.0</td>\n",
       "      <td>0</td>\n",
       "      <td>0</td>\n",
       "      <td>Check-Out</td>\n",
       "      <td>7/1/2015</td>\n",
       "    </tr>\n",
       "    <tr>\n",
       "      <th>2</th>\n",
       "      <td>Resort Hotel</td>\n",
       "      <td>0</td>\n",
       "      <td>7</td>\n",
       "      <td>2015</td>\n",
       "      <td>July</td>\n",
       "      <td>27</td>\n",
       "      <td>1</td>\n",
       "      <td>0</td>\n",
       "      <td>1</td>\n",
       "      <td>1</td>\n",
       "      <td>0.0</td>\n",
       "      <td>0</td>\n",
       "      <td>BB</td>\n",
       "      <td>GBR</td>\n",
       "      <td>Direct</td>\n",
       "      <td>Direct</td>\n",
       "      <td>0</td>\n",
       "      <td>0</td>\n",
       "      <td>0</td>\n",
       "      <td>A</td>\n",
       "      <td>C</td>\n",
       "      <td>0</td>\n",
       "      <td>No Deposit</td>\n",
       "      <td>0.0</td>\n",
       "      <td>0.0</td>\n",
       "      <td>0</td>\n",
       "      <td>Transient</td>\n",
       "      <td>75.0</td>\n",
       "      <td>0</td>\n",
       "      <td>0</td>\n",
       "      <td>Check-Out</td>\n",
       "      <td>7/2/2015</td>\n",
       "    </tr>\n",
       "    <tr>\n",
       "      <th>3</th>\n",
       "      <td>Resort Hotel</td>\n",
       "      <td>0</td>\n",
       "      <td>13</td>\n",
       "      <td>2015</td>\n",
       "      <td>July</td>\n",
       "      <td>27</td>\n",
       "      <td>1</td>\n",
       "      <td>0</td>\n",
       "      <td>1</td>\n",
       "      <td>1</td>\n",
       "      <td>0.0</td>\n",
       "      <td>0</td>\n",
       "      <td>BB</td>\n",
       "      <td>GBR</td>\n",
       "      <td>Corporate</td>\n",
       "      <td>Corporate</td>\n",
       "      <td>0</td>\n",
       "      <td>0</td>\n",
       "      <td>0</td>\n",
       "      <td>A</td>\n",
       "      <td>A</td>\n",
       "      <td>0</td>\n",
       "      <td>No Deposit</td>\n",
       "      <td>304.0</td>\n",
       "      <td>0.0</td>\n",
       "      <td>0</td>\n",
       "      <td>Transient</td>\n",
       "      <td>75.0</td>\n",
       "      <td>0</td>\n",
       "      <td>0</td>\n",
       "      <td>Check-Out</td>\n",
       "      <td>7/2/2015</td>\n",
       "    </tr>\n",
       "    <tr>\n",
       "      <th>4</th>\n",
       "      <td>Resort Hotel</td>\n",
       "      <td>0</td>\n",
       "      <td>14</td>\n",
       "      <td>2015</td>\n",
       "      <td>July</td>\n",
       "      <td>27</td>\n",
       "      <td>1</td>\n",
       "      <td>0</td>\n",
       "      <td>2</td>\n",
       "      <td>2</td>\n",
       "      <td>0.0</td>\n",
       "      <td>0</td>\n",
       "      <td>BB</td>\n",
       "      <td>GBR</td>\n",
       "      <td>Online TA</td>\n",
       "      <td>TA/TO</td>\n",
       "      <td>0</td>\n",
       "      <td>0</td>\n",
       "      <td>0</td>\n",
       "      <td>A</td>\n",
       "      <td>A</td>\n",
       "      <td>0</td>\n",
       "      <td>No Deposit</td>\n",
       "      <td>240.0</td>\n",
       "      <td>0.0</td>\n",
       "      <td>0</td>\n",
       "      <td>Transient</td>\n",
       "      <td>98.0</td>\n",
       "      <td>0</td>\n",
       "      <td>1</td>\n",
       "      <td>Check-Out</td>\n",
       "      <td>7/3/2015</td>\n",
       "    </tr>\n",
       "  </tbody>\n",
       "</table>\n",
       "</div>"
      ],
      "text/plain": [
       "          hotel  is_canceled  lead_time  arrival_date_year arrival_date_month  \\\n",
       "0  Resort Hotel            0        342               2015               July   \n",
       "1  Resort Hotel            0        737               2015               July   \n",
       "2  Resort Hotel            0          7               2015               July   \n",
       "3  Resort Hotel            0         13               2015               July   \n",
       "4  Resort Hotel            0         14               2015               July   \n",
       "\n",
       "   arrival_date_week_number  arrival_date_day_of_month  \\\n",
       "0                        27                          1   \n",
       "1                        27                          1   \n",
       "2                        27                          1   \n",
       "3                        27                          1   \n",
       "4                        27                          1   \n",
       "\n",
       "   stays_in_weekend_nights  stays_in_week_nights  adults  children  babies  \\\n",
       "0                        0                     0       2       0.0       0   \n",
       "1                        0                     0       2       0.0       0   \n",
       "2                        0                     1       1       0.0       0   \n",
       "3                        0                     1       1       0.0       0   \n",
       "4                        0                     2       2       0.0       0   \n",
       "\n",
       "  meal country market_segment distribution_channel  is_repeated_guest  \\\n",
       "0   BB     PRT         Direct               Direct                  0   \n",
       "1   BB     PRT         Direct               Direct                  0   \n",
       "2   BB     GBR         Direct               Direct                  0   \n",
       "3   BB     GBR      Corporate            Corporate                  0   \n",
       "4   BB     GBR      Online TA                TA/TO                  0   \n",
       "\n",
       "   previous_cancellations  previous_bookings_not_canceled reserved_room_type  \\\n",
       "0                       0                               0                  C   \n",
       "1                       0                               0                  C   \n",
       "2                       0                               0                  A   \n",
       "3                       0                               0                  A   \n",
       "4                       0                               0                  A   \n",
       "\n",
       "  assigned_room_type  booking_changes deposit_type  agent  company  \\\n",
       "0                  C                3   No Deposit    0.0      0.0   \n",
       "1                  C                4   No Deposit    0.0      0.0   \n",
       "2                  C                0   No Deposit    0.0      0.0   \n",
       "3                  A                0   No Deposit  304.0      0.0   \n",
       "4                  A                0   No Deposit  240.0      0.0   \n",
       "\n",
       "   days_in_waiting_list customer_type   adr  required_car_parking_spaces  \\\n",
       "0                     0     Transient   0.0                            0   \n",
       "1                     0     Transient   0.0                            0   \n",
       "2                     0     Transient  75.0                            0   \n",
       "3                     0     Transient  75.0                            0   \n",
       "4                     0     Transient  98.0                            0   \n",
       "\n",
       "   total_of_special_requests reservation_status reservation_status_date  \n",
       "0                          0          Check-Out                7/1/2015  \n",
       "1                          0          Check-Out                7/1/2015  \n",
       "2                          0          Check-Out                7/2/2015  \n",
       "3                          0          Check-Out                7/2/2015  \n",
       "4                          1          Check-Out                7/3/2015  "
      ]
     },
     "execution_count": 150,
     "metadata": {},
     "output_type": "execute_result"
    }
   ],
   "source": [
    "data = df[~filter]\n",
    "data.head()"
   ]
  },
  {
   "cell_type": "code",
   "execution_count": 151,
   "id": "1a5ac360",
   "metadata": {},
   "outputs": [],
   "source": [
    "country_wise_data=data[data['is_canceled']==0]['country'].value_counts().reset_index()"
   ]
  },
  {
   "cell_type": "code",
   "execution_count": 152,
   "id": "095e0bf9",
   "metadata": {},
   "outputs": [
    {
     "name": "stdout",
     "output_type": "stream",
     "text": [
      "    Country  No of guests\n",
      "0       PRT         20977\n",
      "1       GBR          9668\n",
      "2       FRA          8468\n",
      "3       ESP          6383\n",
      "4       DEU          6067\n",
      "..      ...           ...\n",
      "161     BHR             1\n",
      "162     DJI             1\n",
      "163     MLI             1\n",
      "164     NPL             1\n",
      "165     FRO             1\n",
      "\n",
      "[166 rows x 2 columns]\n"
     ]
    }
   ],
   "source": [
    "country_wise_data.columns = ['Country','No of guests']\n",
    "print(country_wise_data)"
   ]
  },
  {
   "cell_type": "code",
   "execution_count": 153,
   "id": "202540a6",
   "metadata": {},
   "outputs": [
    {
     "name": "stdout",
     "output_type": "stream",
     "text": [
      "Requirement already satisfied: folium in c:\\programdata\\anaconda3\\lib\\site-packages (0.12.1.post1)\n",
      "Requirement already satisfied: jinja2>=2.9 in c:\\programdata\\anaconda3\\lib\\site-packages (from folium) (2.11.3)\n",
      "Requirement already satisfied: requests in c:\\programdata\\anaconda3\\lib\\site-packages (from folium) (2.26.0)\n",
      "Requirement already satisfied: numpy in c:\\programdata\\anaconda3\\lib\\site-packages (from folium) (1.20.3)\n",
      "Requirement already satisfied: branca>=0.3.0 in c:\\programdata\\anaconda3\\lib\\site-packages (from folium) (0.4.2)\n",
      "Requirement already satisfied: MarkupSafe>=0.23 in c:\\programdata\\anaconda3\\lib\\site-packages (from jinja2>=2.9->folium) (1.1.1)\n",
      "Requirement already satisfied: certifi>=2017.4.17 in c:\\programdata\\anaconda3\\lib\\site-packages (from requests->folium) (2021.10.8)\n",
      "Requirement already satisfied: charset-normalizer~=2.0.0 in c:\\programdata\\anaconda3\\lib\\site-packages (from requests->folium) (2.0.4)\n",
      "Requirement already satisfied: idna<4,>=2.5 in c:\\programdata\\anaconda3\\lib\\site-packages (from requests->folium) (3.2)\n",
      "Requirement already satisfied: urllib3<1.27,>=1.21.1 in c:\\programdata\\anaconda3\\lib\\site-packages (from requests->folium) (1.26.7)\n"
     ]
    }
   ],
   "source": [
    "!pip install folium"
   ]
  },
  {
   "cell_type": "code",
   "execution_count": 154,
   "id": "e83e74bf",
   "metadata": {},
   "outputs": [],
   "source": [
    "import folium\n",
    "from folium.plugins import HeatMap"
   ]
  },
  {
   "cell_type": "code",
   "execution_count": 155,
   "id": "f3a71c29",
   "metadata": {},
   "outputs": [
    {
     "data": {
      "text/html": [
       "<div style=\"width:100%;\"><div style=\"position:relative;width:100%;height:0;padding-bottom:60%;\"><span style=\"color:#565656\">Make this Notebook Trusted to load map: File -> Trust Notebook</span><iframe src=\"about:blank\" style=\"position:absolute;width:100%;height:100%;left:0;top:0;border:none !important;\" data-html=%3C%21DOCTYPE%20html%3E%0A%3Chead%3E%20%20%20%20%0A%20%20%20%20%3Cmeta%20http-equiv%3D%22content-type%22%20content%3D%22text/html%3B%20charset%3DUTF-8%22%20/%3E%0A%20%20%20%20%0A%20%20%20%20%20%20%20%20%3Cscript%3E%0A%20%20%20%20%20%20%20%20%20%20%20%20L_NO_TOUCH%20%3D%20false%3B%0A%20%20%20%20%20%20%20%20%20%20%20%20L_DISABLE_3D%20%3D%20false%3B%0A%20%20%20%20%20%20%20%20%3C/script%3E%0A%20%20%20%20%0A%20%20%20%20%3Cstyle%3Ehtml%2C%20body%20%7Bwidth%3A%20100%25%3Bheight%3A%20100%25%3Bmargin%3A%200%3Bpadding%3A%200%3B%7D%3C/style%3E%0A%20%20%20%20%3Cstyle%3E%23map%20%7Bposition%3Aabsolute%3Btop%3A0%3Bbottom%3A0%3Bright%3A0%3Bleft%3A0%3B%7D%3C/style%3E%0A%20%20%20%20%3Cscript%20src%3D%22https%3A//cdn.jsdelivr.net/npm/leaflet%401.6.0/dist/leaflet.js%22%3E%3C/script%3E%0A%20%20%20%20%3Cscript%20src%3D%22https%3A//code.jquery.com/jquery-1.12.4.min.js%22%3E%3C/script%3E%0A%20%20%20%20%3Cscript%20src%3D%22https%3A//maxcdn.bootstrapcdn.com/bootstrap/3.2.0/js/bootstrap.min.js%22%3E%3C/script%3E%0A%20%20%20%20%3Cscript%20src%3D%22https%3A//cdnjs.cloudflare.com/ajax/libs/Leaflet.awesome-markers/2.0.2/leaflet.awesome-markers.js%22%3E%3C/script%3E%0A%20%20%20%20%3Clink%20rel%3D%22stylesheet%22%20href%3D%22https%3A//cdn.jsdelivr.net/npm/leaflet%401.6.0/dist/leaflet.css%22/%3E%0A%20%20%20%20%3Clink%20rel%3D%22stylesheet%22%20href%3D%22https%3A//maxcdn.bootstrapcdn.com/bootstrap/3.2.0/css/bootstrap.min.css%22/%3E%0A%20%20%20%20%3Clink%20rel%3D%22stylesheet%22%20href%3D%22https%3A//maxcdn.bootstrapcdn.com/bootstrap/3.2.0/css/bootstrap-theme.min.css%22/%3E%0A%20%20%20%20%3Clink%20rel%3D%22stylesheet%22%20href%3D%22https%3A//maxcdn.bootstrapcdn.com/font-awesome/4.6.3/css/font-awesome.min.css%22/%3E%0A%20%20%20%20%3Clink%20rel%3D%22stylesheet%22%20href%3D%22https%3A//cdnjs.cloudflare.com/ajax/libs/Leaflet.awesome-markers/2.0.2/leaflet.awesome-markers.css%22/%3E%0A%20%20%20%20%3Clink%20rel%3D%22stylesheet%22%20href%3D%22https%3A//cdn.jsdelivr.net/gh/python-visualization/folium/folium/templates/leaflet.awesome.rotate.min.css%22/%3E%0A%20%20%20%20%0A%20%20%20%20%20%20%20%20%20%20%20%20%3Cmeta%20name%3D%22viewport%22%20content%3D%22width%3Ddevice-width%2C%0A%20%20%20%20%20%20%20%20%20%20%20%20%20%20%20%20initial-scale%3D1.0%2C%20maximum-scale%3D1.0%2C%20user-scalable%3Dno%22%20/%3E%0A%20%20%20%20%20%20%20%20%20%20%20%20%3Cstyle%3E%0A%20%20%20%20%20%20%20%20%20%20%20%20%20%20%20%20%23map_17860709e36d42d7ac857cc453520f44%20%7B%0A%20%20%20%20%20%20%20%20%20%20%20%20%20%20%20%20%20%20%20%20position%3A%20relative%3B%0A%20%20%20%20%20%20%20%20%20%20%20%20%20%20%20%20%20%20%20%20width%3A%20100.0%25%3B%0A%20%20%20%20%20%20%20%20%20%20%20%20%20%20%20%20%20%20%20%20height%3A%20100.0%25%3B%0A%20%20%20%20%20%20%20%20%20%20%20%20%20%20%20%20%20%20%20%20left%3A%200.0%25%3B%0A%20%20%20%20%20%20%20%20%20%20%20%20%20%20%20%20%20%20%20%20top%3A%200.0%25%3B%0A%20%20%20%20%20%20%20%20%20%20%20%20%20%20%20%20%7D%0A%20%20%20%20%20%20%20%20%20%20%20%20%3C/style%3E%0A%20%20%20%20%20%20%20%20%0A%3C/head%3E%0A%3Cbody%3E%20%20%20%20%0A%20%20%20%20%0A%20%20%20%20%20%20%20%20%20%20%20%20%3Cdiv%20class%3D%22folium-map%22%20id%3D%22map_17860709e36d42d7ac857cc453520f44%22%20%3E%3C/div%3E%0A%20%20%20%20%20%20%20%20%0A%3C/body%3E%0A%3Cscript%3E%20%20%20%20%0A%20%20%20%20%0A%20%20%20%20%20%20%20%20%20%20%20%20var%20map_17860709e36d42d7ac857cc453520f44%20%3D%20L.map%28%0A%20%20%20%20%20%20%20%20%20%20%20%20%20%20%20%20%22map_17860709e36d42d7ac857cc453520f44%22%2C%0A%20%20%20%20%20%20%20%20%20%20%20%20%20%20%20%20%7B%0A%20%20%20%20%20%20%20%20%20%20%20%20%20%20%20%20%20%20%20%20center%3A%20%5B0%2C%200%5D%2C%0A%20%20%20%20%20%20%20%20%20%20%20%20%20%20%20%20%20%20%20%20crs%3A%20L.CRS.EPSG3857%2C%0A%20%20%20%20%20%20%20%20%20%20%20%20%20%20%20%20%20%20%20%20zoom%3A%201%2C%0A%20%20%20%20%20%20%20%20%20%20%20%20%20%20%20%20%20%20%20%20zoomControl%3A%20true%2C%0A%20%20%20%20%20%20%20%20%20%20%20%20%20%20%20%20%20%20%20%20preferCanvas%3A%20false%2C%0A%20%20%20%20%20%20%20%20%20%20%20%20%20%20%20%20%7D%0A%20%20%20%20%20%20%20%20%20%20%20%20%29%3B%0A%0A%20%20%20%20%20%20%20%20%20%20%20%20%0A%0A%20%20%20%20%20%20%20%20%0A%20%20%20%20%0A%20%20%20%20%20%20%20%20%20%20%20%20var%20tile_layer_239864088f79482db883aa50bbc73b43%20%3D%20L.tileLayer%28%0A%20%20%20%20%20%20%20%20%20%20%20%20%20%20%20%20%22https%3A//%7Bs%7D.tile.openstreetmap.org/%7Bz%7D/%7Bx%7D/%7By%7D.png%22%2C%0A%20%20%20%20%20%20%20%20%20%20%20%20%20%20%20%20%7B%22attribution%22%3A%20%22Data%20by%20%5Cu0026copy%3B%20%5Cu003ca%20href%3D%5C%22http%3A//openstreetmap.org%5C%22%5Cu003eOpenStreetMap%5Cu003c/a%5Cu003e%2C%20under%20%5Cu003ca%20href%3D%5C%22http%3A//www.openstreetmap.org/copyright%5C%22%5Cu003eODbL%5Cu003c/a%5Cu003e.%22%2C%20%22detectRetina%22%3A%20false%2C%20%22maxNativeZoom%22%3A%2018%2C%20%22maxZoom%22%3A%2018%2C%20%22minZoom%22%3A%200%2C%20%22noWrap%22%3A%20false%2C%20%22opacity%22%3A%201%2C%20%22subdomains%22%3A%20%22abc%22%2C%20%22tms%22%3A%20false%7D%0A%20%20%20%20%20%20%20%20%20%20%20%20%29.addTo%28map_17860709e36d42d7ac857cc453520f44%29%3B%0A%20%20%20%20%20%20%20%20%0A%3C/script%3E onload=\"this.contentDocument.open();this.contentDocument.write(    decodeURIComponent(this.getAttribute('data-html')));this.contentDocument.close();\" allowfullscreen webkitallowfullscreen mozallowfullscreen></iframe></div></div>"
      ],
      "text/plain": [
       "<folium.folium.Map at 0x1e2c56a7670>"
      ]
     },
     "execution_count": 155,
     "metadata": {},
     "output_type": "execute_result"
    }
   ],
   "source": [
    "folium.Map()"
   ]
  },
  {
   "cell_type": "code",
   "execution_count": 156,
   "id": "dc8634cd",
   "metadata": {},
   "outputs": [
    {
     "name": "stdout",
     "output_type": "stream",
     "text": [
      "Requirement already satisfied: plotly in c:\\programdata\\anaconda3\\lib\\site-packages (5.4.0)\n",
      "Requirement already satisfied: six in c:\\programdata\\anaconda3\\lib\\site-packages (from plotly) (1.16.0)\n",
      "Requirement already satisfied: tenacity>=6.2.0 in c:\\programdata\\anaconda3\\lib\\site-packages (from plotly) (8.0.1)\n"
     ]
    }
   ],
   "source": [
    "!pip install plotly"
   ]
  },
  {
   "cell_type": "code",
   "execution_count": 157,
   "id": "13090567",
   "metadata": {},
   "outputs": [],
   "source": [
    "import plotly.express as px"
   ]
  },
  {
   "cell_type": "code",
   "execution_count": 158,
   "id": "e15ff067",
   "metadata": {},
   "outputs": [
    {
     "data": {
      "application/vnd.plotly.v1+json": {
       "config": {
        "plotlyServerURL": "https://plot.ly"
       },
       "data": [
        {
         "coloraxis": "coloraxis",
         "geo": "geo",
         "hovertemplate": "<b>%{hovertext}</b><br><br>Country=%{location}<br>No of guests=%{z}<extra></extra>",
         "hovertext": [
          "PRT",
          "GBR",
          "FRA",
          "ESP",
          "DEU",
          "IRL",
          "ITA",
          "BEL",
          "NLD",
          "USA",
          "BRA",
          "CHE",
          "AUT",
          "CN",
          "SWE",
          "POL",
          "CHN",
          "ISR",
          "NOR",
          0,
          "RUS",
          "FIN",
          "ROU",
          "DNK",
          "AUS",
          "LUX",
          "JPN",
          "ARG",
          "AGO",
          "HUN",
          "MAR",
          "TUR",
          "CZE",
          "IND",
          "SRB",
          "GRC",
          "DZA",
          "KOR",
          "MEX",
          "HRV",
          "LTU",
          "NZL",
          "EST",
          "BGR",
          "IRN",
          "ISL",
          "ZAF",
          "CHL",
          "COL",
          "UKR",
          "MOZ",
          "LVA",
          "SVN",
          "SVK",
          "THA",
          "CYP",
          "TWN",
          "MYS",
          "URY",
          "PER",
          "SGP",
          "LBN",
          "EGY",
          "TUN",
          "ECU",
          "JOR",
          "CRI",
          "BLR",
          "PHL",
          "SAU",
          "OMN",
          "IRQ",
          "VEN",
          "KAZ",
          "NGA",
          "MLT",
          "CPV",
          "IDN",
          "CMR",
          "BIH",
          "PRI",
          "ALB",
          "KWT",
          "BOL",
          "PAN",
          "ARE",
          "GNB",
          "MKD",
          "LBY",
          "CUB",
          "AZE",
          "GEO",
          "GIB",
          "LKA",
          "VNM",
          "MUS",
          "ARM",
          "JAM",
          "DOM",
          "CAF",
          "SUR",
          "PAK",
          "GTM",
          "KEN",
          "BRB",
          "CIV",
          "PRY",
          "QAT",
          "SYR",
          "MCO",
          "SEN",
          "HKG",
          "BGD",
          "MNE",
          "MDV",
          "ABW",
          "RWA",
          "SLV",
          "TZA",
          "GAB",
          "TMP",
          "GHA",
          "ATA",
          "LIE",
          "LAO",
          "MWI",
          "ETH",
          "TGO",
          "ZWE",
          "COM",
          "AND",
          "UZB",
          "UGA",
          "STP",
          "KNA",
          "MAC",
          "MRT",
          "BWA",
          "SMR",
          "ZMB",
          "ASM",
          "NCL",
          "GUY",
          "KIR",
          "SDN",
          "ATF",
          "TJK",
          "SLE",
          "CYM",
          "LCA",
          "PYF",
          "BHS",
          "DMA",
          "MMR",
          "AIA",
          "BDI",
          "BFA",
          "PLW",
          "SYC",
          "MDG",
          "NAM",
          "BHR",
          "DJI",
          "MLI",
          "NPL",
          "FRO"
         ],
         "locations": [
          "PRT",
          "GBR",
          "FRA",
          "ESP",
          "DEU",
          "IRL",
          "ITA",
          "BEL",
          "NLD",
          "USA",
          "BRA",
          "CHE",
          "AUT",
          "CN",
          "SWE",
          "POL",
          "CHN",
          "ISR",
          "NOR",
          0,
          "RUS",
          "FIN",
          "ROU",
          "DNK",
          "AUS",
          "LUX",
          "JPN",
          "ARG",
          "AGO",
          "HUN",
          "MAR",
          "TUR",
          "CZE",
          "IND",
          "SRB",
          "GRC",
          "DZA",
          "KOR",
          "MEX",
          "HRV",
          "LTU",
          "NZL",
          "EST",
          "BGR",
          "IRN",
          "ISL",
          "ZAF",
          "CHL",
          "COL",
          "UKR",
          "MOZ",
          "LVA",
          "SVN",
          "SVK",
          "THA",
          "CYP",
          "TWN",
          "MYS",
          "URY",
          "PER",
          "SGP",
          "LBN",
          "EGY",
          "TUN",
          "ECU",
          "JOR",
          "CRI",
          "BLR",
          "PHL",
          "SAU",
          "OMN",
          "IRQ",
          "VEN",
          "KAZ",
          "NGA",
          "MLT",
          "CPV",
          "IDN",
          "CMR",
          "BIH",
          "PRI",
          "ALB",
          "KWT",
          "BOL",
          "PAN",
          "ARE",
          "GNB",
          "MKD",
          "LBY",
          "CUB",
          "AZE",
          "GEO",
          "GIB",
          "LKA",
          "VNM",
          "MUS",
          "ARM",
          "JAM",
          "DOM",
          "CAF",
          "SUR",
          "PAK",
          "GTM",
          "KEN",
          "BRB",
          "CIV",
          "PRY",
          "QAT",
          "SYR",
          "MCO",
          "SEN",
          "HKG",
          "BGD",
          "MNE",
          "MDV",
          "ABW",
          "RWA",
          "SLV",
          "TZA",
          "GAB",
          "TMP",
          "GHA",
          "ATA",
          "LIE",
          "LAO",
          "MWI",
          "ETH",
          "TGO",
          "ZWE",
          "COM",
          "AND",
          "UZB",
          "UGA",
          "STP",
          "KNA",
          "MAC",
          "MRT",
          "BWA",
          "SMR",
          "ZMB",
          "ASM",
          "NCL",
          "GUY",
          "KIR",
          "SDN",
          "ATF",
          "TJK",
          "SLE",
          "CYM",
          "LCA",
          "PYF",
          "BHS",
          "DMA",
          "MMR",
          "AIA",
          "BDI",
          "BFA",
          "PLW",
          "SYC",
          "MDG",
          "NAM",
          "BHR",
          "DJI",
          "MLI",
          "NPL",
          "FRO"
         ],
         "name": "",
         "type": "choropleth",
         "z": [
          20977,
          9668,
          8468,
          6383,
          6067,
          2542,
          2428,
          1868,
          1716,
          1592,
          1392,
          1298,
          1033,
          1025,
          793,
          703,
          537,
          500,
          426,
          421,
          391,
          377,
          366,
          326,
          319,
          177,
          169,
          160,
          157,
          153,
          150,
          146,
          134,
          116,
          98,
          93,
          82,
          78,
          75,
          75,
          74,
          68,
          65,
          63,
          59,
          53,
          49,
          49,
          48,
          48,
          48,
          46,
          41,
          41,
          41,
          40,
          37,
          25,
          23,
          23,
          22,
          22,
          21,
          20,
          19,
          18,
          18,
          17,
          15,
          15,
          14,
          14,
          14,
          14,
          13,
          13,
          12,
          11,
          10,
          10,
          10,
          10,
          10,
          10,
          9,
          8,
          8,
          8,
          8,
          8,
          8,
          7,
          7,
          7,
          6,
          6,
          6,
          6,
          6,
          5,
          5,
          5,
          4,
          4,
          4,
          4,
          4,
          4,
          3,
          3,
          3,
          3,
          3,
          3,
          3,
          2,
          2,
          2,
          2,
          2,
          2,
          2,
          2,
          2,
          2,
          2,
          2,
          2,
          2,
          2,
          2,
          2,
          2,
          2,
          2,
          1,
          1,
          1,
          1,
          1,
          1,
          1,
          1,
          1,
          1,
          1,
          1,
          1,
          1,
          1,
          1,
          1,
          1,
          1,
          1,
          1,
          1,
          1,
          1,
          1,
          1,
          1,
          1,
          1,
          1,
          1
         ]
        }
       ],
       "layout": {
        "coloraxis": {
         "colorbar": {
          "title": {
           "text": "No of guests"
          }
         },
         "colorscale": [
          [
           0,
           "#0d0887"
          ],
          [
           0.1111111111111111,
           "#46039f"
          ],
          [
           0.2222222222222222,
           "#7201a8"
          ],
          [
           0.3333333333333333,
           "#9c179e"
          ],
          [
           0.4444444444444444,
           "#bd3786"
          ],
          [
           0.5555555555555556,
           "#d8576b"
          ],
          [
           0.6666666666666666,
           "#ed7953"
          ],
          [
           0.7777777777777778,
           "#fb9f3a"
          ],
          [
           0.8888888888888888,
           "#fdca26"
          ],
          [
           1,
           "#f0f921"
          ]
         ]
        },
        "geo": {
         "center": {},
         "domain": {
          "x": [
           0,
           1
          ],
          "y": [
           0,
           1
          ]
         }
        },
        "legend": {
         "tracegroupgap": 0
        },
        "template": {
         "data": {
          "bar": [
           {
            "error_x": {
             "color": "#2a3f5f"
            },
            "error_y": {
             "color": "#2a3f5f"
            },
            "marker": {
             "line": {
              "color": "#E5ECF6",
              "width": 0.5
             },
             "pattern": {
              "fillmode": "overlay",
              "size": 10,
              "solidity": 0.2
             }
            },
            "type": "bar"
           }
          ],
          "barpolar": [
           {
            "marker": {
             "line": {
              "color": "#E5ECF6",
              "width": 0.5
             },
             "pattern": {
              "fillmode": "overlay",
              "size": 10,
              "solidity": 0.2
             }
            },
            "type": "barpolar"
           }
          ],
          "carpet": [
           {
            "aaxis": {
             "endlinecolor": "#2a3f5f",
             "gridcolor": "white",
             "linecolor": "white",
             "minorgridcolor": "white",
             "startlinecolor": "#2a3f5f"
            },
            "baxis": {
             "endlinecolor": "#2a3f5f",
             "gridcolor": "white",
             "linecolor": "white",
             "minorgridcolor": "white",
             "startlinecolor": "#2a3f5f"
            },
            "type": "carpet"
           }
          ],
          "choropleth": [
           {
            "colorbar": {
             "outlinewidth": 0,
             "ticks": ""
            },
            "type": "choropleth"
           }
          ],
          "contour": [
           {
            "colorbar": {
             "outlinewidth": 0,
             "ticks": ""
            },
            "colorscale": [
             [
              0,
              "#0d0887"
             ],
             [
              0.1111111111111111,
              "#46039f"
             ],
             [
              0.2222222222222222,
              "#7201a8"
             ],
             [
              0.3333333333333333,
              "#9c179e"
             ],
             [
              0.4444444444444444,
              "#bd3786"
             ],
             [
              0.5555555555555556,
              "#d8576b"
             ],
             [
              0.6666666666666666,
              "#ed7953"
             ],
             [
              0.7777777777777778,
              "#fb9f3a"
             ],
             [
              0.8888888888888888,
              "#fdca26"
             ],
             [
              1,
              "#f0f921"
             ]
            ],
            "type": "contour"
           }
          ],
          "contourcarpet": [
           {
            "colorbar": {
             "outlinewidth": 0,
             "ticks": ""
            },
            "type": "contourcarpet"
           }
          ],
          "heatmap": [
           {
            "colorbar": {
             "outlinewidth": 0,
             "ticks": ""
            },
            "colorscale": [
             [
              0,
              "#0d0887"
             ],
             [
              0.1111111111111111,
              "#46039f"
             ],
             [
              0.2222222222222222,
              "#7201a8"
             ],
             [
              0.3333333333333333,
              "#9c179e"
             ],
             [
              0.4444444444444444,
              "#bd3786"
             ],
             [
              0.5555555555555556,
              "#d8576b"
             ],
             [
              0.6666666666666666,
              "#ed7953"
             ],
             [
              0.7777777777777778,
              "#fb9f3a"
             ],
             [
              0.8888888888888888,
              "#fdca26"
             ],
             [
              1,
              "#f0f921"
             ]
            ],
            "type": "heatmap"
           }
          ],
          "heatmapgl": [
           {
            "colorbar": {
             "outlinewidth": 0,
             "ticks": ""
            },
            "colorscale": [
             [
              0,
              "#0d0887"
             ],
             [
              0.1111111111111111,
              "#46039f"
             ],
             [
              0.2222222222222222,
              "#7201a8"
             ],
             [
              0.3333333333333333,
              "#9c179e"
             ],
             [
              0.4444444444444444,
              "#bd3786"
             ],
             [
              0.5555555555555556,
              "#d8576b"
             ],
             [
              0.6666666666666666,
              "#ed7953"
             ],
             [
              0.7777777777777778,
              "#fb9f3a"
             ],
             [
              0.8888888888888888,
              "#fdca26"
             ],
             [
              1,
              "#f0f921"
             ]
            ],
            "type": "heatmapgl"
           }
          ],
          "histogram": [
           {
            "marker": {
             "pattern": {
              "fillmode": "overlay",
              "size": 10,
              "solidity": 0.2
             }
            },
            "type": "histogram"
           }
          ],
          "histogram2d": [
           {
            "colorbar": {
             "outlinewidth": 0,
             "ticks": ""
            },
            "colorscale": [
             [
              0,
              "#0d0887"
             ],
             [
              0.1111111111111111,
              "#46039f"
             ],
             [
              0.2222222222222222,
              "#7201a8"
             ],
             [
              0.3333333333333333,
              "#9c179e"
             ],
             [
              0.4444444444444444,
              "#bd3786"
             ],
             [
              0.5555555555555556,
              "#d8576b"
             ],
             [
              0.6666666666666666,
              "#ed7953"
             ],
             [
              0.7777777777777778,
              "#fb9f3a"
             ],
             [
              0.8888888888888888,
              "#fdca26"
             ],
             [
              1,
              "#f0f921"
             ]
            ],
            "type": "histogram2d"
           }
          ],
          "histogram2dcontour": [
           {
            "colorbar": {
             "outlinewidth": 0,
             "ticks": ""
            },
            "colorscale": [
             [
              0,
              "#0d0887"
             ],
             [
              0.1111111111111111,
              "#46039f"
             ],
             [
              0.2222222222222222,
              "#7201a8"
             ],
             [
              0.3333333333333333,
              "#9c179e"
             ],
             [
              0.4444444444444444,
              "#bd3786"
             ],
             [
              0.5555555555555556,
              "#d8576b"
             ],
             [
              0.6666666666666666,
              "#ed7953"
             ],
             [
              0.7777777777777778,
              "#fb9f3a"
             ],
             [
              0.8888888888888888,
              "#fdca26"
             ],
             [
              1,
              "#f0f921"
             ]
            ],
            "type": "histogram2dcontour"
           }
          ],
          "mesh3d": [
           {
            "colorbar": {
             "outlinewidth": 0,
             "ticks": ""
            },
            "type": "mesh3d"
           }
          ],
          "parcoords": [
           {
            "line": {
             "colorbar": {
              "outlinewidth": 0,
              "ticks": ""
             }
            },
            "type": "parcoords"
           }
          ],
          "pie": [
           {
            "automargin": true,
            "type": "pie"
           }
          ],
          "scatter": [
           {
            "marker": {
             "colorbar": {
              "outlinewidth": 0,
              "ticks": ""
             }
            },
            "type": "scatter"
           }
          ],
          "scatter3d": [
           {
            "line": {
             "colorbar": {
              "outlinewidth": 0,
              "ticks": ""
             }
            },
            "marker": {
             "colorbar": {
              "outlinewidth": 0,
              "ticks": ""
             }
            },
            "type": "scatter3d"
           }
          ],
          "scattercarpet": [
           {
            "marker": {
             "colorbar": {
              "outlinewidth": 0,
              "ticks": ""
             }
            },
            "type": "scattercarpet"
           }
          ],
          "scattergeo": [
           {
            "marker": {
             "colorbar": {
              "outlinewidth": 0,
              "ticks": ""
             }
            },
            "type": "scattergeo"
           }
          ],
          "scattergl": [
           {
            "marker": {
             "colorbar": {
              "outlinewidth": 0,
              "ticks": ""
             }
            },
            "type": "scattergl"
           }
          ],
          "scattermapbox": [
           {
            "marker": {
             "colorbar": {
              "outlinewidth": 0,
              "ticks": ""
             }
            },
            "type": "scattermapbox"
           }
          ],
          "scatterpolar": [
           {
            "marker": {
             "colorbar": {
              "outlinewidth": 0,
              "ticks": ""
             }
            },
            "type": "scatterpolar"
           }
          ],
          "scatterpolargl": [
           {
            "marker": {
             "colorbar": {
              "outlinewidth": 0,
              "ticks": ""
             }
            },
            "type": "scatterpolargl"
           }
          ],
          "scatterternary": [
           {
            "marker": {
             "colorbar": {
              "outlinewidth": 0,
              "ticks": ""
             }
            },
            "type": "scatterternary"
           }
          ],
          "surface": [
           {
            "colorbar": {
             "outlinewidth": 0,
             "ticks": ""
            },
            "colorscale": [
             [
              0,
              "#0d0887"
             ],
             [
              0.1111111111111111,
              "#46039f"
             ],
             [
              0.2222222222222222,
              "#7201a8"
             ],
             [
              0.3333333333333333,
              "#9c179e"
             ],
             [
              0.4444444444444444,
              "#bd3786"
             ],
             [
              0.5555555555555556,
              "#d8576b"
             ],
             [
              0.6666666666666666,
              "#ed7953"
             ],
             [
              0.7777777777777778,
              "#fb9f3a"
             ],
             [
              0.8888888888888888,
              "#fdca26"
             ],
             [
              1,
              "#f0f921"
             ]
            ],
            "type": "surface"
           }
          ],
          "table": [
           {
            "cells": {
             "fill": {
              "color": "#EBF0F8"
             },
             "line": {
              "color": "white"
             }
            },
            "header": {
             "fill": {
              "color": "#C8D4E3"
             },
             "line": {
              "color": "white"
             }
            },
            "type": "table"
           }
          ]
         },
         "layout": {
          "annotationdefaults": {
           "arrowcolor": "#2a3f5f",
           "arrowhead": 0,
           "arrowwidth": 1
          },
          "autotypenumbers": "strict",
          "coloraxis": {
           "colorbar": {
            "outlinewidth": 0,
            "ticks": ""
           }
          },
          "colorscale": {
           "diverging": [
            [
             0,
             "#8e0152"
            ],
            [
             0.1,
             "#c51b7d"
            ],
            [
             0.2,
             "#de77ae"
            ],
            [
             0.3,
             "#f1b6da"
            ],
            [
             0.4,
             "#fde0ef"
            ],
            [
             0.5,
             "#f7f7f7"
            ],
            [
             0.6,
             "#e6f5d0"
            ],
            [
             0.7,
             "#b8e186"
            ],
            [
             0.8,
             "#7fbc41"
            ],
            [
             0.9,
             "#4d9221"
            ],
            [
             1,
             "#276419"
            ]
           ],
           "sequential": [
            [
             0,
             "#0d0887"
            ],
            [
             0.1111111111111111,
             "#46039f"
            ],
            [
             0.2222222222222222,
             "#7201a8"
            ],
            [
             0.3333333333333333,
             "#9c179e"
            ],
            [
             0.4444444444444444,
             "#bd3786"
            ],
            [
             0.5555555555555556,
             "#d8576b"
            ],
            [
             0.6666666666666666,
             "#ed7953"
            ],
            [
             0.7777777777777778,
             "#fb9f3a"
            ],
            [
             0.8888888888888888,
             "#fdca26"
            ],
            [
             1,
             "#f0f921"
            ]
           ],
           "sequentialminus": [
            [
             0,
             "#0d0887"
            ],
            [
             0.1111111111111111,
             "#46039f"
            ],
            [
             0.2222222222222222,
             "#7201a8"
            ],
            [
             0.3333333333333333,
             "#9c179e"
            ],
            [
             0.4444444444444444,
             "#bd3786"
            ],
            [
             0.5555555555555556,
             "#d8576b"
            ],
            [
             0.6666666666666666,
             "#ed7953"
            ],
            [
             0.7777777777777778,
             "#fb9f3a"
            ],
            [
             0.8888888888888888,
             "#fdca26"
            ],
            [
             1,
             "#f0f921"
            ]
           ]
          },
          "colorway": [
           "#636efa",
           "#EF553B",
           "#00cc96",
           "#ab63fa",
           "#FFA15A",
           "#19d3f3",
           "#FF6692",
           "#B6E880",
           "#FF97FF",
           "#FECB52"
          ],
          "font": {
           "color": "#2a3f5f"
          },
          "geo": {
           "bgcolor": "white",
           "lakecolor": "white",
           "landcolor": "#E5ECF6",
           "showlakes": true,
           "showland": true,
           "subunitcolor": "white"
          },
          "hoverlabel": {
           "align": "left"
          },
          "hovermode": "closest",
          "mapbox": {
           "style": "light"
          },
          "paper_bgcolor": "white",
          "plot_bgcolor": "#E5ECF6",
          "polar": {
           "angularaxis": {
            "gridcolor": "white",
            "linecolor": "white",
            "ticks": ""
           },
           "bgcolor": "#E5ECF6",
           "radialaxis": {
            "gridcolor": "white",
            "linecolor": "white",
            "ticks": ""
           }
          },
          "scene": {
           "xaxis": {
            "backgroundcolor": "#E5ECF6",
            "gridcolor": "white",
            "gridwidth": 2,
            "linecolor": "white",
            "showbackground": true,
            "ticks": "",
            "zerolinecolor": "white"
           },
           "yaxis": {
            "backgroundcolor": "#E5ECF6",
            "gridcolor": "white",
            "gridwidth": 2,
            "linecolor": "white",
            "showbackground": true,
            "ticks": "",
            "zerolinecolor": "white"
           },
           "zaxis": {
            "backgroundcolor": "#E5ECF6",
            "gridcolor": "white",
            "gridwidth": 2,
            "linecolor": "white",
            "showbackground": true,
            "ticks": "",
            "zerolinecolor": "white"
           }
          },
          "shapedefaults": {
           "line": {
            "color": "#2a3f5f"
           }
          },
          "ternary": {
           "aaxis": {
            "gridcolor": "white",
            "linecolor": "white",
            "ticks": ""
           },
           "baxis": {
            "gridcolor": "white",
            "linecolor": "white",
            "ticks": ""
           },
           "bgcolor": "#E5ECF6",
           "caxis": {
            "gridcolor": "white",
            "linecolor": "white",
            "ticks": ""
           }
          },
          "title": {
           "x": 0.05
          },
          "xaxis": {
           "automargin": true,
           "gridcolor": "white",
           "linecolor": "white",
           "ticks": "",
           "title": {
            "standoff": 15
           },
           "zerolinecolor": "white",
           "zerolinewidth": 2
          },
          "yaxis": {
           "automargin": true,
           "gridcolor": "white",
           "linecolor": "white",
           "ticks": "",
           "title": {
            "standoff": 15
           },
           "zerolinecolor": "white",
           "zerolinewidth": 2
          }
         }
        },
        "title": {
         "text": "Home country of Guests"
        }
       }
      },
      "text/html": [
       "<div>                            <div id=\"7a862dc6-da36-419e-9431-ca17f0105e79\" class=\"plotly-graph-div\" style=\"height:525px; width:100%;\"></div>            <script type=\"text/javascript\">                require([\"plotly\"], function(Plotly) {                    window.PLOTLYENV=window.PLOTLYENV || {};                                    if (document.getElementById(\"7a862dc6-da36-419e-9431-ca17f0105e79\")) {                    Plotly.newPlot(                        \"7a862dc6-da36-419e-9431-ca17f0105e79\",                        [{\"coloraxis\":\"coloraxis\",\"geo\":\"geo\",\"hovertemplate\":\"<b>%{hovertext}</b><br><br>Country=%{location}<br>No of guests=%{z}<extra></extra>\",\"hovertext\":[\"PRT\",\"GBR\",\"FRA\",\"ESP\",\"DEU\",\"IRL\",\"ITA\",\"BEL\",\"NLD\",\"USA\",\"BRA\",\"CHE\",\"AUT\",\"CN\",\"SWE\",\"POL\",\"CHN\",\"ISR\",\"NOR\",0,\"RUS\",\"FIN\",\"ROU\",\"DNK\",\"AUS\",\"LUX\",\"JPN\",\"ARG\",\"AGO\",\"HUN\",\"MAR\",\"TUR\",\"CZE\",\"IND\",\"SRB\",\"GRC\",\"DZA\",\"KOR\",\"MEX\",\"HRV\",\"LTU\",\"NZL\",\"EST\",\"BGR\",\"IRN\",\"ISL\",\"ZAF\",\"CHL\",\"COL\",\"UKR\",\"MOZ\",\"LVA\",\"SVN\",\"SVK\",\"THA\",\"CYP\",\"TWN\",\"MYS\",\"URY\",\"PER\",\"SGP\",\"LBN\",\"EGY\",\"TUN\",\"ECU\",\"JOR\",\"CRI\",\"BLR\",\"PHL\",\"SAU\",\"OMN\",\"IRQ\",\"VEN\",\"KAZ\",\"NGA\",\"MLT\",\"CPV\",\"IDN\",\"CMR\",\"BIH\",\"PRI\",\"ALB\",\"KWT\",\"BOL\",\"PAN\",\"ARE\",\"GNB\",\"MKD\",\"LBY\",\"CUB\",\"AZE\",\"GEO\",\"GIB\",\"LKA\",\"VNM\",\"MUS\",\"ARM\",\"JAM\",\"DOM\",\"CAF\",\"SUR\",\"PAK\",\"GTM\",\"KEN\",\"BRB\",\"CIV\",\"PRY\",\"QAT\",\"SYR\",\"MCO\",\"SEN\",\"HKG\",\"BGD\",\"MNE\",\"MDV\",\"ABW\",\"RWA\",\"SLV\",\"TZA\",\"GAB\",\"TMP\",\"GHA\",\"ATA\",\"LIE\",\"LAO\",\"MWI\",\"ETH\",\"TGO\",\"ZWE\",\"COM\",\"AND\",\"UZB\",\"UGA\",\"STP\",\"KNA\",\"MAC\",\"MRT\",\"BWA\",\"SMR\",\"ZMB\",\"ASM\",\"NCL\",\"GUY\",\"KIR\",\"SDN\",\"ATF\",\"TJK\",\"SLE\",\"CYM\",\"LCA\",\"PYF\",\"BHS\",\"DMA\",\"MMR\",\"AIA\",\"BDI\",\"BFA\",\"PLW\",\"SYC\",\"MDG\",\"NAM\",\"BHR\",\"DJI\",\"MLI\",\"NPL\",\"FRO\"],\"locations\":[\"PRT\",\"GBR\",\"FRA\",\"ESP\",\"DEU\",\"IRL\",\"ITA\",\"BEL\",\"NLD\",\"USA\",\"BRA\",\"CHE\",\"AUT\",\"CN\",\"SWE\",\"POL\",\"CHN\",\"ISR\",\"NOR\",0,\"RUS\",\"FIN\",\"ROU\",\"DNK\",\"AUS\",\"LUX\",\"JPN\",\"ARG\",\"AGO\",\"HUN\",\"MAR\",\"TUR\",\"CZE\",\"IND\",\"SRB\",\"GRC\",\"DZA\",\"KOR\",\"MEX\",\"HRV\",\"LTU\",\"NZL\",\"EST\",\"BGR\",\"IRN\",\"ISL\",\"ZAF\",\"CHL\",\"COL\",\"UKR\",\"MOZ\",\"LVA\",\"SVN\",\"SVK\",\"THA\",\"CYP\",\"TWN\",\"MYS\",\"URY\",\"PER\",\"SGP\",\"LBN\",\"EGY\",\"TUN\",\"ECU\",\"JOR\",\"CRI\",\"BLR\",\"PHL\",\"SAU\",\"OMN\",\"IRQ\",\"VEN\",\"KAZ\",\"NGA\",\"MLT\",\"CPV\",\"IDN\",\"CMR\",\"BIH\",\"PRI\",\"ALB\",\"KWT\",\"BOL\",\"PAN\",\"ARE\",\"GNB\",\"MKD\",\"LBY\",\"CUB\",\"AZE\",\"GEO\",\"GIB\",\"LKA\",\"VNM\",\"MUS\",\"ARM\",\"JAM\",\"DOM\",\"CAF\",\"SUR\",\"PAK\",\"GTM\",\"KEN\",\"BRB\",\"CIV\",\"PRY\",\"QAT\",\"SYR\",\"MCO\",\"SEN\",\"HKG\",\"BGD\",\"MNE\",\"MDV\",\"ABW\",\"RWA\",\"SLV\",\"TZA\",\"GAB\",\"TMP\",\"GHA\",\"ATA\",\"LIE\",\"LAO\",\"MWI\",\"ETH\",\"TGO\",\"ZWE\",\"COM\",\"AND\",\"UZB\",\"UGA\",\"STP\",\"KNA\",\"MAC\",\"MRT\",\"BWA\",\"SMR\",\"ZMB\",\"ASM\",\"NCL\",\"GUY\",\"KIR\",\"SDN\",\"ATF\",\"TJK\",\"SLE\",\"CYM\",\"LCA\",\"PYF\",\"BHS\",\"DMA\",\"MMR\",\"AIA\",\"BDI\",\"BFA\",\"PLW\",\"SYC\",\"MDG\",\"NAM\",\"BHR\",\"DJI\",\"MLI\",\"NPL\",\"FRO\"],\"name\":\"\",\"z\":[20977,9668,8468,6383,6067,2542,2428,1868,1716,1592,1392,1298,1033,1025,793,703,537,500,426,421,391,377,366,326,319,177,169,160,157,153,150,146,134,116,98,93,82,78,75,75,74,68,65,63,59,53,49,49,48,48,48,46,41,41,41,40,37,25,23,23,22,22,21,20,19,18,18,17,15,15,14,14,14,14,13,13,12,11,10,10,10,10,10,10,9,8,8,8,8,8,8,7,7,7,6,6,6,6,6,5,5,5,4,4,4,4,4,4,3,3,3,3,3,3,3,2,2,2,2,2,2,2,2,2,2,2,2,2,2,2,2,2,2,2,2,1,1,1,1,1,1,1,1,1,1,1,1,1,1,1,1,1,1,1,1,1,1,1,1,1,1,1,1,1,1,1],\"type\":\"choropleth\"}],                        {\"template\":{\"data\":{\"bar\":[{\"error_x\":{\"color\":\"#2a3f5f\"},\"error_y\":{\"color\":\"#2a3f5f\"},\"marker\":{\"line\":{\"color\":\"#E5ECF6\",\"width\":0.5},\"pattern\":{\"fillmode\":\"overlay\",\"size\":10,\"solidity\":0.2}},\"type\":\"bar\"}],\"barpolar\":[{\"marker\":{\"line\":{\"color\":\"#E5ECF6\",\"width\":0.5},\"pattern\":{\"fillmode\":\"overlay\",\"size\":10,\"solidity\":0.2}},\"type\":\"barpolar\"}],\"carpet\":[{\"aaxis\":{\"endlinecolor\":\"#2a3f5f\",\"gridcolor\":\"white\",\"linecolor\":\"white\",\"minorgridcolor\":\"white\",\"startlinecolor\":\"#2a3f5f\"},\"baxis\":{\"endlinecolor\":\"#2a3f5f\",\"gridcolor\":\"white\",\"linecolor\":\"white\",\"minorgridcolor\":\"white\",\"startlinecolor\":\"#2a3f5f\"},\"type\":\"carpet\"}],\"choropleth\":[{\"colorbar\":{\"outlinewidth\":0,\"ticks\":\"\"},\"type\":\"choropleth\"}],\"contour\":[{\"colorbar\":{\"outlinewidth\":0,\"ticks\":\"\"},\"colorscale\":[[0.0,\"#0d0887\"],[0.1111111111111111,\"#46039f\"],[0.2222222222222222,\"#7201a8\"],[0.3333333333333333,\"#9c179e\"],[0.4444444444444444,\"#bd3786\"],[0.5555555555555556,\"#d8576b\"],[0.6666666666666666,\"#ed7953\"],[0.7777777777777778,\"#fb9f3a\"],[0.8888888888888888,\"#fdca26\"],[1.0,\"#f0f921\"]],\"type\":\"contour\"}],\"contourcarpet\":[{\"colorbar\":{\"outlinewidth\":0,\"ticks\":\"\"},\"type\":\"contourcarpet\"}],\"heatmap\":[{\"colorbar\":{\"outlinewidth\":0,\"ticks\":\"\"},\"colorscale\":[[0.0,\"#0d0887\"],[0.1111111111111111,\"#46039f\"],[0.2222222222222222,\"#7201a8\"],[0.3333333333333333,\"#9c179e\"],[0.4444444444444444,\"#bd3786\"],[0.5555555555555556,\"#d8576b\"],[0.6666666666666666,\"#ed7953\"],[0.7777777777777778,\"#fb9f3a\"],[0.8888888888888888,\"#fdca26\"],[1.0,\"#f0f921\"]],\"type\":\"heatmap\"}],\"heatmapgl\":[{\"colorbar\":{\"outlinewidth\":0,\"ticks\":\"\"},\"colorscale\":[[0.0,\"#0d0887\"],[0.1111111111111111,\"#46039f\"],[0.2222222222222222,\"#7201a8\"],[0.3333333333333333,\"#9c179e\"],[0.4444444444444444,\"#bd3786\"],[0.5555555555555556,\"#d8576b\"],[0.6666666666666666,\"#ed7953\"],[0.7777777777777778,\"#fb9f3a\"],[0.8888888888888888,\"#fdca26\"],[1.0,\"#f0f921\"]],\"type\":\"heatmapgl\"}],\"histogram\":[{\"marker\":{\"pattern\":{\"fillmode\":\"overlay\",\"size\":10,\"solidity\":0.2}},\"type\":\"histogram\"}],\"histogram2d\":[{\"colorbar\":{\"outlinewidth\":0,\"ticks\":\"\"},\"colorscale\":[[0.0,\"#0d0887\"],[0.1111111111111111,\"#46039f\"],[0.2222222222222222,\"#7201a8\"],[0.3333333333333333,\"#9c179e\"],[0.4444444444444444,\"#bd3786\"],[0.5555555555555556,\"#d8576b\"],[0.6666666666666666,\"#ed7953\"],[0.7777777777777778,\"#fb9f3a\"],[0.8888888888888888,\"#fdca26\"],[1.0,\"#f0f921\"]],\"type\":\"histogram2d\"}],\"histogram2dcontour\":[{\"colorbar\":{\"outlinewidth\":0,\"ticks\":\"\"},\"colorscale\":[[0.0,\"#0d0887\"],[0.1111111111111111,\"#46039f\"],[0.2222222222222222,\"#7201a8\"],[0.3333333333333333,\"#9c179e\"],[0.4444444444444444,\"#bd3786\"],[0.5555555555555556,\"#d8576b\"],[0.6666666666666666,\"#ed7953\"],[0.7777777777777778,\"#fb9f3a\"],[0.8888888888888888,\"#fdca26\"],[1.0,\"#f0f921\"]],\"type\":\"histogram2dcontour\"}],\"mesh3d\":[{\"colorbar\":{\"outlinewidth\":0,\"ticks\":\"\"},\"type\":\"mesh3d\"}],\"parcoords\":[{\"line\":{\"colorbar\":{\"outlinewidth\":0,\"ticks\":\"\"}},\"type\":\"parcoords\"}],\"pie\":[{\"automargin\":true,\"type\":\"pie\"}],\"scatter\":[{\"marker\":{\"colorbar\":{\"outlinewidth\":0,\"ticks\":\"\"}},\"type\":\"scatter\"}],\"scatter3d\":[{\"line\":{\"colorbar\":{\"outlinewidth\":0,\"ticks\":\"\"}},\"marker\":{\"colorbar\":{\"outlinewidth\":0,\"ticks\":\"\"}},\"type\":\"scatter3d\"}],\"scattercarpet\":[{\"marker\":{\"colorbar\":{\"outlinewidth\":0,\"ticks\":\"\"}},\"type\":\"scattercarpet\"}],\"scattergeo\":[{\"marker\":{\"colorbar\":{\"outlinewidth\":0,\"ticks\":\"\"}},\"type\":\"scattergeo\"}],\"scattergl\":[{\"marker\":{\"colorbar\":{\"outlinewidth\":0,\"ticks\":\"\"}},\"type\":\"scattergl\"}],\"scattermapbox\":[{\"marker\":{\"colorbar\":{\"outlinewidth\":0,\"ticks\":\"\"}},\"type\":\"scattermapbox\"}],\"scatterpolar\":[{\"marker\":{\"colorbar\":{\"outlinewidth\":0,\"ticks\":\"\"}},\"type\":\"scatterpolar\"}],\"scatterpolargl\":[{\"marker\":{\"colorbar\":{\"outlinewidth\":0,\"ticks\":\"\"}},\"type\":\"scatterpolargl\"}],\"scatterternary\":[{\"marker\":{\"colorbar\":{\"outlinewidth\":0,\"ticks\":\"\"}},\"type\":\"scatterternary\"}],\"surface\":[{\"colorbar\":{\"outlinewidth\":0,\"ticks\":\"\"},\"colorscale\":[[0.0,\"#0d0887\"],[0.1111111111111111,\"#46039f\"],[0.2222222222222222,\"#7201a8\"],[0.3333333333333333,\"#9c179e\"],[0.4444444444444444,\"#bd3786\"],[0.5555555555555556,\"#d8576b\"],[0.6666666666666666,\"#ed7953\"],[0.7777777777777778,\"#fb9f3a\"],[0.8888888888888888,\"#fdca26\"],[1.0,\"#f0f921\"]],\"type\":\"surface\"}],\"table\":[{\"cells\":{\"fill\":{\"color\":\"#EBF0F8\"},\"line\":{\"color\":\"white\"}},\"header\":{\"fill\":{\"color\":\"#C8D4E3\"},\"line\":{\"color\":\"white\"}},\"type\":\"table\"}]},\"layout\":{\"annotationdefaults\":{\"arrowcolor\":\"#2a3f5f\",\"arrowhead\":0,\"arrowwidth\":1},\"autotypenumbers\":\"strict\",\"coloraxis\":{\"colorbar\":{\"outlinewidth\":0,\"ticks\":\"\"}},\"colorscale\":{\"diverging\":[[0,\"#8e0152\"],[0.1,\"#c51b7d\"],[0.2,\"#de77ae\"],[0.3,\"#f1b6da\"],[0.4,\"#fde0ef\"],[0.5,\"#f7f7f7\"],[0.6,\"#e6f5d0\"],[0.7,\"#b8e186\"],[0.8,\"#7fbc41\"],[0.9,\"#4d9221\"],[1,\"#276419\"]],\"sequential\":[[0.0,\"#0d0887\"],[0.1111111111111111,\"#46039f\"],[0.2222222222222222,\"#7201a8\"],[0.3333333333333333,\"#9c179e\"],[0.4444444444444444,\"#bd3786\"],[0.5555555555555556,\"#d8576b\"],[0.6666666666666666,\"#ed7953\"],[0.7777777777777778,\"#fb9f3a\"],[0.8888888888888888,\"#fdca26\"],[1.0,\"#f0f921\"]],\"sequentialminus\":[[0.0,\"#0d0887\"],[0.1111111111111111,\"#46039f\"],[0.2222222222222222,\"#7201a8\"],[0.3333333333333333,\"#9c179e\"],[0.4444444444444444,\"#bd3786\"],[0.5555555555555556,\"#d8576b\"],[0.6666666666666666,\"#ed7953\"],[0.7777777777777778,\"#fb9f3a\"],[0.8888888888888888,\"#fdca26\"],[1.0,\"#f0f921\"]]},\"colorway\":[\"#636efa\",\"#EF553B\",\"#00cc96\",\"#ab63fa\",\"#FFA15A\",\"#19d3f3\",\"#FF6692\",\"#B6E880\",\"#FF97FF\",\"#FECB52\"],\"font\":{\"color\":\"#2a3f5f\"},\"geo\":{\"bgcolor\":\"white\",\"lakecolor\":\"white\",\"landcolor\":\"#E5ECF6\",\"showlakes\":true,\"showland\":true,\"subunitcolor\":\"white\"},\"hoverlabel\":{\"align\":\"left\"},\"hovermode\":\"closest\",\"mapbox\":{\"style\":\"light\"},\"paper_bgcolor\":\"white\",\"plot_bgcolor\":\"#E5ECF6\",\"polar\":{\"angularaxis\":{\"gridcolor\":\"white\",\"linecolor\":\"white\",\"ticks\":\"\"},\"bgcolor\":\"#E5ECF6\",\"radialaxis\":{\"gridcolor\":\"white\",\"linecolor\":\"white\",\"ticks\":\"\"}},\"scene\":{\"xaxis\":{\"backgroundcolor\":\"#E5ECF6\",\"gridcolor\":\"white\",\"gridwidth\":2,\"linecolor\":\"white\",\"showbackground\":true,\"ticks\":\"\",\"zerolinecolor\":\"white\"},\"yaxis\":{\"backgroundcolor\":\"#E5ECF6\",\"gridcolor\":\"white\",\"gridwidth\":2,\"linecolor\":\"white\",\"showbackground\":true,\"ticks\":\"\",\"zerolinecolor\":\"white\"},\"zaxis\":{\"backgroundcolor\":\"#E5ECF6\",\"gridcolor\":\"white\",\"gridwidth\":2,\"linecolor\":\"white\",\"showbackground\":true,\"ticks\":\"\",\"zerolinecolor\":\"white\"}},\"shapedefaults\":{\"line\":{\"color\":\"#2a3f5f\"}},\"ternary\":{\"aaxis\":{\"gridcolor\":\"white\",\"linecolor\":\"white\",\"ticks\":\"\"},\"baxis\":{\"gridcolor\":\"white\",\"linecolor\":\"white\",\"ticks\":\"\"},\"bgcolor\":\"#E5ECF6\",\"caxis\":{\"gridcolor\":\"white\",\"linecolor\":\"white\",\"ticks\":\"\"}},\"title\":{\"x\":0.05},\"xaxis\":{\"automargin\":true,\"gridcolor\":\"white\",\"linecolor\":\"white\",\"ticks\":\"\",\"title\":{\"standoff\":15},\"zerolinecolor\":\"white\",\"zerolinewidth\":2},\"yaxis\":{\"automargin\":true,\"gridcolor\":\"white\",\"linecolor\":\"white\",\"ticks\":\"\",\"title\":{\"standoff\":15},\"zerolinecolor\":\"white\",\"zerolinewidth\":2}}},\"geo\":{\"domain\":{\"x\":[0.0,1.0],\"y\":[0.0,1.0]},\"center\":{}},\"coloraxis\":{\"colorbar\":{\"title\":{\"text\":\"No of guests\"}},\"colorscale\":[[0.0,\"#0d0887\"],[0.1111111111111111,\"#46039f\"],[0.2222222222222222,\"#7201a8\"],[0.3333333333333333,\"#9c179e\"],[0.4444444444444444,\"#bd3786\"],[0.5555555555555556,\"#d8576b\"],[0.6666666666666666,\"#ed7953\"],[0.7777777777777778,\"#fb9f3a\"],[0.8888888888888888,\"#fdca26\"],[1.0,\"#f0f921\"]]},\"legend\":{\"tracegroupgap\":0},\"title\":{\"text\":\"Home country of Guests\"}},                        {\"responsive\": true}                    ).then(function(){\n",
       "                            \n",
       "var gd = document.getElementById('7a862dc6-da36-419e-9431-ca17f0105e79');\n",
       "var x = new MutationObserver(function (mutations, observer) {{\n",
       "        var display = window.getComputedStyle(gd).display;\n",
       "        if (!display || display === 'none') {{\n",
       "            console.log([gd, 'removed!']);\n",
       "            Plotly.purge(gd);\n",
       "            observer.disconnect();\n",
       "        }}\n",
       "}});\n",
       "\n",
       "// Listen for the removal of the full notebook cells\n",
       "var notebookContainer = gd.closest('#notebook-container');\n",
       "if (notebookContainer) {{\n",
       "    x.observe(notebookContainer, {childList: true});\n",
       "}}\n",
       "\n",
       "// Listen for the clearing of the current output cell\n",
       "var outputEl = gd.closest('.output');\n",
       "if (outputEl) {{\n",
       "    x.observe(outputEl, {childList: true});\n",
       "}}\n",
       "\n",
       "                        })                };                });            </script>        </div>"
      ]
     },
     "metadata": {},
     "output_type": "display_data"
    }
   ],
   "source": [
    "map_guest=px.choropleth(country_wise_data,\n",
    "             locations=country_wise_data['Country'],\n",
    "             color=country_wise_data['No of guests'],\n",
    "             hover_name=country_wise_data['Country'],\n",
    "             title='Home country of Guests')\n",
    "map_guest.show()"
   ]
  },
  {
   "cell_type": "code",
   "execution_count": 159,
   "id": "b3f04197",
   "metadata": {},
   "outputs": [
    {
     "data": {
      "text/html": [
       "<div>\n",
       "<style scoped>\n",
       "    .dataframe tbody tr th:only-of-type {\n",
       "        vertical-align: middle;\n",
       "    }\n",
       "\n",
       "    .dataframe tbody tr th {\n",
       "        vertical-align: top;\n",
       "    }\n",
       "\n",
       "    .dataframe thead th {\n",
       "        text-align: right;\n",
       "    }\n",
       "</style>\n",
       "<table border=\"1\" class=\"dataframe\">\n",
       "  <thead>\n",
       "    <tr style=\"text-align: right;\">\n",
       "      <th></th>\n",
       "      <th>hotel</th>\n",
       "      <th>is_canceled</th>\n",
       "      <th>lead_time</th>\n",
       "      <th>arrival_date_year</th>\n",
       "      <th>arrival_date_month</th>\n",
       "      <th>arrival_date_week_number</th>\n",
       "      <th>arrival_date_day_of_month</th>\n",
       "      <th>stays_in_weekend_nights</th>\n",
       "      <th>stays_in_week_nights</th>\n",
       "      <th>adults</th>\n",
       "      <th>children</th>\n",
       "      <th>babies</th>\n",
       "      <th>meal</th>\n",
       "      <th>country</th>\n",
       "      <th>market_segment</th>\n",
       "      <th>distribution_channel</th>\n",
       "      <th>is_repeated_guest</th>\n",
       "      <th>previous_cancellations</th>\n",
       "      <th>previous_bookings_not_canceled</th>\n",
       "      <th>reserved_room_type</th>\n",
       "      <th>assigned_room_type</th>\n",
       "      <th>booking_changes</th>\n",
       "      <th>deposit_type</th>\n",
       "      <th>agent</th>\n",
       "      <th>company</th>\n",
       "      <th>days_in_waiting_list</th>\n",
       "      <th>customer_type</th>\n",
       "      <th>adr</th>\n",
       "      <th>required_car_parking_spaces</th>\n",
       "      <th>total_of_special_requests</th>\n",
       "      <th>reservation_status</th>\n",
       "      <th>reservation_status_date</th>\n",
       "    </tr>\n",
       "  </thead>\n",
       "  <tbody>\n",
       "    <tr>\n",
       "      <th>0</th>\n",
       "      <td>Resort Hotel</td>\n",
       "      <td>0</td>\n",
       "      <td>342</td>\n",
       "      <td>2015</td>\n",
       "      <td>July</td>\n",
       "      <td>27</td>\n",
       "      <td>1</td>\n",
       "      <td>0</td>\n",
       "      <td>0</td>\n",
       "      <td>2</td>\n",
       "      <td>0.0</td>\n",
       "      <td>0</td>\n",
       "      <td>BB</td>\n",
       "      <td>PRT</td>\n",
       "      <td>Direct</td>\n",
       "      <td>Direct</td>\n",
       "      <td>0</td>\n",
       "      <td>0</td>\n",
       "      <td>0</td>\n",
       "      <td>C</td>\n",
       "      <td>C</td>\n",
       "      <td>3</td>\n",
       "      <td>No Deposit</td>\n",
       "      <td>0.0</td>\n",
       "      <td>0.0</td>\n",
       "      <td>0</td>\n",
       "      <td>Transient</td>\n",
       "      <td>0.0</td>\n",
       "      <td>0</td>\n",
       "      <td>0</td>\n",
       "      <td>Check-Out</td>\n",
       "      <td>7/1/2015</td>\n",
       "    </tr>\n",
       "    <tr>\n",
       "      <th>1</th>\n",
       "      <td>Resort Hotel</td>\n",
       "      <td>0</td>\n",
       "      <td>737</td>\n",
       "      <td>2015</td>\n",
       "      <td>July</td>\n",
       "      <td>27</td>\n",
       "      <td>1</td>\n",
       "      <td>0</td>\n",
       "      <td>0</td>\n",
       "      <td>2</td>\n",
       "      <td>0.0</td>\n",
       "      <td>0</td>\n",
       "      <td>BB</td>\n",
       "      <td>PRT</td>\n",
       "      <td>Direct</td>\n",
       "      <td>Direct</td>\n",
       "      <td>0</td>\n",
       "      <td>0</td>\n",
       "      <td>0</td>\n",
       "      <td>C</td>\n",
       "      <td>C</td>\n",
       "      <td>4</td>\n",
       "      <td>No Deposit</td>\n",
       "      <td>0.0</td>\n",
       "      <td>0.0</td>\n",
       "      <td>0</td>\n",
       "      <td>Transient</td>\n",
       "      <td>0.0</td>\n",
       "      <td>0</td>\n",
       "      <td>0</td>\n",
       "      <td>Check-Out</td>\n",
       "      <td>7/1/2015</td>\n",
       "    </tr>\n",
       "    <tr>\n",
       "      <th>2</th>\n",
       "      <td>Resort Hotel</td>\n",
       "      <td>0</td>\n",
       "      <td>7</td>\n",
       "      <td>2015</td>\n",
       "      <td>July</td>\n",
       "      <td>27</td>\n",
       "      <td>1</td>\n",
       "      <td>0</td>\n",
       "      <td>1</td>\n",
       "      <td>1</td>\n",
       "      <td>0.0</td>\n",
       "      <td>0</td>\n",
       "      <td>BB</td>\n",
       "      <td>GBR</td>\n",
       "      <td>Direct</td>\n",
       "      <td>Direct</td>\n",
       "      <td>0</td>\n",
       "      <td>0</td>\n",
       "      <td>0</td>\n",
       "      <td>A</td>\n",
       "      <td>C</td>\n",
       "      <td>0</td>\n",
       "      <td>No Deposit</td>\n",
       "      <td>0.0</td>\n",
       "      <td>0.0</td>\n",
       "      <td>0</td>\n",
       "      <td>Transient</td>\n",
       "      <td>75.0</td>\n",
       "      <td>0</td>\n",
       "      <td>0</td>\n",
       "      <td>Check-Out</td>\n",
       "      <td>7/2/2015</td>\n",
       "    </tr>\n",
       "    <tr>\n",
       "      <th>3</th>\n",
       "      <td>Resort Hotel</td>\n",
       "      <td>0</td>\n",
       "      <td>13</td>\n",
       "      <td>2015</td>\n",
       "      <td>July</td>\n",
       "      <td>27</td>\n",
       "      <td>1</td>\n",
       "      <td>0</td>\n",
       "      <td>1</td>\n",
       "      <td>1</td>\n",
       "      <td>0.0</td>\n",
       "      <td>0</td>\n",
       "      <td>BB</td>\n",
       "      <td>GBR</td>\n",
       "      <td>Corporate</td>\n",
       "      <td>Corporate</td>\n",
       "      <td>0</td>\n",
       "      <td>0</td>\n",
       "      <td>0</td>\n",
       "      <td>A</td>\n",
       "      <td>A</td>\n",
       "      <td>0</td>\n",
       "      <td>No Deposit</td>\n",
       "      <td>304.0</td>\n",
       "      <td>0.0</td>\n",
       "      <td>0</td>\n",
       "      <td>Transient</td>\n",
       "      <td>75.0</td>\n",
       "      <td>0</td>\n",
       "      <td>0</td>\n",
       "      <td>Check-Out</td>\n",
       "      <td>7/2/2015</td>\n",
       "    </tr>\n",
       "    <tr>\n",
       "      <th>4</th>\n",
       "      <td>Resort Hotel</td>\n",
       "      <td>0</td>\n",
       "      <td>14</td>\n",
       "      <td>2015</td>\n",
       "      <td>July</td>\n",
       "      <td>27</td>\n",
       "      <td>1</td>\n",
       "      <td>0</td>\n",
       "      <td>2</td>\n",
       "      <td>2</td>\n",
       "      <td>0.0</td>\n",
       "      <td>0</td>\n",
       "      <td>BB</td>\n",
       "      <td>GBR</td>\n",
       "      <td>Online TA</td>\n",
       "      <td>TA/TO</td>\n",
       "      <td>0</td>\n",
       "      <td>0</td>\n",
       "      <td>0</td>\n",
       "      <td>A</td>\n",
       "      <td>A</td>\n",
       "      <td>0</td>\n",
       "      <td>No Deposit</td>\n",
       "      <td>240.0</td>\n",
       "      <td>0.0</td>\n",
       "      <td>0</td>\n",
       "      <td>Transient</td>\n",
       "      <td>98.0</td>\n",
       "      <td>0</td>\n",
       "      <td>1</td>\n",
       "      <td>Check-Out</td>\n",
       "      <td>7/3/2015</td>\n",
       "    </tr>\n",
       "  </tbody>\n",
       "</table>\n",
       "</div>"
      ],
      "text/plain": [
       "          hotel  is_canceled  lead_time  arrival_date_year arrival_date_month  \\\n",
       "0  Resort Hotel            0        342               2015               July   \n",
       "1  Resort Hotel            0        737               2015               July   \n",
       "2  Resort Hotel            0          7               2015               July   \n",
       "3  Resort Hotel            0         13               2015               July   \n",
       "4  Resort Hotel            0         14               2015               July   \n",
       "\n",
       "   arrival_date_week_number  arrival_date_day_of_month  \\\n",
       "0                        27                          1   \n",
       "1                        27                          1   \n",
       "2                        27                          1   \n",
       "3                        27                          1   \n",
       "4                        27                          1   \n",
       "\n",
       "   stays_in_weekend_nights  stays_in_week_nights  adults  children  babies  \\\n",
       "0                        0                     0       2       0.0       0   \n",
       "1                        0                     0       2       0.0       0   \n",
       "2                        0                     1       1       0.0       0   \n",
       "3                        0                     1       1       0.0       0   \n",
       "4                        0                     2       2       0.0       0   \n",
       "\n",
       "  meal country market_segment distribution_channel  is_repeated_guest  \\\n",
       "0   BB     PRT         Direct               Direct                  0   \n",
       "1   BB     PRT         Direct               Direct                  0   \n",
       "2   BB     GBR         Direct               Direct                  0   \n",
       "3   BB     GBR      Corporate            Corporate                  0   \n",
       "4   BB     GBR      Online TA                TA/TO                  0   \n",
       "\n",
       "   previous_cancellations  previous_bookings_not_canceled reserved_room_type  \\\n",
       "0                       0                               0                  C   \n",
       "1                       0                               0                  C   \n",
       "2                       0                               0                  A   \n",
       "3                       0                               0                  A   \n",
       "4                       0                               0                  A   \n",
       "\n",
       "  assigned_room_type  booking_changes deposit_type  agent  company  \\\n",
       "0                  C                3   No Deposit    0.0      0.0   \n",
       "1                  C                4   No Deposit    0.0      0.0   \n",
       "2                  C                0   No Deposit    0.0      0.0   \n",
       "3                  A                0   No Deposit  304.0      0.0   \n",
       "4                  A                0   No Deposit  240.0      0.0   \n",
       "\n",
       "   days_in_waiting_list customer_type   adr  required_car_parking_spaces  \\\n",
       "0                     0     Transient   0.0                            0   \n",
       "1                     0     Transient   0.0                            0   \n",
       "2                     0     Transient  75.0                            0   \n",
       "3                     0     Transient  75.0                            0   \n",
       "4                     0     Transient  98.0                            0   \n",
       "\n",
       "   total_of_special_requests reservation_status reservation_status_date  \n",
       "0                          0          Check-Out                7/1/2015  \n",
       "1                          0          Check-Out                7/1/2015  \n",
       "2                          0          Check-Out                7/2/2015  \n",
       "3                          0          Check-Out                7/2/2015  \n",
       "4                          1          Check-Out                7/3/2015  "
      ]
     },
     "execution_count": 159,
     "metadata": {},
     "output_type": "execute_result"
    }
   ],
   "source": [
    "data.head()"
   ]
  },
  {
   "cell_type": "code",
   "execution_count": 160,
   "id": "5e33daaf",
   "metadata": {},
   "outputs": [],
   "source": [
    "data2=data[data['is_canceled']==0]"
   ]
  },
  {
   "cell_type": "code",
   "execution_count": 161,
   "id": "a1628fb5",
   "metadata": {},
   "outputs": [
    {
     "data": {
      "text/plain": [
       "Index(['hotel', 'is_canceled', 'lead_time', 'arrival_date_year',\n",
       "       'arrival_date_month', 'arrival_date_week_number',\n",
       "       'arrival_date_day_of_month', 'stays_in_weekend_nights',\n",
       "       'stays_in_week_nights', 'adults', 'children', 'babies', 'meal',\n",
       "       'country', 'market_segment', 'distribution_channel',\n",
       "       'is_repeated_guest', 'previous_cancellations',\n",
       "       'previous_bookings_not_canceled', 'reserved_room_type',\n",
       "       'assigned_room_type', 'booking_changes', 'deposit_type', 'agent',\n",
       "       'company', 'days_in_waiting_list', 'customer_type', 'adr',\n",
       "       'required_car_parking_spaces', 'total_of_special_requests',\n",
       "       'reservation_status', 'reservation_status_date'],\n",
       "      dtype='object')"
      ]
     },
     "execution_count": 161,
     "metadata": {},
     "output_type": "execute_result"
    }
   ],
   "source": [
    "data2.columns"
   ]
  },
  {
   "cell_type": "code",
   "execution_count": 162,
   "id": "207d196f",
   "metadata": {},
   "outputs": [
    {
     "data": {
      "image/png": "[encoded data removed]",
      "text/plain": [
       "<Figure size 864x576 with 1 Axes>"
      ]
     },
     "metadata": {
      "needs_background": "light"
     },
     "output_type": "display_data"
    }
   ],
   "source": [
    "plt.figure(figsize=(12,8))\n",
    "sas.boxplot(x='reserved_room_type',y='adr',hue='hotel',data=data2)\n",
    "plt.title('Price of room type per night and per person')\n",
    "plt.xlabel('Room type')\n",
    "plt.ylabel('Price(Euro)')\n",
    "plt.legend()\n",
    "plt.show()"
   ]
  },
  {
   "cell_type": "code",
   "execution_count": 163,
   "id": "aae5bd85",
   "metadata": {},
   "outputs": [],
   "source": [
    "data_resort=data[(data['hotel']=='Resort Hotel')&(data['is_canceled']==0)]\n",
    "data_city=data[(data['hotel']=='Resort Hotel')&(data['is_canceled']==0)]"
   ]
  },
  {
   "cell_type": "code",
   "execution_count": 164,
   "id": "c0aec11b",
   "metadata": {},
   "outputs": [
    {
     "data": {
      "text/html": [
       "<div>\n",
       "<style scoped>\n",
       "    .dataframe tbody tr th:only-of-type {\n",
       "        vertical-align: middle;\n",
       "    }\n",
       "\n",
       "    .dataframe tbody tr th {\n",
       "        vertical-align: top;\n",
       "    }\n",
       "\n",
       "    .dataframe thead th {\n",
       "        text-align: right;\n",
       "    }\n",
       "</style>\n",
       "<table border=\"1\" class=\"dataframe\">\n",
       "  <thead>\n",
       "    <tr style=\"text-align: right;\">\n",
       "      <th></th>\n",
       "      <th>hotel</th>\n",
       "      <th>is_canceled</th>\n",
       "      <th>lead_time</th>\n",
       "      <th>arrival_date_year</th>\n",
       "      <th>arrival_date_month</th>\n",
       "      <th>arrival_date_week_number</th>\n",
       "      <th>arrival_date_day_of_month</th>\n",
       "      <th>stays_in_weekend_nights</th>\n",
       "      <th>stays_in_week_nights</th>\n",
       "      <th>adults</th>\n",
       "      <th>children</th>\n",
       "      <th>babies</th>\n",
       "      <th>meal</th>\n",
       "      <th>country</th>\n",
       "      <th>market_segment</th>\n",
       "      <th>distribution_channel</th>\n",
       "      <th>is_repeated_guest</th>\n",
       "      <th>previous_cancellations</th>\n",
       "      <th>previous_bookings_not_canceled</th>\n",
       "      <th>reserved_room_type</th>\n",
       "      <th>assigned_room_type</th>\n",
       "      <th>booking_changes</th>\n",
       "      <th>deposit_type</th>\n",
       "      <th>agent</th>\n",
       "      <th>company</th>\n",
       "      <th>days_in_waiting_list</th>\n",
       "      <th>customer_type</th>\n",
       "      <th>adr</th>\n",
       "      <th>required_car_parking_spaces</th>\n",
       "      <th>total_of_special_requests</th>\n",
       "      <th>reservation_status</th>\n",
       "      <th>reservation_status_date</th>\n",
       "    </tr>\n",
       "  </thead>\n",
       "  <tbody>\n",
       "    <tr>\n",
       "      <th>0</th>\n",
       "      <td>Resort Hotel</td>\n",
       "      <td>0</td>\n",
       "      <td>342</td>\n",
       "      <td>2015</td>\n",
       "      <td>July</td>\n",
       "      <td>27</td>\n",
       "      <td>1</td>\n",
       "      <td>0</td>\n",
       "      <td>0</td>\n",
       "      <td>2</td>\n",
       "      <td>0.0</td>\n",
       "      <td>0</td>\n",
       "      <td>BB</td>\n",
       "      <td>PRT</td>\n",
       "      <td>Direct</td>\n",
       "      <td>Direct</td>\n",
       "      <td>0</td>\n",
       "      <td>0</td>\n",
       "      <td>0</td>\n",
       "      <td>C</td>\n",
       "      <td>C</td>\n",
       "      <td>3</td>\n",
       "      <td>No Deposit</td>\n",
       "      <td>0.0</td>\n",
       "      <td>0.0</td>\n",
       "      <td>0</td>\n",
       "      <td>Transient</td>\n",
       "      <td>0.0</td>\n",
       "      <td>0</td>\n",
       "      <td>0</td>\n",
       "      <td>Check-Out</td>\n",
       "      <td>7/1/2015</td>\n",
       "    </tr>\n",
       "    <tr>\n",
       "      <th>1</th>\n",
       "      <td>Resort Hotel</td>\n",
       "      <td>0</td>\n",
       "      <td>737</td>\n",
       "      <td>2015</td>\n",
       "      <td>July</td>\n",
       "      <td>27</td>\n",
       "      <td>1</td>\n",
       "      <td>0</td>\n",
       "      <td>0</td>\n",
       "      <td>2</td>\n",
       "      <td>0.0</td>\n",
       "      <td>0</td>\n",
       "      <td>BB</td>\n",
       "      <td>PRT</td>\n",
       "      <td>Direct</td>\n",
       "      <td>Direct</td>\n",
       "      <td>0</td>\n",
       "      <td>0</td>\n",
       "      <td>0</td>\n",
       "      <td>C</td>\n",
       "      <td>C</td>\n",
       "      <td>4</td>\n",
       "      <td>No Deposit</td>\n",
       "      <td>0.0</td>\n",
       "      <td>0.0</td>\n",
       "      <td>0</td>\n",
       "      <td>Transient</td>\n",
       "      <td>0.0</td>\n",
       "      <td>0</td>\n",
       "      <td>0</td>\n",
       "      <td>Check-Out</td>\n",
       "      <td>7/1/2015</td>\n",
       "    </tr>\n",
       "    <tr>\n",
       "      <th>2</th>\n",
       "      <td>Resort Hotel</td>\n",
       "      <td>0</td>\n",
       "      <td>7</td>\n",
       "      <td>2015</td>\n",
       "      <td>July</td>\n",
       "      <td>27</td>\n",
       "      <td>1</td>\n",
       "      <td>0</td>\n",
       "      <td>1</td>\n",
       "      <td>1</td>\n",
       "      <td>0.0</td>\n",
       "      <td>0</td>\n",
       "      <td>BB</td>\n",
       "      <td>GBR</td>\n",
       "      <td>Direct</td>\n",
       "      <td>Direct</td>\n",
       "      <td>0</td>\n",
       "      <td>0</td>\n",
       "      <td>0</td>\n",
       "      <td>A</td>\n",
       "      <td>C</td>\n",
       "      <td>0</td>\n",
       "      <td>No Deposit</td>\n",
       "      <td>0.0</td>\n",
       "      <td>0.0</td>\n",
       "      <td>0</td>\n",
       "      <td>Transient</td>\n",
       "      <td>75.0</td>\n",
       "      <td>0</td>\n",
       "      <td>0</td>\n",
       "      <td>Check-Out</td>\n",
       "      <td>7/2/2015</td>\n",
       "    </tr>\n",
       "    <tr>\n",
       "      <th>3</th>\n",
       "      <td>Resort Hotel</td>\n",
       "      <td>0</td>\n",
       "      <td>13</td>\n",
       "      <td>2015</td>\n",
       "      <td>July</td>\n",
       "      <td>27</td>\n",
       "      <td>1</td>\n",
       "      <td>0</td>\n",
       "      <td>1</td>\n",
       "      <td>1</td>\n",
       "      <td>0.0</td>\n",
       "      <td>0</td>\n",
       "      <td>BB</td>\n",
       "      <td>GBR</td>\n",
       "      <td>Corporate</td>\n",
       "      <td>Corporate</td>\n",
       "      <td>0</td>\n",
       "      <td>0</td>\n",
       "      <td>0</td>\n",
       "      <td>A</td>\n",
       "      <td>A</td>\n",
       "      <td>0</td>\n",
       "      <td>No Deposit</td>\n",
       "      <td>304.0</td>\n",
       "      <td>0.0</td>\n",
       "      <td>0</td>\n",
       "      <td>Transient</td>\n",
       "      <td>75.0</td>\n",
       "      <td>0</td>\n",
       "      <td>0</td>\n",
       "      <td>Check-Out</td>\n",
       "      <td>7/2/2015</td>\n",
       "    </tr>\n",
       "    <tr>\n",
       "      <th>4</th>\n",
       "      <td>Resort Hotel</td>\n",
       "      <td>0</td>\n",
       "      <td>14</td>\n",
       "      <td>2015</td>\n",
       "      <td>July</td>\n",
       "      <td>27</td>\n",
       "      <td>1</td>\n",
       "      <td>0</td>\n",
       "      <td>2</td>\n",
       "      <td>2</td>\n",
       "      <td>0.0</td>\n",
       "      <td>0</td>\n",
       "      <td>BB</td>\n",
       "      <td>GBR</td>\n",
       "      <td>Online TA</td>\n",
       "      <td>TA/TO</td>\n",
       "      <td>0</td>\n",
       "      <td>0</td>\n",
       "      <td>0</td>\n",
       "      <td>A</td>\n",
       "      <td>A</td>\n",
       "      <td>0</td>\n",
       "      <td>No Deposit</td>\n",
       "      <td>240.0</td>\n",
       "      <td>0.0</td>\n",
       "      <td>0</td>\n",
       "      <td>Transient</td>\n",
       "      <td>98.0</td>\n",
       "      <td>0</td>\n",
       "      <td>1</td>\n",
       "      <td>Check-Out</td>\n",
       "      <td>7/3/2015</td>\n",
       "    </tr>\n",
       "  </tbody>\n",
       "</table>\n",
       "</div>"
      ],
      "text/plain": [
       "          hotel  is_canceled  lead_time  arrival_date_year arrival_date_month  \\\n",
       "0  Resort Hotel            0        342               2015               July   \n",
       "1  Resort Hotel            0        737               2015               July   \n",
       "2  Resort Hotel            0          7               2015               July   \n",
       "3  Resort Hotel            0         13               2015               July   \n",
       "4  Resort Hotel            0         14               2015               July   \n",
       "\n",
       "   arrival_date_week_number  arrival_date_day_of_month  \\\n",
       "0                        27                          1   \n",
       "1                        27                          1   \n",
       "2                        27                          1   \n",
       "3                        27                          1   \n",
       "4                        27                          1   \n",
       "\n",
       "   stays_in_weekend_nights  stays_in_week_nights  adults  children  babies  \\\n",
       "0                        0                     0       2       0.0       0   \n",
       "1                        0                     0       2       0.0       0   \n",
       "2                        0                     1       1       0.0       0   \n",
       "3                        0                     1       1       0.0       0   \n",
       "4                        0                     2       2       0.0       0   \n",
       "\n",
       "  meal country market_segment distribution_channel  is_repeated_guest  \\\n",
       "0   BB     PRT         Direct               Direct                  0   \n",
       "1   BB     PRT         Direct               Direct                  0   \n",
       "2   BB     GBR         Direct               Direct                  0   \n",
       "3   BB     GBR      Corporate            Corporate                  0   \n",
       "4   BB     GBR      Online TA                TA/TO                  0   \n",
       "\n",
       "   previous_cancellations  previous_bookings_not_canceled reserved_room_type  \\\n",
       "0                       0                               0                  C   \n",
       "1                       0                               0                  C   \n",
       "2                       0                               0                  A   \n",
       "3                       0                               0                  A   \n",
       "4                       0                               0                  A   \n",
       "\n",
       "  assigned_room_type  booking_changes deposit_type  agent  company  \\\n",
       "0                  C                3   No Deposit    0.0      0.0   \n",
       "1                  C                4   No Deposit    0.0      0.0   \n",
       "2                  C                0   No Deposit    0.0      0.0   \n",
       "3                  A                0   No Deposit  304.0      0.0   \n",
       "4                  A                0   No Deposit  240.0      0.0   \n",
       "\n",
       "   days_in_waiting_list customer_type   adr  required_car_parking_spaces  \\\n",
       "0                     0     Transient   0.0                            0   \n",
       "1                     0     Transient   0.0                            0   \n",
       "2                     0     Transient  75.0                            0   \n",
       "3                     0     Transient  75.0                            0   \n",
       "4                     0     Transient  98.0                            0   \n",
       "\n",
       "   total_of_special_requests reservation_status reservation_status_date  \n",
       "0                          0          Check-Out                7/1/2015  \n",
       "1                          0          Check-Out                7/1/2015  \n",
       "2                          0          Check-Out                7/2/2015  \n",
       "3                          0          Check-Out                7/2/2015  \n",
       "4                          1          Check-Out                7/3/2015  "
      ]
     },
     "execution_count": 164,
     "metadata": {},
     "output_type": "execute_result"
    }
   ],
   "source": [
    "data_resort.head()"
   ]
  },
  {
   "cell_type": "code",
   "execution_count": 165,
   "id": "6c6ff8e6",
   "metadata": {},
   "outputs": [
    {
     "data": {
      "text/html": [
       "<div>\n",
       "<style scoped>\n",
       "    .dataframe tbody tr th:only-of-type {\n",
       "        vertical-align: middle;\n",
       "    }\n",
       "\n",
       "    .dataframe tbody tr th {\n",
       "        vertical-align: top;\n",
       "    }\n",
       "\n",
       "    .dataframe thead th {\n",
       "        text-align: right;\n",
       "    }\n",
       "</style>\n",
       "<table border=\"1\" class=\"dataframe\">\n",
       "  <thead>\n",
       "    <tr style=\"text-align: right;\">\n",
       "      <th></th>\n",
       "      <th>arrival_date_month</th>\n",
       "      <th>adr</th>\n",
       "    </tr>\n",
       "  </thead>\n",
       "  <tbody>\n",
       "    <tr>\n",
       "      <th>0</th>\n",
       "      <td>April</td>\n",
       "      <td>75.867816</td>\n",
       "    </tr>\n",
       "    <tr>\n",
       "      <th>1</th>\n",
       "      <td>August</td>\n",
       "      <td>181.205892</td>\n",
       "    </tr>\n",
       "    <tr>\n",
       "      <th>2</th>\n",
       "      <td>December</td>\n",
       "      <td>68.410104</td>\n",
       "    </tr>\n",
       "    <tr>\n",
       "      <th>3</th>\n",
       "      <td>February</td>\n",
       "      <td>54.147478</td>\n",
       "    </tr>\n",
       "    <tr>\n",
       "      <th>4</th>\n",
       "      <td>January</td>\n",
       "      <td>48.761125</td>\n",
       "    </tr>\n",
       "    <tr>\n",
       "      <th>5</th>\n",
       "      <td>July</td>\n",
       "      <td>150.122528</td>\n",
       "    </tr>\n",
       "    <tr>\n",
       "      <th>6</th>\n",
       "      <td>June</td>\n",
       "      <td>107.974850</td>\n",
       "    </tr>\n",
       "    <tr>\n",
       "      <th>7</th>\n",
       "      <td>March</td>\n",
       "      <td>57.056838</td>\n",
       "    </tr>\n",
       "    <tr>\n",
       "      <th>8</th>\n",
       "      <td>May</td>\n",
       "      <td>76.657558</td>\n",
       "    </tr>\n",
       "    <tr>\n",
       "      <th>9</th>\n",
       "      <td>November</td>\n",
       "      <td>48.706289</td>\n",
       "    </tr>\n",
       "    <tr>\n",
       "      <th>10</th>\n",
       "      <td>October</td>\n",
       "      <td>61.775449</td>\n",
       "    </tr>\n",
       "    <tr>\n",
       "      <th>11</th>\n",
       "      <td>September</td>\n",
       "      <td>96.416860</td>\n",
       "    </tr>\n",
       "  </tbody>\n",
       "</table>\n",
       "</div>"
      ],
      "text/plain": [
       "   arrival_date_month         adr\n",
       "0               April   75.867816\n",
       "1              August  181.205892\n",
       "2            December   68.410104\n",
       "3            February   54.147478\n",
       "4             January   48.761125\n",
       "5                July  150.122528\n",
       "6                June  107.974850\n",
       "7               March   57.056838\n",
       "8                 May   76.657558\n",
       "9            November   48.706289\n",
       "10            October   61.775449\n",
       "11          September   96.416860"
      ]
     },
     "execution_count": 165,
     "metadata": {},
     "output_type": "execute_result"
    }
   ],
   "source": [
    "resort_hotel=data_resort.groupby(['arrival_date_month'])['adr'].mean().reset_index()\n",
    "resort_hotel"
   ]
  },
  {
   "cell_type": "code",
   "execution_count": 166,
   "id": "d304f2c5",
   "metadata": {},
   "outputs": [
    {
     "data": {
      "text/html": [
       "<div>\n",
       "<style scoped>\n",
       "    .dataframe tbody tr th:only-of-type {\n",
       "        vertical-align: middle;\n",
       "    }\n",
       "\n",
       "    .dataframe tbody tr th {\n",
       "        vertical-align: top;\n",
       "    }\n",
       "\n",
       "    .dataframe thead th {\n",
       "        text-align: right;\n",
       "    }\n",
       "</style>\n",
       "<table border=\"1\" class=\"dataframe\">\n",
       "  <thead>\n",
       "    <tr style=\"text-align: right;\">\n",
       "      <th></th>\n",
       "      <th>arrival_date_month</th>\n",
       "      <th>adr</th>\n",
       "    </tr>\n",
       "  </thead>\n",
       "  <tbody>\n",
       "    <tr>\n",
       "      <th>0</th>\n",
       "      <td>April</td>\n",
       "      <td>75.867816</td>\n",
       "    </tr>\n",
       "    <tr>\n",
       "      <th>1</th>\n",
       "      <td>August</td>\n",
       "      <td>181.205892</td>\n",
       "    </tr>\n",
       "    <tr>\n",
       "      <th>2</th>\n",
       "      <td>December</td>\n",
       "      <td>68.410104</td>\n",
       "    </tr>\n",
       "    <tr>\n",
       "      <th>3</th>\n",
       "      <td>February</td>\n",
       "      <td>54.147478</td>\n",
       "    </tr>\n",
       "    <tr>\n",
       "      <th>4</th>\n",
       "      <td>January</td>\n",
       "      <td>48.761125</td>\n",
       "    </tr>\n",
       "    <tr>\n",
       "      <th>5</th>\n",
       "      <td>July</td>\n",
       "      <td>150.122528</td>\n",
       "    </tr>\n",
       "    <tr>\n",
       "      <th>6</th>\n",
       "      <td>June</td>\n",
       "      <td>107.974850</td>\n",
       "    </tr>\n",
       "    <tr>\n",
       "      <th>7</th>\n",
       "      <td>March</td>\n",
       "      <td>57.056838</td>\n",
       "    </tr>\n",
       "    <tr>\n",
       "      <th>8</th>\n",
       "      <td>May</td>\n",
       "      <td>76.657558</td>\n",
       "    </tr>\n",
       "    <tr>\n",
       "      <th>9</th>\n",
       "      <td>November</td>\n",
       "      <td>48.706289</td>\n",
       "    </tr>\n",
       "    <tr>\n",
       "      <th>10</th>\n",
       "      <td>October</td>\n",
       "      <td>61.775449</td>\n",
       "    </tr>\n",
       "    <tr>\n",
       "      <th>11</th>\n",
       "      <td>September</td>\n",
       "      <td>96.416860</td>\n",
       "    </tr>\n",
       "  </tbody>\n",
       "</table>\n",
       "</div>"
      ],
      "text/plain": [
       "   arrival_date_month         adr\n",
       "0               April   75.867816\n",
       "1              August  181.205892\n",
       "2            December   68.410104\n",
       "3            February   54.147478\n",
       "4             January   48.761125\n",
       "5                July  150.122528\n",
       "6                June  107.974850\n",
       "7               March   57.056838\n",
       "8                 May   76.657558\n",
       "9            November   48.706289\n",
       "10            October   61.775449\n",
       "11          September   96.416860"
      ]
     },
     "execution_count": 166,
     "metadata": {},
     "output_type": "execute_result"
    }
   ],
   "source": [
    "city_hotel=data_city.groupby(['arrival_date_month'])['adr'].mean().reset_index()\n",
    "city_hotel"
   ]
  },
  {
   "cell_type": "code",
   "execution_count": 167,
   "id": "813a91a9",
   "metadata": {},
   "outputs": [
    {
     "data": {
      "text/html": [
       "<div>\n",
       "<style scoped>\n",
       "    .dataframe tbody tr th:only-of-type {\n",
       "        vertical-align: middle;\n",
       "    }\n",
       "\n",
       "    .dataframe tbody tr th {\n",
       "        vertical-align: top;\n",
       "    }\n",
       "\n",
       "    .dataframe thead th {\n",
       "        text-align: right;\n",
       "    }\n",
       "</style>\n",
       "<table border=\"1\" class=\"dataframe\">\n",
       "  <thead>\n",
       "    <tr style=\"text-align: right;\">\n",
       "      <th></th>\n",
       "      <th>Month</th>\n",
       "      <th>Price_for_resort_hotel</th>\n",
       "      <th>Price_for_city_hotel</th>\n",
       "    </tr>\n",
       "  </thead>\n",
       "  <tbody>\n",
       "    <tr>\n",
       "      <th>0</th>\n",
       "      <td>April</td>\n",
       "      <td>75.867816</td>\n",
       "      <td>75.867816</td>\n",
       "    </tr>\n",
       "    <tr>\n",
       "      <th>1</th>\n",
       "      <td>August</td>\n",
       "      <td>181.205892</td>\n",
       "      <td>181.205892</td>\n",
       "    </tr>\n",
       "    <tr>\n",
       "      <th>2</th>\n",
       "      <td>December</td>\n",
       "      <td>68.410104</td>\n",
       "      <td>68.410104</td>\n",
       "    </tr>\n",
       "    <tr>\n",
       "      <th>3</th>\n",
       "      <td>February</td>\n",
       "      <td>54.147478</td>\n",
       "      <td>54.147478</td>\n",
       "    </tr>\n",
       "    <tr>\n",
       "      <th>4</th>\n",
       "      <td>January</td>\n",
       "      <td>48.761125</td>\n",
       "      <td>48.761125</td>\n",
       "    </tr>\n",
       "    <tr>\n",
       "      <th>5</th>\n",
       "      <td>July</td>\n",
       "      <td>150.122528</td>\n",
       "      <td>150.122528</td>\n",
       "    </tr>\n",
       "    <tr>\n",
       "      <th>6</th>\n",
       "      <td>June</td>\n",
       "      <td>107.974850</td>\n",
       "      <td>107.974850</td>\n",
       "    </tr>\n",
       "    <tr>\n",
       "      <th>7</th>\n",
       "      <td>March</td>\n",
       "      <td>57.056838</td>\n",
       "      <td>57.056838</td>\n",
       "    </tr>\n",
       "    <tr>\n",
       "      <th>8</th>\n",
       "      <td>May</td>\n",
       "      <td>76.657558</td>\n",
       "      <td>76.657558</td>\n",
       "    </tr>\n",
       "    <tr>\n",
       "      <th>9</th>\n",
       "      <td>November</td>\n",
       "      <td>48.706289</td>\n",
       "      <td>48.706289</td>\n",
       "    </tr>\n",
       "    <tr>\n",
       "      <th>10</th>\n",
       "      <td>October</td>\n",
       "      <td>61.775449</td>\n",
       "      <td>61.775449</td>\n",
       "    </tr>\n",
       "    <tr>\n",
       "      <th>11</th>\n",
       "      <td>September</td>\n",
       "      <td>96.416860</td>\n",
       "      <td>96.416860</td>\n",
       "    </tr>\n",
       "  </tbody>\n",
       "</table>\n",
       "</div>"
      ],
      "text/plain": [
       "        Month  Price_for_resort_hotel  Price_for_city_hotel\n",
       "0       April               75.867816             75.867816\n",
       "1      August              181.205892            181.205892\n",
       "2    December               68.410104             68.410104\n",
       "3    February               54.147478             54.147478\n",
       "4     January               48.761125             48.761125\n",
       "5        July              150.122528            150.122528\n",
       "6        June              107.974850            107.974850\n",
       "7       March               57.056838             57.056838\n",
       "8         May               76.657558             76.657558\n",
       "9    November               48.706289             48.706289\n",
       "10    October               61.775449             61.775449\n",
       "11  September               96.416860             96.416860"
      ]
     },
     "execution_count": 167,
     "metadata": {},
     "output_type": "execute_result"
    }
   ],
   "source": [
    "final=resort_hotel.merge(city_hotel,on='arrival_date_month')\n",
    "final.columns=['Month','Price_for_resort_hotel','Price_for_city_hotel']\n",
    "final"
   ]
  },
  {
   "cell_type": "code",
   "execution_count": 168,
   "id": "ad4a5837",
   "metadata": {},
   "outputs": [
    {
     "name": "stderr",
     "output_type": "stream",
     "text": [
      "ERROR: Invalid requirement: '#Installing'\n"
     ]
    }
   ],
   "source": [
    "!pip install sorted-months-weekdays    #Installing packages  "
   ]
  },
  {
   "cell_type": "code",
   "execution_count": 169,
   "id": "14f26af7",
   "metadata": {},
   "outputs": [
    {
     "name": "stderr",
     "output_type": "stream",
     "text": [
      "ERROR: Invalid requirement: '#Installing'\n"
     ]
    }
   ],
   "source": [
    "!pip install sort-dataframeby-monthorweek #Installing packages"
   ]
  },
  {
   "cell_type": "code",
   "execution_count": 170,
   "id": "efaa3b39",
   "metadata": {},
   "outputs": [],
   "source": [
    "import sort_dataframeby_monthorweek as sd #importing package and giving an alias"
   ]
  },
  {
   "cell_type": "code",
   "execution_count": 171,
   "id": "05806b09",
   "metadata": {},
   "outputs": [],
   "source": [
    "def sort_data(df,colname):                          #function taking inputs - dataframe and column name\n",
    "    return sd.Sort_Dataframeby_Month(df,colname)    #returning sorted order of month"
   ]
  },
  {
   "cell_type": "code",
   "execution_count": 172,
   "id": "95d5206e",
   "metadata": {},
   "outputs": [
    {
     "data": {
      "text/html": [
       "<div>\n",
       "<style scoped>\n",
       "    .dataframe tbody tr th:only-of-type {\n",
       "        vertical-align: middle;\n",
       "    }\n",
       "\n",
       "    .dataframe tbody tr th {\n",
       "        vertical-align: top;\n",
       "    }\n",
       "\n",
       "    .dataframe thead th {\n",
       "        text-align: right;\n",
       "    }\n",
       "</style>\n",
       "<table border=\"1\" class=\"dataframe\">\n",
       "  <thead>\n",
       "    <tr style=\"text-align: right;\">\n",
       "      <th></th>\n",
       "      <th>Month</th>\n",
       "      <th>Price_for_resort_hotel</th>\n",
       "      <th>Price_for_city_hotel</th>\n",
       "    </tr>\n",
       "  </thead>\n",
       "  <tbody>\n",
       "    <tr>\n",
       "      <th>0</th>\n",
       "      <td>January</td>\n",
       "      <td>48.761125</td>\n",
       "      <td>48.761125</td>\n",
       "    </tr>\n",
       "    <tr>\n",
       "      <th>1</th>\n",
       "      <td>February</td>\n",
       "      <td>54.147478</td>\n",
       "      <td>54.147478</td>\n",
       "    </tr>\n",
       "    <tr>\n",
       "      <th>2</th>\n",
       "      <td>March</td>\n",
       "      <td>57.056838</td>\n",
       "      <td>57.056838</td>\n",
       "    </tr>\n",
       "    <tr>\n",
       "      <th>3</th>\n",
       "      <td>April</td>\n",
       "      <td>75.867816</td>\n",
       "      <td>75.867816</td>\n",
       "    </tr>\n",
       "    <tr>\n",
       "      <th>4</th>\n",
       "      <td>May</td>\n",
       "      <td>76.657558</td>\n",
       "      <td>76.657558</td>\n",
       "    </tr>\n",
       "    <tr>\n",
       "      <th>5</th>\n",
       "      <td>June</td>\n",
       "      <td>107.974850</td>\n",
       "      <td>107.974850</td>\n",
       "    </tr>\n",
       "    <tr>\n",
       "      <th>6</th>\n",
       "      <td>July</td>\n",
       "      <td>150.122528</td>\n",
       "      <td>150.122528</td>\n",
       "    </tr>\n",
       "    <tr>\n",
       "      <th>7</th>\n",
       "      <td>August</td>\n",
       "      <td>181.205892</td>\n",
       "      <td>181.205892</td>\n",
       "    </tr>\n",
       "    <tr>\n",
       "      <th>8</th>\n",
       "      <td>September</td>\n",
       "      <td>96.416860</td>\n",
       "      <td>96.416860</td>\n",
       "    </tr>\n",
       "    <tr>\n",
       "      <th>9</th>\n",
       "      <td>October</td>\n",
       "      <td>61.775449</td>\n",
       "      <td>61.775449</td>\n",
       "    </tr>\n",
       "    <tr>\n",
       "      <th>10</th>\n",
       "      <td>November</td>\n",
       "      <td>48.706289</td>\n",
       "      <td>48.706289</td>\n",
       "    </tr>\n",
       "    <tr>\n",
       "      <th>11</th>\n",
       "      <td>December</td>\n",
       "      <td>68.410104</td>\n",
       "      <td>68.410104</td>\n",
       "    </tr>\n",
       "  </tbody>\n",
       "</table>\n",
       "</div>"
      ],
      "text/plain": [
       "        Month  Price_for_resort_hotel  Price_for_city_hotel\n",
       "0     January               48.761125             48.761125\n",
       "1    February               54.147478             54.147478\n",
       "2       March               57.056838             57.056838\n",
       "3       April               75.867816             75.867816\n",
       "4         May               76.657558             76.657558\n",
       "5        June              107.974850            107.974850\n",
       "6        July              150.122528            150.122528\n",
       "7      August              181.205892            181.205892\n",
       "8   September               96.416860             96.416860\n",
       "9     October               61.775449             61.775449\n",
       "10   November               48.706289             48.706289\n",
       "11   December               68.410104             68.410104"
      ]
     },
     "execution_count": 172,
     "metadata": {},
     "output_type": "execute_result"
    }
   ],
   "source": [
    "final=sort_data(final,'Month') #Calling the function and giving parameters\n",
    "final                  #printing the table"
   ]
  },
  {
   "cell_type": "code",
   "execution_count": 173,
   "id": "d16aec73",
   "metadata": {},
   "outputs": [
    {
     "data": {
      "text/plain": [
       "Index(['Month', 'Price_for_resort_hotel', 'Price_for_city_hotel'], dtype='object')"
      ]
     },
     "execution_count": 173,
     "metadata": {},
     "output_type": "execute_result"
    }
   ],
   "source": [
    "final.columns                   #Checking column names"
   ]
  },
  {
   "cell_type": "code",
   "execution_count": 174,
   "id": "522f70e1",
   "metadata": {},
   "outputs": [
    {
     "data": {
      "application/vnd.plotly.v1+json": {
       "config": {
        "plotlyServerURL": "https://plot.ly"
       },
       "data": [
        {
         "hovertemplate": "variable=Price_for_resort_hotel<br>Month=%{x}<br>value=%{y}<extra></extra>",
         "legendgroup": "Price_for_resort_hotel",
         "line": {
          "color": "#636efa",
          "dash": "solid"
         },
         "marker": {
          "symbol": "circle"
         },
         "mode": "lines",
         "name": "Price_for_resort_hotel",
         "orientation": "v",
         "showlegend": true,
         "type": "scatter",
         "x": [
          "January",
          "February",
          "March",
          "April",
          "May",
          "June",
          "July",
          "August",
          "September",
          "October",
          "November",
          "December"
         ],
         "xaxis": "x",
         "y": [
          48.761125401929256,
          54.14747833622184,
          57.056837806301054,
          75.86781568627451,
          76.65755818540434,
          107.97485027000491,
          150.1225278928913,
          181.20589192508442,
          96.41686013320647,
          61.77544854368932,
          48.706288607594935,
          68.41010427010924
         ],
         "yaxis": "y"
        },
        {
         "hovertemplate": "variable=Price_for_city_hotel<br>Month=%{x}<br>value=%{y}<extra></extra>",
         "legendgroup": "Price_for_city_hotel",
         "line": {
          "color": "#EF553B",
          "dash": "solid"
         },
         "marker": {
          "symbol": "circle"
         },
         "mode": "lines",
         "name": "Price_for_city_hotel",
         "orientation": "v",
         "showlegend": true,
         "type": "scatter",
         "x": [
          "January",
          "February",
          "March",
          "April",
          "May",
          "June",
          "July",
          "August",
          "September",
          "October",
          "November",
          "December"
         ],
         "xaxis": "x",
         "y": [
          48.761125401929256,
          54.14747833622184,
          57.056837806301054,
          75.86781568627451,
          76.65755818540434,
          107.97485027000491,
          150.1225278928913,
          181.20589192508442,
          96.41686013320647,
          61.77544854368932,
          48.706288607594935,
          68.41010427010924
         ],
         "yaxis": "y"
        }
       ],
       "layout": {
        "legend": {
         "title": {
          "text": "variable"
         },
         "tracegroupgap": 0
        },
        "template": {
         "data": {
          "bar": [
           {
            "error_x": {
             "color": "#2a3f5f"
            },
            "error_y": {
             "color": "#2a3f5f"
            },
            "marker": {
             "line": {
              "color": "#E5ECF6",
              "width": 0.5
             },
             "pattern": {
              "fillmode": "overlay",
              "size": 10,
              "solidity": 0.2
             }
            },
            "type": "bar"
           }
          ],
          "barpolar": [
           {
            "marker": {
             "line": {
              "color": "#E5ECF6",
              "width": 0.5
             },
             "pattern": {
              "fillmode": "overlay",
              "size": 10,
              "solidity": 0.2
             }
            },
            "type": "barpolar"
           }
          ],
          "carpet": [
           {
            "aaxis": {
             "endlinecolor": "#2a3f5f",
             "gridcolor": "white",
             "linecolor": "white",
             "minorgridcolor": "white",
             "startlinecolor": "#2a3f5f"
            },
            "baxis": {
             "endlinecolor": "#2a3f5f",
             "gridcolor": "white",
             "linecolor": "white",
             "minorgridcolor": "white",
             "startlinecolor": "#2a3f5f"
            },
            "type": "carpet"
           }
          ],
          "choropleth": [
           {
            "colorbar": {
             "outlinewidth": 0,
             "ticks": ""
            },
            "type": "choropleth"
           }
          ],
          "contour": [
           {
            "colorbar": {
             "outlinewidth": 0,
             "ticks": ""
            },
            "colorscale": [
             [
              0,
              "#0d0887"
             ],
             [
              0.1111111111111111,
              "#46039f"
             ],
             [
              0.2222222222222222,
              "#7201a8"
             ],
             [
              0.3333333333333333,
              "#9c179e"
             ],
             [
              0.4444444444444444,
              "#bd3786"
             ],
             [
              0.5555555555555556,
              "#d8576b"
             ],
             [
              0.6666666666666666,
              "#ed7953"
             ],
             [
              0.7777777777777778,
              "#fb9f3a"
             ],
             [
              0.8888888888888888,
              "#fdca26"
             ],
             [
              1,
              "#f0f921"
             ]
            ],
            "type": "contour"
           }
          ],
          "contourcarpet": [
           {
            "colorbar": {
             "outlinewidth": 0,
             "ticks": ""
            },
            "type": "contourcarpet"
           }
          ],
          "heatmap": [
           {
            "colorbar": {
             "outlinewidth": 0,
             "ticks": ""
            },
            "colorscale": [
             [
              0,
              "#0d0887"
             ],
             [
              0.1111111111111111,
              "#46039f"
             ],
             [
              0.2222222222222222,
              "#7201a8"
             ],
             [
              0.3333333333333333,
              "#9c179e"
             ],
             [
              0.4444444444444444,
              "#bd3786"
             ],
             [
              0.5555555555555556,
              "#d8576b"
             ],
             [
              0.6666666666666666,
              "#ed7953"
             ],
             [
              0.7777777777777778,
              "#fb9f3a"
             ],
             [
              0.8888888888888888,
              "#fdca26"
             ],
             [
              1,
              "#f0f921"
             ]
            ],
            "type": "heatmap"
           }
          ],
          "heatmapgl": [
           {
            "colorbar": {
             "outlinewidth": 0,
             "ticks": ""
            },
            "colorscale": [
             [
              0,
              "#0d0887"
             ],
             [
              0.1111111111111111,
              "#46039f"
             ],
             [
              0.2222222222222222,
              "#7201a8"
             ],
             [
              0.3333333333333333,
              "#9c179e"
             ],
             [
              0.4444444444444444,
              "#bd3786"
             ],
             [
              0.5555555555555556,
              "#d8576b"
             ],
             [
              0.6666666666666666,
              "#ed7953"
             ],
             [
              0.7777777777777778,
              "#fb9f3a"
             ],
             [
              0.8888888888888888,
              "#fdca26"
             ],
             [
              1,
              "#f0f921"
             ]
            ],
            "type": "heatmapgl"
           }
          ],
          "histogram": [
           {
            "marker": {
             "pattern": {
              "fillmode": "overlay",
              "size": 10,
              "solidity": 0.2
             }
            },
            "type": "histogram"
           }
          ],
          "histogram2d": [
           {
            "colorbar": {
             "outlinewidth": 0,
             "ticks": ""
            },
            "colorscale": [
             [
              0,
              "#0d0887"
             ],
             [
              0.1111111111111111,
              "#46039f"
             ],
             [
              0.2222222222222222,
              "#7201a8"
             ],
             [
              0.3333333333333333,
              "#9c179e"
             ],
             [
              0.4444444444444444,
              "#bd3786"
             ],
             [
              0.5555555555555556,
              "#d8576b"
             ],
             [
              0.6666666666666666,
              "#ed7953"
             ],
             [
              0.7777777777777778,
              "#fb9f3a"
             ],
             [
              0.8888888888888888,
              "#fdca26"
             ],
             [
              1,
              "#f0f921"
             ]
            ],
            "type": "histogram2d"
           }
          ],
          "histogram2dcontour": [
           {
            "colorbar": {
             "outlinewidth": 0,
             "ticks": ""
            },
            "colorscale": [
             [
              0,
              "#0d0887"
             ],
             [
              0.1111111111111111,
              "#46039f"
             ],
             [
              0.2222222222222222,
              "#7201a8"
             ],
             [
              0.3333333333333333,
              "#9c179e"
             ],
             [
              0.4444444444444444,
              "#bd3786"
             ],
             [
              0.5555555555555556,
              "#d8576b"
             ],
             [
              0.6666666666666666,
              "#ed7953"
             ],
             [
              0.7777777777777778,
              "#fb9f3a"
             ],
             [
              0.8888888888888888,
              "#fdca26"
             ],
             [
              1,
              "#f0f921"
             ]
            ],
            "type": "histogram2dcontour"
           }
          ],
          "mesh3d": [
           {
            "colorbar": {
             "outlinewidth": 0,
             "ticks": ""
            },
            "type": "mesh3d"
           }
          ],
          "parcoords": [
           {
            "line": {
             "colorbar": {
              "outlinewidth": 0,
              "ticks": ""
             }
            },
            "type": "parcoords"
           }
          ],
          "pie": [
           {
            "automargin": true,
            "type": "pie"
           }
          ],
          "scatter": [
           {
            "marker": {
             "colorbar": {
              "outlinewidth": 0,
              "ticks": ""
             }
            },
            "type": "scatter"
           }
          ],
          "scatter3d": [
           {
            "line": {
             "colorbar": {
              "outlinewidth": 0,
              "ticks": ""
             }
            },
            "marker": {
             "colorbar": {
              "outlinewidth": 0,
              "ticks": ""
             }
            },
            "type": "scatter3d"
           }
          ],
          "scattercarpet": [
           {
            "marker": {
             "colorbar": {
              "outlinewidth": 0,
              "ticks": ""
             }
            },
            "type": "scattercarpet"
           }
          ],
          "scattergeo": [
           {
            "marker": {
             "colorbar": {
              "outlinewidth": 0,
              "ticks": ""
             }
            },
            "type": "scattergeo"
           }
          ],
          "scattergl": [
           {
            "marker": {
             "colorbar": {
              "outlinewidth": 0,
              "ticks": ""
             }
            },
            "type": "scattergl"
           }
          ],
          "scattermapbox": [
           {
            "marker": {
             "colorbar": {
              "outlinewidth": 0,
              "ticks": ""
             }
            },
            "type": "scattermapbox"
           }
          ],
          "scatterpolar": [
           {
            "marker": {
             "colorbar": {
              "outlinewidth": 0,
              "ticks": ""
             }
            },
            "type": "scatterpolar"
           }
          ],
          "scatterpolargl": [
           {
            "marker": {
             "colorbar": {
              "outlinewidth": 0,
              "ticks": ""
             }
            },
            "type": "scatterpolargl"
           }
          ],
          "scatterternary": [
           {
            "marker": {
             "colorbar": {
              "outlinewidth": 0,
              "ticks": ""
             }
            },
            "type": "scatterternary"
           }
          ],
          "surface": [
           {
            "colorbar": {
             "outlinewidth": 0,
             "ticks": ""
            },
            "colorscale": [
             [
              0,
              "#0d0887"
             ],
             [
              0.1111111111111111,
              "#46039f"
             ],
             [
              0.2222222222222222,
              "#7201a8"
             ],
             [
              0.3333333333333333,
              "#9c179e"
             ],
             [
              0.4444444444444444,
              "#bd3786"
             ],
             [
              0.5555555555555556,
              "#d8576b"
             ],
             [
              0.6666666666666666,
              "#ed7953"
             ],
             [
              0.7777777777777778,
              "#fb9f3a"
             ],
             [
              0.8888888888888888,
              "#fdca26"
             ],
             [
              1,
              "#f0f921"
             ]
            ],
            "type": "surface"
           }
          ],
          "table": [
           {
            "cells": {
             "fill": {
              "color": "#EBF0F8"
             },
             "line": {
              "color": "white"
             }
            },
            "header": {
             "fill": {
              "color": "#C8D4E3"
             },
             "line": {
              "color": "white"
             }
            },
            "type": "table"
           }
          ]
         },
         "layout": {
          "annotationdefaults": {
           "arrowcolor": "#2a3f5f",
           "arrowhead": 0,
           "arrowwidth": 1
          },
          "autotypenumbers": "strict",
          "coloraxis": {
           "colorbar": {
            "outlinewidth": 0,
            "ticks": ""
           }
          },
          "colorscale": {
           "diverging": [
            [
             0,
             "#8e0152"
            ],
            [
             0.1,
             "#c51b7d"
            ],
            [
             0.2,
             "#de77ae"
            ],
            [
             0.3,
             "#f1b6da"
            ],
            [
             0.4,
             "#fde0ef"
            ],
            [
             0.5,
             "#f7f7f7"
            ],
            [
             0.6,
             "#e6f5d0"
            ],
            [
             0.7,
             "#b8e186"
            ],
            [
             0.8,
             "#7fbc41"
            ],
            [
             0.9,
             "#4d9221"
            ],
            [
             1,
             "#276419"
            ]
           ],
           "sequential": [
            [
             0,
             "#0d0887"
            ],
            [
             0.1111111111111111,
             "#46039f"
            ],
            [
             0.2222222222222222,
             "#7201a8"
            ],
            [
             0.3333333333333333,
             "#9c179e"
            ],
            [
             0.4444444444444444,
             "#bd3786"
            ],
            [
             0.5555555555555556,
             "#d8576b"
            ],
            [
             0.6666666666666666,
             "#ed7953"
            ],
            [
             0.7777777777777778,
             "#fb9f3a"
            ],
            [
             0.8888888888888888,
             "#fdca26"
            ],
            [
             1,
             "#f0f921"
            ]
           ],
           "sequentialminus": [
            [
             0,
             "#0d0887"
            ],
            [
             0.1111111111111111,
             "#46039f"
            ],
            [
             0.2222222222222222,
             "#7201a8"
            ],
            [
             0.3333333333333333,
             "#9c179e"
            ],
            [
             0.4444444444444444,
             "#bd3786"
            ],
            [
             0.5555555555555556,
             "#d8576b"
            ],
            [
             0.6666666666666666,
             "#ed7953"
            ],
            [
             0.7777777777777778,
             "#fb9f3a"
            ],
            [
             0.8888888888888888,
             "#fdca26"
            ],
            [
             1,
             "#f0f921"
            ]
           ]
          },
          "colorway": [
           "#636efa",
           "#EF553B",
           "#00cc96",
           "#ab63fa",
           "#FFA15A",
           "#19d3f3",
           "#FF6692",
           "#B6E880",
           "#FF97FF",
           "#FECB52"
          ],
          "font": {
           "color": "#2a3f5f"
          },
          "geo": {
           "bgcolor": "white",
           "lakecolor": "white",
           "landcolor": "#E5ECF6",
           "showlakes": true,
           "showland": true,
           "subunitcolor": "white"
          },
          "hoverlabel": {
           "align": "left"
          },
          "hovermode": "closest",
          "mapbox": {
           "style": "light"
          },
          "paper_bgcolor": "white",
          "plot_bgcolor": "#E5ECF6",
          "polar": {
           "angularaxis": {
            "gridcolor": "white",
            "linecolor": "white",
            "ticks": ""
           },
           "bgcolor": "#E5ECF6",
           "radialaxis": {
            "gridcolor": "white",
            "linecolor": "white",
            "ticks": ""
           }
          },
          "scene": {
           "xaxis": {
            "backgroundcolor": "#E5ECF6",
            "gridcolor": "white",
            "gridwidth": 2,
            "linecolor": "white",
            "showbackground": true,
            "ticks": "",
            "zerolinecolor": "white"
           },
           "yaxis": {
            "backgroundcolor": "#E5ECF6",
            "gridcolor": "white",
            "gridwidth": 2,
            "linecolor": "white",
            "showbackground": true,
            "ticks": "",
            "zerolinecolor": "white"
           },
           "zaxis": {
            "backgroundcolor": "#E5ECF6",
            "gridcolor": "white",
            "gridwidth": 2,
            "linecolor": "white",
            "showbackground": true,
            "ticks": "",
            "zerolinecolor": "white"
           }
          },
          "shapedefaults": {
           "line": {
            "color": "#2a3f5f"
           }
          },
          "ternary": {
           "aaxis": {
            "gridcolor": "white",
            "linecolor": "white",
            "ticks": ""
           },
           "baxis": {
            "gridcolor": "white",
            "linecolor": "white",
            "ticks": ""
           },
           "bgcolor": "#E5ECF6",
           "caxis": {
            "gridcolor": "white",
            "linecolor": "white",
            "ticks": ""
           }
          },
          "title": {
           "x": 0.05
          },
          "xaxis": {
           "automargin": true,
           "gridcolor": "white",
           "linecolor": "white",
           "ticks": "",
           "title": {
            "standoff": 15
           },
           "zerolinecolor": "white",
           "zerolinewidth": 2
          },
          "yaxis": {
           "automargin": true,
           "gridcolor": "white",
           "linecolor": "white",
           "ticks": "",
           "title": {
            "standoff": 15
           },
           "zerolinecolor": "white",
           "zerolinewidth": 2
          }
         }
        },
        "title": {
         "text": "Room price per night over the months"
        },
        "xaxis": {
         "anchor": "y",
         "domain": [
          0,
          1
         ],
         "title": {
          "text": "Month"
         }
        },
        "yaxis": {
         "anchor": "x",
         "domain": [
          0,
          1
         ],
         "title": {
          "text": "value"
         }
        }
       }
      },
      "text/html": [
       "<div>                            <div id=\"0fd9656a-d086-4a52-8077-b48aeb3daee5\" class=\"plotly-graph-div\" style=\"height:525px; width:100%;\"></div>            <script type=\"text/javascript\">                require([\"plotly\"], function(Plotly) {                    window.PLOTLYENV=window.PLOTLYENV || {};                                    if (document.getElementById(\"0fd9656a-d086-4a52-8077-b48aeb3daee5\")) {                    Plotly.newPlot(                        \"0fd9656a-d086-4a52-8077-b48aeb3daee5\",                        [{\"hovertemplate\":\"variable=Price_for_resort_hotel<br>Month=%{x}<br>value=%{y}<extra></extra>\",\"legendgroup\":\"Price_for_resort_hotel\",\"line\":{\"color\":\"#636efa\",\"dash\":\"solid\"},\"marker\":{\"symbol\":\"circle\"},\"mode\":\"lines\",\"name\":\"Price_for_resort_hotel\",\"orientation\":\"v\",\"showlegend\":true,\"x\":[\"January\",\"February\",\"March\",\"April\",\"May\",\"June\",\"July\",\"August\",\"September\",\"October\",\"November\",\"December\"],\"xaxis\":\"x\",\"y\":[48.761125401929256,54.14747833622184,57.056837806301054,75.86781568627451,76.65755818540434,107.97485027000491,150.1225278928913,181.20589192508442,96.41686013320647,61.77544854368932,48.706288607594935,68.41010427010924],\"yaxis\":\"y\",\"type\":\"scatter\"},{\"hovertemplate\":\"variable=Price_for_city_hotel<br>Month=%{x}<br>value=%{y}<extra></extra>\",\"legendgroup\":\"Price_for_city_hotel\",\"line\":{\"color\":\"#EF553B\",\"dash\":\"solid\"},\"marker\":{\"symbol\":\"circle\"},\"mode\":\"lines\",\"name\":\"Price_for_city_hotel\",\"orientation\":\"v\",\"showlegend\":true,\"x\":[\"January\",\"February\",\"March\",\"April\",\"May\",\"June\",\"July\",\"August\",\"September\",\"October\",\"November\",\"December\"],\"xaxis\":\"x\",\"y\":[48.761125401929256,54.14747833622184,57.056837806301054,75.86781568627451,76.65755818540434,107.97485027000491,150.1225278928913,181.20589192508442,96.41686013320647,61.77544854368932,48.706288607594935,68.41010427010924],\"yaxis\":\"y\",\"type\":\"scatter\"}],                        {\"template\":{\"data\":{\"bar\":[{\"error_x\":{\"color\":\"#2a3f5f\"},\"error_y\":{\"color\":\"#2a3f5f\"},\"marker\":{\"line\":{\"color\":\"#E5ECF6\",\"width\":0.5},\"pattern\":{\"fillmode\":\"overlay\",\"size\":10,\"solidity\":0.2}},\"type\":\"bar\"}],\"barpolar\":[{\"marker\":{\"line\":{\"color\":\"#E5ECF6\",\"width\":0.5},\"pattern\":{\"fillmode\":\"overlay\",\"size\":10,\"solidity\":0.2}},\"type\":\"barpolar\"}],\"carpet\":[{\"aaxis\":{\"endlinecolor\":\"#2a3f5f\",\"gridcolor\":\"white\",\"linecolor\":\"white\",\"minorgridcolor\":\"white\",\"startlinecolor\":\"#2a3f5f\"},\"baxis\":{\"endlinecolor\":\"#2a3f5f\",\"gridcolor\":\"white\",\"linecolor\":\"white\",\"minorgridcolor\":\"white\",\"startlinecolor\":\"#2a3f5f\"},\"type\":\"carpet\"}],\"choropleth\":[{\"colorbar\":{\"outlinewidth\":0,\"ticks\":\"\"},\"type\":\"choropleth\"}],\"contour\":[{\"colorbar\":{\"outlinewidth\":0,\"ticks\":\"\"},\"colorscale\":[[0.0,\"#0d0887\"],[0.1111111111111111,\"#46039f\"],[0.2222222222222222,\"#7201a8\"],[0.3333333333333333,\"#9c179e\"],[0.4444444444444444,\"#bd3786\"],[0.5555555555555556,\"#d8576b\"],[0.6666666666666666,\"#ed7953\"],[0.7777777777777778,\"#fb9f3a\"],[0.8888888888888888,\"#fdca26\"],[1.0,\"#f0f921\"]],\"type\":\"contour\"}],\"contourcarpet\":[{\"colorbar\":{\"outlinewidth\":0,\"ticks\":\"\"},\"type\":\"contourcarpet\"}],\"heatmap\":[{\"colorbar\":{\"outlinewidth\":0,\"ticks\":\"\"},\"colorscale\":[[0.0,\"#0d0887\"],[0.1111111111111111,\"#46039f\"],[0.2222222222222222,\"#7201a8\"],[0.3333333333333333,\"#9c179e\"],[0.4444444444444444,\"#bd3786\"],[0.5555555555555556,\"#d8576b\"],[0.6666666666666666,\"#ed7953\"],[0.7777777777777778,\"#fb9f3a\"],[0.8888888888888888,\"#fdca26\"],[1.0,\"#f0f921\"]],\"type\":\"heatmap\"}],\"heatmapgl\":[{\"colorbar\":{\"outlinewidth\":0,\"ticks\":\"\"},\"colorscale\":[[0.0,\"#0d0887\"],[0.1111111111111111,\"#46039f\"],[0.2222222222222222,\"#7201a8\"],[0.3333333333333333,\"#9c179e\"],[0.4444444444444444,\"#bd3786\"],[0.5555555555555556,\"#d8576b\"],[0.6666666666666666,\"#ed7953\"],[0.7777777777777778,\"#fb9f3a\"],[0.8888888888888888,\"#fdca26\"],[1.0,\"#f0f921\"]],\"type\":\"heatmapgl\"}],\"histogram\":[{\"marker\":{\"pattern\":{\"fillmode\":\"overlay\",\"size\":10,\"solidity\":0.2}},\"type\":\"histogram\"}],\"histogram2d\":[{\"colorbar\":{\"outlinewidth\":0,\"ticks\":\"\"},\"colorscale\":[[0.0,\"#0d0887\"],[0.1111111111111111,\"#46039f\"],[0.2222222222222222,\"#7201a8\"],[0.3333333333333333,\"#9c179e\"],[0.4444444444444444,\"#bd3786\"],[0.5555555555555556,\"#d8576b\"],[0.6666666666666666,\"#ed7953\"],[0.7777777777777778,\"#fb9f3a\"],[0.8888888888888888,\"#fdca26\"],[1.0,\"#f0f921\"]],\"type\":\"histogram2d\"}],\"histogram2dcontour\":[{\"colorbar\":{\"outlinewidth\":0,\"ticks\":\"\"},\"colorscale\":[[0.0,\"#0d0887\"],[0.1111111111111111,\"#46039f\"],[0.2222222222222222,\"#7201a8\"],[0.3333333333333333,\"#9c179e\"],[0.4444444444444444,\"#bd3786\"],[0.5555555555555556,\"#d8576b\"],[0.6666666666666666,\"#ed7953\"],[0.7777777777777778,\"#fb9f3a\"],[0.8888888888888888,\"#fdca26\"],[1.0,\"#f0f921\"]],\"type\":\"histogram2dcontour\"}],\"mesh3d\":[{\"colorbar\":{\"outlinewidth\":0,\"ticks\":\"\"},\"type\":\"mesh3d\"}],\"parcoords\":[{\"line\":{\"colorbar\":{\"outlinewidth\":0,\"ticks\":\"\"}},\"type\":\"parcoords\"}],\"pie\":[{\"automargin\":true,\"type\":\"pie\"}],\"scatter\":[{\"marker\":{\"colorbar\":{\"outlinewidth\":0,\"ticks\":\"\"}},\"type\":\"scatter\"}],\"scatter3d\":[{\"line\":{\"colorbar\":{\"outlinewidth\":0,\"ticks\":\"\"}},\"marker\":{\"colorbar\":{\"outlinewidth\":0,\"ticks\":\"\"}},\"type\":\"scatter3d\"}],\"scattercarpet\":[{\"marker\":{\"colorbar\":{\"outlinewidth\":0,\"ticks\":\"\"}},\"type\":\"scattercarpet\"}],\"scattergeo\":[{\"marker\":{\"colorbar\":{\"outlinewidth\":0,\"ticks\":\"\"}},\"type\":\"scattergeo\"}],\"scattergl\":[{\"marker\":{\"colorbar\":{\"outlinewidth\":0,\"ticks\":\"\"}},\"type\":\"scattergl\"}],\"scattermapbox\":[{\"marker\":{\"colorbar\":{\"outlinewidth\":0,\"ticks\":\"\"}},\"type\":\"scattermapbox\"}],\"scatterpolar\":[{\"marker\":{\"colorbar\":{\"outlinewidth\":0,\"ticks\":\"\"}},\"type\":\"scatterpolar\"}],\"scatterpolargl\":[{\"marker\":{\"colorbar\":{\"outlinewidth\":0,\"ticks\":\"\"}},\"type\":\"scatterpolargl\"}],\"scatterternary\":[{\"marker\":{\"colorbar\":{\"outlinewidth\":0,\"ticks\":\"\"}},\"type\":\"scatterternary\"}],\"surface\":[{\"colorbar\":{\"outlinewidth\":0,\"ticks\":\"\"},\"colorscale\":[[0.0,\"#0d0887\"],[0.1111111111111111,\"#46039f\"],[0.2222222222222222,\"#7201a8\"],[0.3333333333333333,\"#9c179e\"],[0.4444444444444444,\"#bd3786\"],[0.5555555555555556,\"#d8576b\"],[0.6666666666666666,\"#ed7953\"],[0.7777777777777778,\"#fb9f3a\"],[0.8888888888888888,\"#fdca26\"],[1.0,\"#f0f921\"]],\"type\":\"surface\"}],\"table\":[{\"cells\":{\"fill\":{\"color\":\"#EBF0F8\"},\"line\":{\"color\":\"white\"}},\"header\":{\"fill\":{\"color\":\"#C8D4E3\"},\"line\":{\"color\":\"white\"}},\"type\":\"table\"}]},\"layout\":{\"annotationdefaults\":{\"arrowcolor\":\"#2a3f5f\",\"arrowhead\":0,\"arrowwidth\":1},\"autotypenumbers\":\"strict\",\"coloraxis\":{\"colorbar\":{\"outlinewidth\":0,\"ticks\":\"\"}},\"colorscale\":{\"diverging\":[[0,\"#8e0152\"],[0.1,\"#c51b7d\"],[0.2,\"#de77ae\"],[0.3,\"#f1b6da\"],[0.4,\"#fde0ef\"],[0.5,\"#f7f7f7\"],[0.6,\"#e6f5d0\"],[0.7,\"#b8e186\"],[0.8,\"#7fbc41\"],[0.9,\"#4d9221\"],[1,\"#276419\"]],\"sequential\":[[0.0,\"#0d0887\"],[0.1111111111111111,\"#46039f\"],[0.2222222222222222,\"#7201a8\"],[0.3333333333333333,\"#9c179e\"],[0.4444444444444444,\"#bd3786\"],[0.5555555555555556,\"#d8576b\"],[0.6666666666666666,\"#ed7953\"],[0.7777777777777778,\"#fb9f3a\"],[0.8888888888888888,\"#fdca26\"],[1.0,\"#f0f921\"]],\"sequentialminus\":[[0.0,\"#0d0887\"],[0.1111111111111111,\"#46039f\"],[0.2222222222222222,\"#7201a8\"],[0.3333333333333333,\"#9c179e\"],[0.4444444444444444,\"#bd3786\"],[0.5555555555555556,\"#d8576b\"],[0.6666666666666666,\"#ed7953\"],[0.7777777777777778,\"#fb9f3a\"],[0.8888888888888888,\"#fdca26\"],[1.0,\"#f0f921\"]]},\"colorway\":[\"#636efa\",\"#EF553B\",\"#00cc96\",\"#ab63fa\",\"#FFA15A\",\"#19d3f3\",\"#FF6692\",\"#B6E880\",\"#FF97FF\",\"#FECB52\"],\"font\":{\"color\":\"#2a3f5f\"},\"geo\":{\"bgcolor\":\"white\",\"lakecolor\":\"white\",\"landcolor\":\"#E5ECF6\",\"showlakes\":true,\"showland\":true,\"subunitcolor\":\"white\"},\"hoverlabel\":{\"align\":\"left\"},\"hovermode\":\"closest\",\"mapbox\":{\"style\":\"light\"},\"paper_bgcolor\":\"white\",\"plot_bgcolor\":\"#E5ECF6\",\"polar\":{\"angularaxis\":{\"gridcolor\":\"white\",\"linecolor\":\"white\",\"ticks\":\"\"},\"bgcolor\":\"#E5ECF6\",\"radialaxis\":{\"gridcolor\":\"white\",\"linecolor\":\"white\",\"ticks\":\"\"}},\"scene\":{\"xaxis\":{\"backgroundcolor\":\"#E5ECF6\",\"gridcolor\":\"white\",\"gridwidth\":2,\"linecolor\":\"white\",\"showbackground\":true,\"ticks\":\"\",\"zerolinecolor\":\"white\"},\"yaxis\":{\"backgroundcolor\":\"#E5ECF6\",\"gridcolor\":\"white\",\"gridwidth\":2,\"linecolor\":\"white\",\"showbackground\":true,\"ticks\":\"\",\"zerolinecolor\":\"white\"},\"zaxis\":{\"backgroundcolor\":\"#E5ECF6\",\"gridcolor\":\"white\",\"gridwidth\":2,\"linecolor\":\"white\",\"showbackground\":true,\"ticks\":\"\",\"zerolinecolor\":\"white\"}},\"shapedefaults\":{\"line\":{\"color\":\"#2a3f5f\"}},\"ternary\":{\"aaxis\":{\"gridcolor\":\"white\",\"linecolor\":\"white\",\"ticks\":\"\"},\"baxis\":{\"gridcolor\":\"white\",\"linecolor\":\"white\",\"ticks\":\"\"},\"bgcolor\":\"#E5ECF6\",\"caxis\":{\"gridcolor\":\"white\",\"linecolor\":\"white\",\"ticks\":\"\"}},\"title\":{\"x\":0.05},\"xaxis\":{\"automargin\":true,\"gridcolor\":\"white\",\"linecolor\":\"white\",\"ticks\":\"\",\"title\":{\"standoff\":15},\"zerolinecolor\":\"white\",\"zerolinewidth\":2},\"yaxis\":{\"automargin\":true,\"gridcolor\":\"white\",\"linecolor\":\"white\",\"ticks\":\"\",\"title\":{\"standoff\":15},\"zerolinecolor\":\"white\",\"zerolinewidth\":2}}},\"xaxis\":{\"anchor\":\"y\",\"domain\":[0.0,1.0],\"title\":{\"text\":\"Month\"}},\"yaxis\":{\"anchor\":\"x\",\"domain\":[0.0,1.0],\"title\":{\"text\":\"value\"}},\"legend\":{\"title\":{\"text\":\"variable\"},\"tracegroupgap\":0},\"title\":{\"text\":\"Room price per night over the months\"}},                        {\"responsive\": true}                    ).then(function(){\n",
       "                            \n",
       "var gd = document.getElementById('0fd9656a-d086-4a52-8077-b48aeb3daee5');\n",
       "var x = new MutationObserver(function (mutations, observer) {{\n",
       "        var display = window.getComputedStyle(gd).display;\n",
       "        if (!display || display === 'none') {{\n",
       "            console.log([gd, 'removed!']);\n",
       "            Plotly.purge(gd);\n",
       "            observer.disconnect();\n",
       "        }}\n",
       "}});\n",
       "\n",
       "// Listen for the removal of the full notebook cells\n",
       "var notebookContainer = gd.closest('#notebook-container');\n",
       "if (notebookContainer) {{\n",
       "    x.observe(notebookContainer, {childList: true});\n",
       "}}\n",
       "\n",
       "// Listen for the clearing of the current output cell\n",
       "var outputEl = gd.closest('.output');\n",
       "if (outputEl) {{\n",
       "    x.observe(outputEl, {childList: true});\n",
       "}}\n",
       "\n",
       "                        })                };                });            </script>        </div>"
      ]
     },
     "metadata": {},
     "output_type": "display_data"
    }
   ],
   "source": [
    "px.line(final,x='Month',y=['Price_for_resort_hotel', 'Price_for_city_hotel'],title='Room price per night over the months')           #plotting table using line"
   ]
  },
  {
   "cell_type": "markdown",
   "id": "ce66af88",
   "metadata": {},
   "source": [
    "# Analysing Demand of Hotels"
   ]
  },
  {
   "cell_type": "code",
   "execution_count": 175,
   "id": "b8805869",
   "metadata": {},
   "outputs": [
    {
     "data": {
      "text/html": [
       "<div>\n",
       "<style scoped>\n",
       "    .dataframe tbody tr th:only-of-type {\n",
       "        vertical-align: middle;\n",
       "    }\n",
       "\n",
       "    .dataframe tbody tr th {\n",
       "        vertical-align: top;\n",
       "    }\n",
       "\n",
       "    .dataframe thead th {\n",
       "        text-align: right;\n",
       "    }\n",
       "</style>\n",
       "<table border=\"1\" class=\"dataframe\">\n",
       "  <thead>\n",
       "    <tr style=\"text-align: right;\">\n",
       "      <th></th>\n",
       "      <th>hotel</th>\n",
       "      <th>is_canceled</th>\n",
       "      <th>lead_time</th>\n",
       "      <th>arrival_date_year</th>\n",
       "      <th>arrival_date_month</th>\n",
       "      <th>arrival_date_week_number</th>\n",
       "      <th>arrival_date_day_of_month</th>\n",
       "      <th>stays_in_weekend_nights</th>\n",
       "      <th>stays_in_week_nights</th>\n",
       "      <th>adults</th>\n",
       "      <th>children</th>\n",
       "      <th>babies</th>\n",
       "      <th>meal</th>\n",
       "      <th>country</th>\n",
       "      <th>market_segment</th>\n",
       "      <th>distribution_channel</th>\n",
       "      <th>is_repeated_guest</th>\n",
       "      <th>previous_cancellations</th>\n",
       "      <th>previous_bookings_not_canceled</th>\n",
       "      <th>reserved_room_type</th>\n",
       "      <th>assigned_room_type</th>\n",
       "      <th>booking_changes</th>\n",
       "      <th>deposit_type</th>\n",
       "      <th>agent</th>\n",
       "      <th>company</th>\n",
       "      <th>days_in_waiting_list</th>\n",
       "      <th>customer_type</th>\n",
       "      <th>adr</th>\n",
       "      <th>required_car_parking_spaces</th>\n",
       "      <th>total_of_special_requests</th>\n",
       "      <th>reservation_status</th>\n",
       "      <th>reservation_status_date</th>\n",
       "    </tr>\n",
       "  </thead>\n",
       "  <tbody>\n",
       "    <tr>\n",
       "      <th>0</th>\n",
       "      <td>Resort Hotel</td>\n",
       "      <td>0</td>\n",
       "      <td>342</td>\n",
       "      <td>2015</td>\n",
       "      <td>July</td>\n",
       "      <td>27</td>\n",
       "      <td>1</td>\n",
       "      <td>0</td>\n",
       "      <td>0</td>\n",
       "      <td>2</td>\n",
       "      <td>0.0</td>\n",
       "      <td>0</td>\n",
       "      <td>BB</td>\n",
       "      <td>PRT</td>\n",
       "      <td>Direct</td>\n",
       "      <td>Direct</td>\n",
       "      <td>0</td>\n",
       "      <td>0</td>\n",
       "      <td>0</td>\n",
       "      <td>C</td>\n",
       "      <td>C</td>\n",
       "      <td>3</td>\n",
       "      <td>No Deposit</td>\n",
       "      <td>0.0</td>\n",
       "      <td>0.0</td>\n",
       "      <td>0</td>\n",
       "      <td>Transient</td>\n",
       "      <td>0.0</td>\n",
       "      <td>0</td>\n",
       "      <td>0</td>\n",
       "      <td>Check-Out</td>\n",
       "      <td>7/1/2015</td>\n",
       "    </tr>\n",
       "    <tr>\n",
       "      <th>1</th>\n",
       "      <td>Resort Hotel</td>\n",
       "      <td>0</td>\n",
       "      <td>737</td>\n",
       "      <td>2015</td>\n",
       "      <td>July</td>\n",
       "      <td>27</td>\n",
       "      <td>1</td>\n",
       "      <td>0</td>\n",
       "      <td>0</td>\n",
       "      <td>2</td>\n",
       "      <td>0.0</td>\n",
       "      <td>0</td>\n",
       "      <td>BB</td>\n",
       "      <td>PRT</td>\n",
       "      <td>Direct</td>\n",
       "      <td>Direct</td>\n",
       "      <td>0</td>\n",
       "      <td>0</td>\n",
       "      <td>0</td>\n",
       "      <td>C</td>\n",
       "      <td>C</td>\n",
       "      <td>4</td>\n",
       "      <td>No Deposit</td>\n",
       "      <td>0.0</td>\n",
       "      <td>0.0</td>\n",
       "      <td>0</td>\n",
       "      <td>Transient</td>\n",
       "      <td>0.0</td>\n",
       "      <td>0</td>\n",
       "      <td>0</td>\n",
       "      <td>Check-Out</td>\n",
       "      <td>7/1/2015</td>\n",
       "    </tr>\n",
       "    <tr>\n",
       "      <th>2</th>\n",
       "      <td>Resort Hotel</td>\n",
       "      <td>0</td>\n",
       "      <td>7</td>\n",
       "      <td>2015</td>\n",
       "      <td>July</td>\n",
       "      <td>27</td>\n",
       "      <td>1</td>\n",
       "      <td>0</td>\n",
       "      <td>1</td>\n",
       "      <td>1</td>\n",
       "      <td>0.0</td>\n",
       "      <td>0</td>\n",
       "      <td>BB</td>\n",
       "      <td>GBR</td>\n",
       "      <td>Direct</td>\n",
       "      <td>Direct</td>\n",
       "      <td>0</td>\n",
       "      <td>0</td>\n",
       "      <td>0</td>\n",
       "      <td>A</td>\n",
       "      <td>C</td>\n",
       "      <td>0</td>\n",
       "      <td>No Deposit</td>\n",
       "      <td>0.0</td>\n",
       "      <td>0.0</td>\n",
       "      <td>0</td>\n",
       "      <td>Transient</td>\n",
       "      <td>75.0</td>\n",
       "      <td>0</td>\n",
       "      <td>0</td>\n",
       "      <td>Check-Out</td>\n",
       "      <td>7/2/2015</td>\n",
       "    </tr>\n",
       "    <tr>\n",
       "      <th>3</th>\n",
       "      <td>Resort Hotel</td>\n",
       "      <td>0</td>\n",
       "      <td>13</td>\n",
       "      <td>2015</td>\n",
       "      <td>July</td>\n",
       "      <td>27</td>\n",
       "      <td>1</td>\n",
       "      <td>0</td>\n",
       "      <td>1</td>\n",
       "      <td>1</td>\n",
       "      <td>0.0</td>\n",
       "      <td>0</td>\n",
       "      <td>BB</td>\n",
       "      <td>GBR</td>\n",
       "      <td>Corporate</td>\n",
       "      <td>Corporate</td>\n",
       "      <td>0</td>\n",
       "      <td>0</td>\n",
       "      <td>0</td>\n",
       "      <td>A</td>\n",
       "      <td>A</td>\n",
       "      <td>0</td>\n",
       "      <td>No Deposit</td>\n",
       "      <td>304.0</td>\n",
       "      <td>0.0</td>\n",
       "      <td>0</td>\n",
       "      <td>Transient</td>\n",
       "      <td>75.0</td>\n",
       "      <td>0</td>\n",
       "      <td>0</td>\n",
       "      <td>Check-Out</td>\n",
       "      <td>7/2/2015</td>\n",
       "    </tr>\n",
       "    <tr>\n",
       "      <th>4</th>\n",
       "      <td>Resort Hotel</td>\n",
       "      <td>0</td>\n",
       "      <td>14</td>\n",
       "      <td>2015</td>\n",
       "      <td>July</td>\n",
       "      <td>27</td>\n",
       "      <td>1</td>\n",
       "      <td>0</td>\n",
       "      <td>2</td>\n",
       "      <td>2</td>\n",
       "      <td>0.0</td>\n",
       "      <td>0</td>\n",
       "      <td>BB</td>\n",
       "      <td>GBR</td>\n",
       "      <td>Online TA</td>\n",
       "      <td>TA/TO</td>\n",
       "      <td>0</td>\n",
       "      <td>0</td>\n",
       "      <td>0</td>\n",
       "      <td>A</td>\n",
       "      <td>A</td>\n",
       "      <td>0</td>\n",
       "      <td>No Deposit</td>\n",
       "      <td>240.0</td>\n",
       "      <td>0.0</td>\n",
       "      <td>0</td>\n",
       "      <td>Transient</td>\n",
       "      <td>98.0</td>\n",
       "      <td>0</td>\n",
       "      <td>1</td>\n",
       "      <td>Check-Out</td>\n",
       "      <td>7/3/2015</td>\n",
       "    </tr>\n",
       "  </tbody>\n",
       "</table>\n",
       "</div>"
      ],
      "text/plain": [
       "          hotel  is_canceled  lead_time  arrival_date_year arrival_date_month  \\\n",
       "0  Resort Hotel            0        342               2015               July   \n",
       "1  Resort Hotel            0        737               2015               July   \n",
       "2  Resort Hotel            0          7               2015               July   \n",
       "3  Resort Hotel            0         13               2015               July   \n",
       "4  Resort Hotel            0         14               2015               July   \n",
       "\n",
       "   arrival_date_week_number  arrival_date_day_of_month  \\\n",
       "0                        27                          1   \n",
       "1                        27                          1   \n",
       "2                        27                          1   \n",
       "3                        27                          1   \n",
       "4                        27                          1   \n",
       "\n",
       "   stays_in_weekend_nights  stays_in_week_nights  adults  children  babies  \\\n",
       "0                        0                     0       2       0.0       0   \n",
       "1                        0                     0       2       0.0       0   \n",
       "2                        0                     1       1       0.0       0   \n",
       "3                        0                     1       1       0.0       0   \n",
       "4                        0                     2       2       0.0       0   \n",
       "\n",
       "  meal country market_segment distribution_channel  is_repeated_guest  \\\n",
       "0   BB     PRT         Direct               Direct                  0   \n",
       "1   BB     PRT         Direct               Direct                  0   \n",
       "2   BB     GBR         Direct               Direct                  0   \n",
       "3   BB     GBR      Corporate            Corporate                  0   \n",
       "4   BB     GBR      Online TA                TA/TO                  0   \n",
       "\n",
       "   previous_cancellations  previous_bookings_not_canceled reserved_room_type  \\\n",
       "0                       0                               0                  C   \n",
       "1                       0                               0                  C   \n",
       "2                       0                               0                  A   \n",
       "3                       0                               0                  A   \n",
       "4                       0                               0                  A   \n",
       "\n",
       "  assigned_room_type  booking_changes deposit_type  agent  company  \\\n",
       "0                  C                3   No Deposit    0.0      0.0   \n",
       "1                  C                4   No Deposit    0.0      0.0   \n",
       "2                  C                0   No Deposit    0.0      0.0   \n",
       "3                  A                0   No Deposit  304.0      0.0   \n",
       "4                  A                0   No Deposit  240.0      0.0   \n",
       "\n",
       "   days_in_waiting_list customer_type   adr  required_car_parking_spaces  \\\n",
       "0                     0     Transient   0.0                            0   \n",
       "1                     0     Transient   0.0                            0   \n",
       "2                     0     Transient  75.0                            0   \n",
       "3                     0     Transient  75.0                            0   \n",
       "4                     0     Transient  98.0                            0   \n",
       "\n",
       "   total_of_special_requests reservation_status reservation_status_date  \n",
       "0                          0          Check-Out                7/1/2015  \n",
       "1                          0          Check-Out                7/1/2015  \n",
       "2                          0          Check-Out                7/2/2015  \n",
       "3                          0          Check-Out                7/2/2015  \n",
       "4                          1          Check-Out                7/3/2015  "
      ]
     },
     "execution_count": 175,
     "metadata": {},
     "output_type": "execute_result"
    }
   ],
   "source": [
    "data_resort.head()         #watching dataframe"
   ]
  },
  {
   "cell_type": "code",
   "execution_count": 176,
   "id": "df491d17",
   "metadata": {},
   "outputs": [
    {
     "data": {
      "text/html": [
       "<div>\n",
       "<style scoped>\n",
       "    .dataframe tbody tr th:only-of-type {\n",
       "        vertical-align: middle;\n",
       "    }\n",
       "\n",
       "    .dataframe tbody tr th {\n",
       "        vertical-align: top;\n",
       "    }\n",
       "\n",
       "    .dataframe thead th {\n",
       "        text-align: right;\n",
       "    }\n",
       "</style>\n",
       "<table border=\"1\" class=\"dataframe\">\n",
       "  <thead>\n",
       "    <tr style=\"text-align: right;\">\n",
       "      <th></th>\n",
       "      <th>Month</th>\n",
       "      <th>No of guests</th>\n",
       "    </tr>\n",
       "  </thead>\n",
       "  <tbody>\n",
       "    <tr>\n",
       "      <th>0</th>\n",
       "      <td>August</td>\n",
       "      <td>3257</td>\n",
       "    </tr>\n",
       "    <tr>\n",
       "      <th>1</th>\n",
       "      <td>July</td>\n",
       "      <td>3137</td>\n",
       "    </tr>\n",
       "    <tr>\n",
       "      <th>2</th>\n",
       "      <td>October</td>\n",
       "      <td>2575</td>\n",
       "    </tr>\n",
       "    <tr>\n",
       "      <th>3</th>\n",
       "      <td>March</td>\n",
       "      <td>2571</td>\n",
       "    </tr>\n",
       "    <tr>\n",
       "      <th>4</th>\n",
       "      <td>April</td>\n",
       "      <td>2550</td>\n",
       "    </tr>\n",
       "    <tr>\n",
       "      <th>5</th>\n",
       "      <td>May</td>\n",
       "      <td>2535</td>\n",
       "    </tr>\n",
       "    <tr>\n",
       "      <th>6</th>\n",
       "      <td>February</td>\n",
       "      <td>2308</td>\n",
       "    </tr>\n",
       "    <tr>\n",
       "      <th>7</th>\n",
       "      <td>September</td>\n",
       "      <td>2102</td>\n",
       "    </tr>\n",
       "    <tr>\n",
       "      <th>8</th>\n",
       "      <td>June</td>\n",
       "      <td>2037</td>\n",
       "    </tr>\n",
       "    <tr>\n",
       "      <th>9</th>\n",
       "      <td>December</td>\n",
       "      <td>2014</td>\n",
       "    </tr>\n",
       "    <tr>\n",
       "      <th>10</th>\n",
       "      <td>November</td>\n",
       "      <td>1975</td>\n",
       "    </tr>\n",
       "    <tr>\n",
       "      <th>11</th>\n",
       "      <td>January</td>\n",
       "      <td>1866</td>\n",
       "    </tr>\n",
       "  </tbody>\n",
       "</table>\n",
       "</div>"
      ],
      "text/plain": [
       "        Month  No of guests\n",
       "0      August          3257\n",
       "1        July          3137\n",
       "2     October          2575\n",
       "3       March          2571\n",
       "4       April          2550\n",
       "5         May          2535\n",
       "6    February          2308\n",
       "7   September          2102\n",
       "8        June          2037\n",
       "9    December          2014\n",
       "10   November          1975\n",
       "11    January          1866"
      ]
     },
     "execution_count": 176,
     "metadata": {},
     "output_type": "execute_result"
    }
   ],
   "source": [
    "rush_resort=data_resort['arrival_date_month'].value_counts().reset_index()     #accessing feature and converting into data frame\n",
    "rush_resort.columns=['Month','No of guests']              #renaming column name\n",
    "rush_resort                                       #printing the data frame"
   ]
  },
  {
   "cell_type": "code",
   "execution_count": 177,
   "id": "21cf2234",
   "metadata": {},
   "outputs": [
    {
     "data": {
      "text/html": [
       "<div>\n",
       "<style scoped>\n",
       "    .dataframe tbody tr th:only-of-type {\n",
       "        vertical-align: middle;\n",
       "    }\n",
       "\n",
       "    .dataframe tbody tr th {\n",
       "        vertical-align: top;\n",
       "    }\n",
       "\n",
       "    .dataframe thead th {\n",
       "        text-align: right;\n",
       "    }\n",
       "</style>\n",
       "<table border=\"1\" class=\"dataframe\">\n",
       "  <thead>\n",
       "    <tr style=\"text-align: right;\">\n",
       "      <th></th>\n",
       "      <th>Month</th>\n",
       "      <th>No of guests</th>\n",
       "    </tr>\n",
       "  </thead>\n",
       "  <tbody>\n",
       "    <tr>\n",
       "      <th>0</th>\n",
       "      <td>August</td>\n",
       "      <td>3257</td>\n",
       "    </tr>\n",
       "    <tr>\n",
       "      <th>1</th>\n",
       "      <td>July</td>\n",
       "      <td>3137</td>\n",
       "    </tr>\n",
       "    <tr>\n",
       "      <th>2</th>\n",
       "      <td>October</td>\n",
       "      <td>2575</td>\n",
       "    </tr>\n",
       "    <tr>\n",
       "      <th>3</th>\n",
       "      <td>March</td>\n",
       "      <td>2571</td>\n",
       "    </tr>\n",
       "    <tr>\n",
       "      <th>4</th>\n",
       "      <td>April</td>\n",
       "      <td>2550</td>\n",
       "    </tr>\n",
       "    <tr>\n",
       "      <th>5</th>\n",
       "      <td>May</td>\n",
       "      <td>2535</td>\n",
       "    </tr>\n",
       "    <tr>\n",
       "      <th>6</th>\n",
       "      <td>February</td>\n",
       "      <td>2308</td>\n",
       "    </tr>\n",
       "    <tr>\n",
       "      <th>7</th>\n",
       "      <td>September</td>\n",
       "      <td>2102</td>\n",
       "    </tr>\n",
       "    <tr>\n",
       "      <th>8</th>\n",
       "      <td>June</td>\n",
       "      <td>2037</td>\n",
       "    </tr>\n",
       "    <tr>\n",
       "      <th>9</th>\n",
       "      <td>December</td>\n",
       "      <td>2014</td>\n",
       "    </tr>\n",
       "    <tr>\n",
       "      <th>10</th>\n",
       "      <td>November</td>\n",
       "      <td>1975</td>\n",
       "    </tr>\n",
       "    <tr>\n",
       "      <th>11</th>\n",
       "      <td>January</td>\n",
       "      <td>1866</td>\n",
       "    </tr>\n",
       "  </tbody>\n",
       "</table>\n",
       "</div>"
      ],
      "text/plain": [
       "        Month  No of guests\n",
       "0      August          3257\n",
       "1        July          3137\n",
       "2     October          2575\n",
       "3       March          2571\n",
       "4       April          2550\n",
       "5         May          2535\n",
       "6    February          2308\n",
       "7   September          2102\n",
       "8        June          2037\n",
       "9    December          2014\n",
       "10   November          1975\n",
       "11    January          1866"
      ]
     },
     "execution_count": 177,
     "metadata": {},
     "output_type": "execute_result"
    }
   ],
   "source": [
    "rush_city=data_city['arrival_date_month'].value_counts().reset_index()     #accessing feature and converting into data frame\n",
    "rush_city.columns=['Month','No of guests']              #renaming column name\n",
    "rush_city                                       #printing the data frame"
   ]
  },
  {
   "cell_type": "code",
   "execution_count": 178,
   "id": "634cb0da",
   "metadata": {},
   "outputs": [],
   "source": [
    "final_rush=rush_resort.merge(rush_city,on='Month')     #Merging rush resort with rush city"
   ]
  },
  {
   "cell_type": "code",
   "execution_count": 179,
   "id": "6731dd13",
   "metadata": {},
   "outputs": [],
   "source": [
    "final_rush.columns=['Month','No of guests in resort','No of guests of city hotel']   #Renaming new column name"
   ]
  },
  {
   "cell_type": "code",
   "execution_count": 180,
   "id": "96711d99",
   "metadata": {},
   "outputs": [
    {
     "data": {
      "text/html": [
       "<div>\n",
       "<style scoped>\n",
       "    .dataframe tbody tr th:only-of-type {\n",
       "        vertical-align: middle;\n",
       "    }\n",
       "\n",
       "    .dataframe tbody tr th {\n",
       "        vertical-align: top;\n",
       "    }\n",
       "\n",
       "    .dataframe thead th {\n",
       "        text-align: right;\n",
       "    }\n",
       "</style>\n",
       "<table border=\"1\" class=\"dataframe\">\n",
       "  <thead>\n",
       "    <tr style=\"text-align: right;\">\n",
       "      <th></th>\n",
       "      <th>Month</th>\n",
       "      <th>No of guests in resort</th>\n",
       "      <th>No of guests of city hotel</th>\n",
       "    </tr>\n",
       "  </thead>\n",
       "  <tbody>\n",
       "    <tr>\n",
       "      <th>0</th>\n",
       "      <td>January</td>\n",
       "      <td>1866</td>\n",
       "      <td>1866</td>\n",
       "    </tr>\n",
       "    <tr>\n",
       "      <th>1</th>\n",
       "      <td>February</td>\n",
       "      <td>2308</td>\n",
       "      <td>2308</td>\n",
       "    </tr>\n",
       "    <tr>\n",
       "      <th>2</th>\n",
       "      <td>March</td>\n",
       "      <td>2571</td>\n",
       "      <td>2571</td>\n",
       "    </tr>\n",
       "    <tr>\n",
       "      <th>3</th>\n",
       "      <td>April</td>\n",
       "      <td>2550</td>\n",
       "      <td>2550</td>\n",
       "    </tr>\n",
       "    <tr>\n",
       "      <th>4</th>\n",
       "      <td>May</td>\n",
       "      <td>2535</td>\n",
       "      <td>2535</td>\n",
       "    </tr>\n",
       "    <tr>\n",
       "      <th>5</th>\n",
       "      <td>June</td>\n",
       "      <td>2037</td>\n",
       "      <td>2037</td>\n",
       "    </tr>\n",
       "    <tr>\n",
       "      <th>6</th>\n",
       "      <td>July</td>\n",
       "      <td>3137</td>\n",
       "      <td>3137</td>\n",
       "    </tr>\n",
       "    <tr>\n",
       "      <th>7</th>\n",
       "      <td>August</td>\n",
       "      <td>3257</td>\n",
       "      <td>3257</td>\n",
       "    </tr>\n",
       "    <tr>\n",
       "      <th>8</th>\n",
       "      <td>September</td>\n",
       "      <td>2102</td>\n",
       "      <td>2102</td>\n",
       "    </tr>\n",
       "    <tr>\n",
       "      <th>9</th>\n",
       "      <td>October</td>\n",
       "      <td>2575</td>\n",
       "      <td>2575</td>\n",
       "    </tr>\n",
       "    <tr>\n",
       "      <th>10</th>\n",
       "      <td>November</td>\n",
       "      <td>1975</td>\n",
       "      <td>1975</td>\n",
       "    </tr>\n",
       "    <tr>\n",
       "      <th>11</th>\n",
       "      <td>December</td>\n",
       "      <td>2014</td>\n",
       "      <td>2014</td>\n",
       "    </tr>\n",
       "  </tbody>\n",
       "</table>\n",
       "</div>"
      ],
      "text/plain": [
       "        Month  No of guests in resort  No of guests of city hotel\n",
       "0     January                    1866                        1866\n",
       "1    February                    2308                        2308\n",
       "2       March                    2571                        2571\n",
       "3       April                    2550                        2550\n",
       "4         May                    2535                        2535\n",
       "5        June                    2037                        2037\n",
       "6        July                    3137                        3137\n",
       "7      August                    3257                        3257\n",
       "8   September                    2102                        2102\n",
       "9     October                    2575                        2575\n",
       "10   November                    1975                        1975\n",
       "11   December                    2014                        2014"
      ]
     },
     "execution_count": 180,
     "metadata": {},
     "output_type": "execute_result"
    }
   ],
   "source": [
    "final_rush=sort_data(final_rush,'Month')       #Sorting month column in hierarchical manner\n",
    "final_rush"
   ]
  },
  {
   "cell_type": "code",
   "execution_count": 181,
   "id": "b463ddb8",
   "metadata": {},
   "outputs": [
    {
     "data": {
      "text/plain": [
       "Index(['Month', 'No of guests in resort', 'No of guests of city hotel'], dtype='object')"
      ]
     },
     "execution_count": 181,
     "metadata": {},
     "output_type": "execute_result"
    }
   ],
   "source": [
    "final_rush.columns   #Retrieving column name"
   ]
  },
  {
   "cell_type": "code",
   "execution_count": 182,
   "id": "64c70555",
   "metadata": {},
   "outputs": [
    {
     "data": {
      "application/vnd.plotly.v1+json": {
       "config": {
        "plotlyServerURL": "https://plot.ly"
       },
       "data": [
        {
         "hovertemplate": "variable=No of guests in resort<br>Month=%{x}<br>value=%{y}<extra></extra>",
         "legendgroup": "No of guests in resort",
         "line": {
          "color": "#636efa",
          "dash": "solid"
         },
         "marker": {
          "symbol": "circle"
         },
         "mode": "lines",
         "name": "No of guests in resort",
         "orientation": "v",
         "showlegend": true,
         "type": "scatter",
         "x": [
          "January",
          "February",
          "March",
          "April",
          "May",
          "June",
          "July",
          "August",
          "September",
          "October",
          "November",
          "December"
         ],
         "xaxis": "x",
         "y": [
          1866,
          2308,
          2571,
          2550,
          2535,
          2037,
          3137,
          3257,
          2102,
          2575,
          1975,
          2014
         ],
         "yaxis": "y"
        },
        {
         "hovertemplate": "variable=No of guests of city hotel<br>Month=%{x}<br>value=%{y}<extra></extra>",
         "legendgroup": "No of guests of city hotel",
         "line": {
          "color": "#EF553B",
          "dash": "solid"
         },
         "marker": {
          "symbol": "circle"
         },
         "mode": "lines",
         "name": "No of guests of city hotel",
         "orientation": "v",
         "showlegend": true,
         "type": "scatter",
         "x": [
          "January",
          "February",
          "March",
          "April",
          "May",
          "June",
          "July",
          "August",
          "September",
          "October",
          "November",
          "December"
         ],
         "xaxis": "x",
         "y": [
          1866,
          2308,
          2571,
          2550,
          2535,
          2037,
          3137,
          3257,
          2102,
          2575,
          1975,
          2014
         ],
         "yaxis": "y"
        }
       ],
       "layout": {
        "legend": {
         "title": {
          "text": "variable"
         },
         "tracegroupgap": 0
        },
        "template": {
         "data": {
          "bar": [
           {
            "error_x": {
             "color": "#2a3f5f"
            },
            "error_y": {
             "color": "#2a3f5f"
            },
            "marker": {
             "line": {
              "color": "#E5ECF6",
              "width": 0.5
             },
             "pattern": {
              "fillmode": "overlay",
              "size": 10,
              "solidity": 0.2
             }
            },
            "type": "bar"
           }
          ],
          "barpolar": [
           {
            "marker": {
             "line": {
              "color": "#E5ECF6",
              "width": 0.5
             },
             "pattern": {
              "fillmode": "overlay",
              "size": 10,
              "solidity": 0.2
             }
            },
            "type": "barpolar"
           }
          ],
          "carpet": [
           {
            "aaxis": {
             "endlinecolor": "#2a3f5f",
             "gridcolor": "white",
             "linecolor": "white",
             "minorgridcolor": "white",
             "startlinecolor": "#2a3f5f"
            },
            "baxis": {
             "endlinecolor": "#2a3f5f",
             "gridcolor": "white",
             "linecolor": "white",
             "minorgridcolor": "white",
             "startlinecolor": "#2a3f5f"
            },
            "type": "carpet"
           }
          ],
          "choropleth": [
           {
            "colorbar": {
             "outlinewidth": 0,
             "ticks": ""
            },
            "type": "choropleth"
           }
          ],
          "contour": [
           {
            "colorbar": {
             "outlinewidth": 0,
             "ticks": ""
            },
            "colorscale": [
             [
              0,
              "#0d0887"
             ],
             [
              0.1111111111111111,
              "#46039f"
             ],
             [
              0.2222222222222222,
              "#7201a8"
             ],
             [
              0.3333333333333333,
              "#9c179e"
             ],
             [
              0.4444444444444444,
              "#bd3786"
             ],
             [
              0.5555555555555556,
              "#d8576b"
             ],
             [
              0.6666666666666666,
              "#ed7953"
             ],
             [
              0.7777777777777778,
              "#fb9f3a"
             ],
             [
              0.8888888888888888,
              "#fdca26"
             ],
             [
              1,
              "#f0f921"
             ]
            ],
            "type": "contour"
           }
          ],
          "contourcarpet": [
           {
            "colorbar": {
             "outlinewidth": 0,
             "ticks": ""
            },
            "type": "contourcarpet"
           }
          ],
          "heatmap": [
           {
            "colorbar": {
             "outlinewidth": 0,
             "ticks": ""
            },
            "colorscale": [
             [
              0,
              "#0d0887"
             ],
             [
              0.1111111111111111,
              "#46039f"
             ],
             [
              0.2222222222222222,
              "#7201a8"
             ],
             [
              0.3333333333333333,
              "#9c179e"
             ],
             [
              0.4444444444444444,
              "#bd3786"
             ],
             [
              0.5555555555555556,
              "#d8576b"
             ],
             [
              0.6666666666666666,
              "#ed7953"
             ],
             [
              0.7777777777777778,
              "#fb9f3a"
             ],
             [
              0.8888888888888888,
              "#fdca26"
             ],
             [
              1,
              "#f0f921"
             ]
            ],
            "type": "heatmap"
           }
          ],
          "heatmapgl": [
           {
            "colorbar": {
             "outlinewidth": 0,
             "ticks": ""
            },
            "colorscale": [
             [
              0,
              "#0d0887"
             ],
             [
              0.1111111111111111,
              "#46039f"
             ],
             [
              0.2222222222222222,
              "#7201a8"
             ],
             [
              0.3333333333333333,
              "#9c179e"
             ],
             [
              0.4444444444444444,
              "#bd3786"
             ],
             [
              0.5555555555555556,
              "#d8576b"
             ],
             [
              0.6666666666666666,
              "#ed7953"
             ],
             [
              0.7777777777777778,
              "#fb9f3a"
             ],
             [
              0.8888888888888888,
              "#fdca26"
             ],
             [
              1,
              "#f0f921"
             ]
            ],
            "type": "heatmapgl"
           }
          ],
          "histogram": [
           {
            "marker": {
             "pattern": {
              "fillmode": "overlay",
              "size": 10,
              "solidity": 0.2
             }
            },
            "type": "histogram"
           }
          ],
          "histogram2d": [
           {
            "colorbar": {
             "outlinewidth": 0,
             "ticks": ""
            },
            "colorscale": [
             [
              0,
              "#0d0887"
             ],
             [
              0.1111111111111111,
              "#46039f"
             ],
             [
              0.2222222222222222,
              "#7201a8"
             ],
             [
              0.3333333333333333,
              "#9c179e"
             ],
             [
              0.4444444444444444,
              "#bd3786"
             ],
             [
              0.5555555555555556,
              "#d8576b"
             ],
             [
              0.6666666666666666,
              "#ed7953"
             ],
             [
              0.7777777777777778,
              "#fb9f3a"
             ],
             [
              0.8888888888888888,
              "#fdca26"
             ],
             [
              1,
              "#f0f921"
             ]
            ],
            "type": "histogram2d"
           }
          ],
          "histogram2dcontour": [
           {
            "colorbar": {
             "outlinewidth": 0,
             "ticks": ""
            },
            "colorscale": [
             [
              0,
              "#0d0887"
             ],
             [
              0.1111111111111111,
              "#46039f"
             ],
             [
              0.2222222222222222,
              "#7201a8"
             ],
             [
              0.3333333333333333,
              "#9c179e"
             ],
             [
              0.4444444444444444,
              "#bd3786"
             ],
             [
              0.5555555555555556,
              "#d8576b"
             ],
             [
              0.6666666666666666,
              "#ed7953"
             ],
             [
              0.7777777777777778,
              "#fb9f3a"
             ],
             [
              0.8888888888888888,
              "#fdca26"
             ],
             [
              1,
              "#f0f921"
             ]
            ],
            "type": "histogram2dcontour"
           }
          ],
          "mesh3d": [
           {
            "colorbar": {
             "outlinewidth": 0,
             "ticks": ""
            },
            "type": "mesh3d"
           }
          ],
          "parcoords": [
           {
            "line": {
             "colorbar": {
              "outlinewidth": 0,
              "ticks": ""
             }
            },
            "type": "parcoords"
           }
          ],
          "pie": [
           {
            "automargin": true,
            "type": "pie"
           }
          ],
          "scatter": [
           {
            "marker": {
             "colorbar": {
              "outlinewidth": 0,
              "ticks": ""
             }
            },
            "type": "scatter"
           }
          ],
          "scatter3d": [
           {
            "line": {
             "colorbar": {
              "outlinewidth": 0,
              "ticks": ""
             }
            },
            "marker": {
             "colorbar": {
              "outlinewidth": 0,
              "ticks": ""
             }
            },
            "type": "scatter3d"
           }
          ],
          "scattercarpet": [
           {
            "marker": {
             "colorbar": {
              "outlinewidth": 0,
              "ticks": ""
             }
            },
            "type": "scattercarpet"
           }
          ],
          "scattergeo": [
           {
            "marker": {
             "colorbar": {
              "outlinewidth": 0,
              "ticks": ""
             }
            },
            "type": "scattergeo"
           }
          ],
          "scattergl": [
           {
            "marker": {
             "colorbar": {
              "outlinewidth": 0,
              "ticks": ""
             }
            },
            "type": "scattergl"
           }
          ],
          "scattermapbox": [
           {
            "marker": {
             "colorbar": {
              "outlinewidth": 0,
              "ticks": ""
             }
            },
            "type": "scattermapbox"
           }
          ],
          "scatterpolar": [
           {
            "marker": {
             "colorbar": {
              "outlinewidth": 0,
              "ticks": ""
             }
            },
            "type": "scatterpolar"
           }
          ],
          "scatterpolargl": [
           {
            "marker": {
             "colorbar": {
              "outlinewidth": 0,
              "ticks": ""
             }
            },
            "type": "scatterpolargl"
           }
          ],
          "scatterternary": [
           {
            "marker": {
             "colorbar": {
              "outlinewidth": 0,
              "ticks": ""
             }
            },
            "type": "scatterternary"
           }
          ],
          "surface": [
           {
            "colorbar": {
             "outlinewidth": 0,
             "ticks": ""
            },
            "colorscale": [
             [
              0,
              "#0d0887"
             ],
             [
              0.1111111111111111,
              "#46039f"
             ],
             [
              0.2222222222222222,
              "#7201a8"
             ],
             [
              0.3333333333333333,
              "#9c179e"
             ],
             [
              0.4444444444444444,
              "#bd3786"
             ],
             [
              0.5555555555555556,
              "#d8576b"
             ],
             [
              0.6666666666666666,
              "#ed7953"
             ],
             [
              0.7777777777777778,
              "#fb9f3a"
             ],
             [
              0.8888888888888888,
              "#fdca26"
             ],
             [
              1,
              "#f0f921"
             ]
            ],
            "type": "surface"
           }
          ],
          "table": [
           {
            "cells": {
             "fill": {
              "color": "#EBF0F8"
             },
             "line": {
              "color": "white"
             }
            },
            "header": {
             "fill": {
              "color": "#C8D4E3"
             },
             "line": {
              "color": "white"
             }
            },
            "type": "table"
           }
          ]
         },
         "layout": {
          "annotationdefaults": {
           "arrowcolor": "#2a3f5f",
           "arrowhead": 0,
           "arrowwidth": 1
          },
          "autotypenumbers": "strict",
          "coloraxis": {
           "colorbar": {
            "outlinewidth": 0,
            "ticks": ""
           }
          },
          "colorscale": {
           "diverging": [
            [
             0,
             "#8e0152"
            ],
            [
             0.1,
             "#c51b7d"
            ],
            [
             0.2,
             "#de77ae"
            ],
            [
             0.3,
             "#f1b6da"
            ],
            [
             0.4,
             "#fde0ef"
            ],
            [
             0.5,
             "#f7f7f7"
            ],
            [
             0.6,
             "#e6f5d0"
            ],
            [
             0.7,
             "#b8e186"
            ],
            [
             0.8,
             "#7fbc41"
            ],
            [
             0.9,
             "#4d9221"
            ],
            [
             1,
             "#276419"
            ]
           ],
           "sequential": [
            [
             0,
             "#0d0887"
            ],
            [
             0.1111111111111111,
             "#46039f"
            ],
            [
             0.2222222222222222,
             "#7201a8"
            ],
            [
             0.3333333333333333,
             "#9c179e"
            ],
            [
             0.4444444444444444,
             "#bd3786"
            ],
            [
             0.5555555555555556,
             "#d8576b"
            ],
            [
             0.6666666666666666,
             "#ed7953"
            ],
            [
             0.7777777777777778,
             "#fb9f3a"
            ],
            [
             0.8888888888888888,
             "#fdca26"
            ],
            [
             1,
             "#f0f921"
            ]
           ],
           "sequentialminus": [
            [
             0,
             "#0d0887"
            ],
            [
             0.1111111111111111,
             "#46039f"
            ],
            [
             0.2222222222222222,
             "#7201a8"
            ],
            [
             0.3333333333333333,
             "#9c179e"
            ],
            [
             0.4444444444444444,
             "#bd3786"
            ],
            [
             0.5555555555555556,
             "#d8576b"
            ],
            [
             0.6666666666666666,
             "#ed7953"
            ],
            [
             0.7777777777777778,
             "#fb9f3a"
            ],
            [
             0.8888888888888888,
             "#fdca26"
            ],
            [
             1,
             "#f0f921"
            ]
           ]
          },
          "colorway": [
           "#636efa",
           "#EF553B",
           "#00cc96",
           "#ab63fa",
           "#FFA15A",
           "#19d3f3",
           "#FF6692",
           "#B6E880",
           "#FF97FF",
           "#FECB52"
          ],
          "font": {
           "color": "#2a3f5f"
          },
          "geo": {
           "bgcolor": "white",
           "lakecolor": "white",
           "landcolor": "#E5ECF6",
           "showlakes": true,
           "showland": true,
           "subunitcolor": "white"
          },
          "hoverlabel": {
           "align": "left"
          },
          "hovermode": "closest",
          "mapbox": {
           "style": "light"
          },
          "paper_bgcolor": "white",
          "plot_bgcolor": "#E5ECF6",
          "polar": {
           "angularaxis": {
            "gridcolor": "white",
            "linecolor": "white",
            "ticks": ""
           },
           "bgcolor": "#E5ECF6",
           "radialaxis": {
            "gridcolor": "white",
            "linecolor": "white",
            "ticks": ""
           }
          },
          "scene": {
           "xaxis": {
            "backgroundcolor": "#E5ECF6",
            "gridcolor": "white",
            "gridwidth": 2,
            "linecolor": "white",
            "showbackground": true,
            "ticks": "",
            "zerolinecolor": "white"
           },
           "yaxis": {
            "backgroundcolor": "#E5ECF6",
            "gridcolor": "white",
            "gridwidth": 2,
            "linecolor": "white",
            "showbackground": true,
            "ticks": "",
            "zerolinecolor": "white"
           },
           "zaxis": {
            "backgroundcolor": "#E5ECF6",
            "gridcolor": "white",
            "gridwidth": 2,
            "linecolor": "white",
            "showbackground": true,
            "ticks": "",
            "zerolinecolor": "white"
           }
          },
          "shapedefaults": {
           "line": {
            "color": "#2a3f5f"
           }
          },
          "ternary": {
           "aaxis": {
            "gridcolor": "white",
            "linecolor": "white",
            "ticks": ""
           },
           "baxis": {
            "gridcolor": "white",
            "linecolor": "white",
            "ticks": ""
           },
           "bgcolor": "#E5ECF6",
           "caxis": {
            "gridcolor": "white",
            "linecolor": "white",
            "ticks": ""
           }
          },
          "title": {
           "x": 0.05
          },
          "xaxis": {
           "automargin": true,
           "gridcolor": "white",
           "linecolor": "white",
           "ticks": "",
           "title": {
            "standoff": 15
           },
           "zerolinecolor": "white",
           "zerolinewidth": 2
          },
          "yaxis": {
           "automargin": true,
           "gridcolor": "white",
           "linecolor": "white",
           "ticks": "",
           "title": {
            "standoff": 15
           },
           "zerolinecolor": "white",
           "zerolinewidth": 2
          }
         }
        },
        "title": {
         "text": "Total number of guests per month"
        },
        "xaxis": {
         "anchor": "y",
         "domain": [
          0,
          1
         ],
         "title": {
          "text": "Month"
         }
        },
        "yaxis": {
         "anchor": "x",
         "domain": [
          0,
          1
         ],
         "title": {
          "text": "value"
         }
        }
       }
      },
      "text/html": [
       "<div>                            <div id=\"494acff5-3811-4812-93e6-1b30632f0a8d\" class=\"plotly-graph-div\" style=\"height:525px; width:100%;\"></div>            <script type=\"text/javascript\">                require([\"plotly\"], function(Plotly) {                    window.PLOTLYENV=window.PLOTLYENV || {};                                    if (document.getElementById(\"494acff5-3811-4812-93e6-1b30632f0a8d\")) {                    Plotly.newPlot(                        \"494acff5-3811-4812-93e6-1b30632f0a8d\",                        [{\"hovertemplate\":\"variable=No of guests in resort<br>Month=%{x}<br>value=%{y}<extra></extra>\",\"legendgroup\":\"No of guests in resort\",\"line\":{\"color\":\"#636efa\",\"dash\":\"solid\"},\"marker\":{\"symbol\":\"circle\"},\"mode\":\"lines\",\"name\":\"No of guests in resort\",\"orientation\":\"v\",\"showlegend\":true,\"x\":[\"January\",\"February\",\"March\",\"April\",\"May\",\"June\",\"July\",\"August\",\"September\",\"October\",\"November\",\"December\"],\"xaxis\":\"x\",\"y\":[1866,2308,2571,2550,2535,2037,3137,3257,2102,2575,1975,2014],\"yaxis\":\"y\",\"type\":\"scatter\"},{\"hovertemplate\":\"variable=No of guests of city hotel<br>Month=%{x}<br>value=%{y}<extra></extra>\",\"legendgroup\":\"No of guests of city hotel\",\"line\":{\"color\":\"#EF553B\",\"dash\":\"solid\"},\"marker\":{\"symbol\":\"circle\"},\"mode\":\"lines\",\"name\":\"No of guests of city hotel\",\"orientation\":\"v\",\"showlegend\":true,\"x\":[\"January\",\"February\",\"March\",\"April\",\"May\",\"June\",\"July\",\"August\",\"September\",\"October\",\"November\",\"December\"],\"xaxis\":\"x\",\"y\":[1866,2308,2571,2550,2535,2037,3137,3257,2102,2575,1975,2014],\"yaxis\":\"y\",\"type\":\"scatter\"}],                        {\"template\":{\"data\":{\"bar\":[{\"error_x\":{\"color\":\"#2a3f5f\"},\"error_y\":{\"color\":\"#2a3f5f\"},\"marker\":{\"line\":{\"color\":\"#E5ECF6\",\"width\":0.5},\"pattern\":{\"fillmode\":\"overlay\",\"size\":10,\"solidity\":0.2}},\"type\":\"bar\"}],\"barpolar\":[{\"marker\":{\"line\":{\"color\":\"#E5ECF6\",\"width\":0.5},\"pattern\":{\"fillmode\":\"overlay\",\"size\":10,\"solidity\":0.2}},\"type\":\"barpolar\"}],\"carpet\":[{\"aaxis\":{\"endlinecolor\":\"#2a3f5f\",\"gridcolor\":\"white\",\"linecolor\":\"white\",\"minorgridcolor\":\"white\",\"startlinecolor\":\"#2a3f5f\"},\"baxis\":{\"endlinecolor\":\"#2a3f5f\",\"gridcolor\":\"white\",\"linecolor\":\"white\",\"minorgridcolor\":\"white\",\"startlinecolor\":\"#2a3f5f\"},\"type\":\"carpet\"}],\"choropleth\":[{\"colorbar\":{\"outlinewidth\":0,\"ticks\":\"\"},\"type\":\"choropleth\"}],\"contour\":[{\"colorbar\":{\"outlinewidth\":0,\"ticks\":\"\"},\"colorscale\":[[0.0,\"#0d0887\"],[0.1111111111111111,\"#46039f\"],[0.2222222222222222,\"#7201a8\"],[0.3333333333333333,\"#9c179e\"],[0.4444444444444444,\"#bd3786\"],[0.5555555555555556,\"#d8576b\"],[0.6666666666666666,\"#ed7953\"],[0.7777777777777778,\"#fb9f3a\"],[0.8888888888888888,\"#fdca26\"],[1.0,\"#f0f921\"]],\"type\":\"contour\"}],\"contourcarpet\":[{\"colorbar\":{\"outlinewidth\":0,\"ticks\":\"\"},\"type\":\"contourcarpet\"}],\"heatmap\":[{\"colorbar\":{\"outlinewidth\":0,\"ticks\":\"\"},\"colorscale\":[[0.0,\"#0d0887\"],[0.1111111111111111,\"#46039f\"],[0.2222222222222222,\"#7201a8\"],[0.3333333333333333,\"#9c179e\"],[0.4444444444444444,\"#bd3786\"],[0.5555555555555556,\"#d8576b\"],[0.6666666666666666,\"#ed7953\"],[0.7777777777777778,\"#fb9f3a\"],[0.8888888888888888,\"#fdca26\"],[1.0,\"#f0f921\"]],\"type\":\"heatmap\"}],\"heatmapgl\":[{\"colorbar\":{\"outlinewidth\":0,\"ticks\":\"\"},\"colorscale\":[[0.0,\"#0d0887\"],[0.1111111111111111,\"#46039f\"],[0.2222222222222222,\"#7201a8\"],[0.3333333333333333,\"#9c179e\"],[0.4444444444444444,\"#bd3786\"],[0.5555555555555556,\"#d8576b\"],[0.6666666666666666,\"#ed7953\"],[0.7777777777777778,\"#fb9f3a\"],[0.8888888888888888,\"#fdca26\"],[1.0,\"#f0f921\"]],\"type\":\"heatmapgl\"}],\"histogram\":[{\"marker\":{\"pattern\":{\"fillmode\":\"overlay\",\"size\":10,\"solidity\":0.2}},\"type\":\"histogram\"}],\"histogram2d\":[{\"colorbar\":{\"outlinewidth\":0,\"ticks\":\"\"},\"colorscale\":[[0.0,\"#0d0887\"],[0.1111111111111111,\"#46039f\"],[0.2222222222222222,\"#7201a8\"],[0.3333333333333333,\"#9c179e\"],[0.4444444444444444,\"#bd3786\"],[0.5555555555555556,\"#d8576b\"],[0.6666666666666666,\"#ed7953\"],[0.7777777777777778,\"#fb9f3a\"],[0.8888888888888888,\"#fdca26\"],[1.0,\"#f0f921\"]],\"type\":\"histogram2d\"}],\"histogram2dcontour\":[{\"colorbar\":{\"outlinewidth\":0,\"ticks\":\"\"},\"colorscale\":[[0.0,\"#0d0887\"],[0.1111111111111111,\"#46039f\"],[0.2222222222222222,\"#7201a8\"],[0.3333333333333333,\"#9c179e\"],[0.4444444444444444,\"#bd3786\"],[0.5555555555555556,\"#d8576b\"],[0.6666666666666666,\"#ed7953\"],[0.7777777777777778,\"#fb9f3a\"],[0.8888888888888888,\"#fdca26\"],[1.0,\"#f0f921\"]],\"type\":\"histogram2dcontour\"}],\"mesh3d\":[{\"colorbar\":{\"outlinewidth\":0,\"ticks\":\"\"},\"type\":\"mesh3d\"}],\"parcoords\":[{\"line\":{\"colorbar\":{\"outlinewidth\":0,\"ticks\":\"\"}},\"type\":\"parcoords\"}],\"pie\":[{\"automargin\":true,\"type\":\"pie\"}],\"scatter\":[{\"marker\":{\"colorbar\":{\"outlinewidth\":0,\"ticks\":\"\"}},\"type\":\"scatter\"}],\"scatter3d\":[{\"line\":{\"colorbar\":{\"outlinewidth\":0,\"ticks\":\"\"}},\"marker\":{\"colorbar\":{\"outlinewidth\":0,\"ticks\":\"\"}},\"type\":\"scatter3d\"}],\"scattercarpet\":[{\"marker\":{\"colorbar\":{\"outlinewidth\":0,\"ticks\":\"\"}},\"type\":\"scattercarpet\"}],\"scattergeo\":[{\"marker\":{\"colorbar\":{\"outlinewidth\":0,\"ticks\":\"\"}},\"type\":\"scattergeo\"}],\"scattergl\":[{\"marker\":{\"colorbar\":{\"outlinewidth\":0,\"ticks\":\"\"}},\"type\":\"scattergl\"}],\"scattermapbox\":[{\"marker\":{\"colorbar\":{\"outlinewidth\":0,\"ticks\":\"\"}},\"type\":\"scattermapbox\"}],\"scatterpolar\":[{\"marker\":{\"colorbar\":{\"outlinewidth\":0,\"ticks\":\"\"}},\"type\":\"scatterpolar\"}],\"scatterpolargl\":[{\"marker\":{\"colorbar\":{\"outlinewidth\":0,\"ticks\":\"\"}},\"type\":\"scatterpolargl\"}],\"scatterternary\":[{\"marker\":{\"colorbar\":{\"outlinewidth\":0,\"ticks\":\"\"}},\"type\":\"scatterternary\"}],\"surface\":[{\"colorbar\":{\"outlinewidth\":0,\"ticks\":\"\"},\"colorscale\":[[0.0,\"#0d0887\"],[0.1111111111111111,\"#46039f\"],[0.2222222222222222,\"#7201a8\"],[0.3333333333333333,\"#9c179e\"],[0.4444444444444444,\"#bd3786\"],[0.5555555555555556,\"#d8576b\"],[0.6666666666666666,\"#ed7953\"],[0.7777777777777778,\"#fb9f3a\"],[0.8888888888888888,\"#fdca26\"],[1.0,\"#f0f921\"]],\"type\":\"surface\"}],\"table\":[{\"cells\":{\"fill\":{\"color\":\"#EBF0F8\"},\"line\":{\"color\":\"white\"}},\"header\":{\"fill\":{\"color\":\"#C8D4E3\"},\"line\":{\"color\":\"white\"}},\"type\":\"table\"}]},\"layout\":{\"annotationdefaults\":{\"arrowcolor\":\"#2a3f5f\",\"arrowhead\":0,\"arrowwidth\":1},\"autotypenumbers\":\"strict\",\"coloraxis\":{\"colorbar\":{\"outlinewidth\":0,\"ticks\":\"\"}},\"colorscale\":{\"diverging\":[[0,\"#8e0152\"],[0.1,\"#c51b7d\"],[0.2,\"#de77ae\"],[0.3,\"#f1b6da\"],[0.4,\"#fde0ef\"],[0.5,\"#f7f7f7\"],[0.6,\"#e6f5d0\"],[0.7,\"#b8e186\"],[0.8,\"#7fbc41\"],[0.9,\"#4d9221\"],[1,\"#276419\"]],\"sequential\":[[0.0,\"#0d0887\"],[0.1111111111111111,\"#46039f\"],[0.2222222222222222,\"#7201a8\"],[0.3333333333333333,\"#9c179e\"],[0.4444444444444444,\"#bd3786\"],[0.5555555555555556,\"#d8576b\"],[0.6666666666666666,\"#ed7953\"],[0.7777777777777778,\"#fb9f3a\"],[0.8888888888888888,\"#fdca26\"],[1.0,\"#f0f921\"]],\"sequentialminus\":[[0.0,\"#0d0887\"],[0.1111111111111111,\"#46039f\"],[0.2222222222222222,\"#7201a8\"],[0.3333333333333333,\"#9c179e\"],[0.4444444444444444,\"#bd3786\"],[0.5555555555555556,\"#d8576b\"],[0.6666666666666666,\"#ed7953\"],[0.7777777777777778,\"#fb9f3a\"],[0.8888888888888888,\"#fdca26\"],[1.0,\"#f0f921\"]]},\"colorway\":[\"#636efa\",\"#EF553B\",\"#00cc96\",\"#ab63fa\",\"#FFA15A\",\"#19d3f3\",\"#FF6692\",\"#B6E880\",\"#FF97FF\",\"#FECB52\"],\"font\":{\"color\":\"#2a3f5f\"},\"geo\":{\"bgcolor\":\"white\",\"lakecolor\":\"white\",\"landcolor\":\"#E5ECF6\",\"showlakes\":true,\"showland\":true,\"subunitcolor\":\"white\"},\"hoverlabel\":{\"align\":\"left\"},\"hovermode\":\"closest\",\"mapbox\":{\"style\":\"light\"},\"paper_bgcolor\":\"white\",\"plot_bgcolor\":\"#E5ECF6\",\"polar\":{\"angularaxis\":{\"gridcolor\":\"white\",\"linecolor\":\"white\",\"ticks\":\"\"},\"bgcolor\":\"#E5ECF6\",\"radialaxis\":{\"gridcolor\":\"white\",\"linecolor\":\"white\",\"ticks\":\"\"}},\"scene\":{\"xaxis\":{\"backgroundcolor\":\"#E5ECF6\",\"gridcolor\":\"white\",\"gridwidth\":2,\"linecolor\":\"white\",\"showbackground\":true,\"ticks\":\"\",\"zerolinecolor\":\"white\"},\"yaxis\":{\"backgroundcolor\":\"#E5ECF6\",\"gridcolor\":\"white\",\"gridwidth\":2,\"linecolor\":\"white\",\"showbackground\":true,\"ticks\":\"\",\"zerolinecolor\":\"white\"},\"zaxis\":{\"backgroundcolor\":\"#E5ECF6\",\"gridcolor\":\"white\",\"gridwidth\":2,\"linecolor\":\"white\",\"showbackground\":true,\"ticks\":\"\",\"zerolinecolor\":\"white\"}},\"shapedefaults\":{\"line\":{\"color\":\"#2a3f5f\"}},\"ternary\":{\"aaxis\":{\"gridcolor\":\"white\",\"linecolor\":\"white\",\"ticks\":\"\"},\"baxis\":{\"gridcolor\":\"white\",\"linecolor\":\"white\",\"ticks\":\"\"},\"bgcolor\":\"#E5ECF6\",\"caxis\":{\"gridcolor\":\"white\",\"linecolor\":\"white\",\"ticks\":\"\"}},\"title\":{\"x\":0.05},\"xaxis\":{\"automargin\":true,\"gridcolor\":\"white\",\"linecolor\":\"white\",\"ticks\":\"\",\"title\":{\"standoff\":15},\"zerolinecolor\":\"white\",\"zerolinewidth\":2},\"yaxis\":{\"automargin\":true,\"gridcolor\":\"white\",\"linecolor\":\"white\",\"ticks\":\"\",\"title\":{\"standoff\":15},\"zerolinecolor\":\"white\",\"zerolinewidth\":2}}},\"xaxis\":{\"anchor\":\"y\",\"domain\":[0.0,1.0],\"title\":{\"text\":\"Month\"}},\"yaxis\":{\"anchor\":\"x\",\"domain\":[0.0,1.0],\"title\":{\"text\":\"value\"}},\"legend\":{\"title\":{\"text\":\"variable\"},\"tracegroupgap\":0},\"title\":{\"text\":\"Total number of guests per month\"}},                        {\"responsive\": true}                    ).then(function(){\n",
       "                            \n",
       "var gd = document.getElementById('494acff5-3811-4812-93e6-1b30632f0a8d');\n",
       "var x = new MutationObserver(function (mutations, observer) {{\n",
       "        var display = window.getComputedStyle(gd).display;\n",
       "        if (!display || display === 'none') {{\n",
       "            console.log([gd, 'removed!']);\n",
       "            Plotly.purge(gd);\n",
       "            observer.disconnect();\n",
       "        }}\n",
       "}});\n",
       "\n",
       "// Listen for the removal of the full notebook cells\n",
       "var notebookContainer = gd.closest('#notebook-container');\n",
       "if (notebookContainer) {{\n",
       "    x.observe(notebookContainer, {childList: true});\n",
       "}}\n",
       "\n",
       "// Listen for the clearing of the current output cell\n",
       "var outputEl = gd.closest('.output');\n",
       "if (outputEl) {{\n",
       "    x.observe(outputEl, {childList: true});\n",
       "}}\n",
       "\n",
       "                        })                };                });            </script>        </div>"
      ]
     },
     "metadata": {},
     "output_type": "display_data"
    }
   ],
   "source": [
    "px.line(final_rush,x='Month',y=['No of guests in resort', 'No of guests of city hotel'],title='Total number of guests per month')"
   ]
  },
  {
   "cell_type": "code",
   "execution_count": 183,
   "id": "fb503e14",
   "metadata": {},
   "outputs": [
    {
     "data": {
      "text/html": [
       "<div>\n",
       "<style scoped>\n",
       "    .dataframe tbody tr th:only-of-type {\n",
       "        vertical-align: middle;\n",
       "    }\n",
       "\n",
       "    .dataframe tbody tr th {\n",
       "        vertical-align: top;\n",
       "    }\n",
       "\n",
       "    .dataframe thead th {\n",
       "        text-align: right;\n",
       "    }\n",
       "</style>\n",
       "<table border=\"1\" class=\"dataframe\">\n",
       "  <thead>\n",
       "    <tr style=\"text-align: right;\">\n",
       "      <th></th>\n",
       "      <th>hotel</th>\n",
       "      <th>is_canceled</th>\n",
       "      <th>lead_time</th>\n",
       "      <th>arrival_date_year</th>\n",
       "      <th>arrival_date_month</th>\n",
       "      <th>arrival_date_week_number</th>\n",
       "      <th>arrival_date_day_of_month</th>\n",
       "      <th>stays_in_weekend_nights</th>\n",
       "      <th>stays_in_week_nights</th>\n",
       "      <th>adults</th>\n",
       "      <th>children</th>\n",
       "      <th>babies</th>\n",
       "      <th>meal</th>\n",
       "      <th>country</th>\n",
       "      <th>market_segment</th>\n",
       "      <th>distribution_channel</th>\n",
       "      <th>is_repeated_guest</th>\n",
       "      <th>previous_cancellations</th>\n",
       "      <th>previous_bookings_not_canceled</th>\n",
       "      <th>reserved_room_type</th>\n",
       "      <th>assigned_room_type</th>\n",
       "      <th>booking_changes</th>\n",
       "      <th>deposit_type</th>\n",
       "      <th>agent</th>\n",
       "      <th>company</th>\n",
       "      <th>days_in_waiting_list</th>\n",
       "      <th>customer_type</th>\n",
       "      <th>adr</th>\n",
       "      <th>required_car_parking_spaces</th>\n",
       "      <th>total_of_special_requests</th>\n",
       "      <th>reservation_status</th>\n",
       "      <th>reservation_status_date</th>\n",
       "    </tr>\n",
       "  </thead>\n",
       "  <tbody>\n",
       "    <tr>\n",
       "      <th>0</th>\n",
       "      <td>Resort Hotel</td>\n",
       "      <td>0</td>\n",
       "      <td>342</td>\n",
       "      <td>2015</td>\n",
       "      <td>July</td>\n",
       "      <td>27</td>\n",
       "      <td>1</td>\n",
       "      <td>0</td>\n",
       "      <td>0</td>\n",
       "      <td>2</td>\n",
       "      <td>0.0</td>\n",
       "      <td>0</td>\n",
       "      <td>BB</td>\n",
       "      <td>PRT</td>\n",
       "      <td>Direct</td>\n",
       "      <td>Direct</td>\n",
       "      <td>0</td>\n",
       "      <td>0</td>\n",
       "      <td>0</td>\n",
       "      <td>C</td>\n",
       "      <td>C</td>\n",
       "      <td>3</td>\n",
       "      <td>No Deposit</td>\n",
       "      <td>0.0</td>\n",
       "      <td>0.0</td>\n",
       "      <td>0</td>\n",
       "      <td>Transient</td>\n",
       "      <td>0.0</td>\n",
       "      <td>0</td>\n",
       "      <td>0</td>\n",
       "      <td>Check-Out</td>\n",
       "      <td>7/1/2015</td>\n",
       "    </tr>\n",
       "    <tr>\n",
       "      <th>1</th>\n",
       "      <td>Resort Hotel</td>\n",
       "      <td>0</td>\n",
       "      <td>737</td>\n",
       "      <td>2015</td>\n",
       "      <td>July</td>\n",
       "      <td>27</td>\n",
       "      <td>1</td>\n",
       "      <td>0</td>\n",
       "      <td>0</td>\n",
       "      <td>2</td>\n",
       "      <td>0.0</td>\n",
       "      <td>0</td>\n",
       "      <td>BB</td>\n",
       "      <td>PRT</td>\n",
       "      <td>Direct</td>\n",
       "      <td>Direct</td>\n",
       "      <td>0</td>\n",
       "      <td>0</td>\n",
       "      <td>0</td>\n",
       "      <td>C</td>\n",
       "      <td>C</td>\n",
       "      <td>4</td>\n",
       "      <td>No Deposit</td>\n",
       "      <td>0.0</td>\n",
       "      <td>0.0</td>\n",
       "      <td>0</td>\n",
       "      <td>Transient</td>\n",
       "      <td>0.0</td>\n",
       "      <td>0</td>\n",
       "      <td>0</td>\n",
       "      <td>Check-Out</td>\n",
       "      <td>7/1/2015</td>\n",
       "    </tr>\n",
       "    <tr>\n",
       "      <th>2</th>\n",
       "      <td>Resort Hotel</td>\n",
       "      <td>0</td>\n",
       "      <td>7</td>\n",
       "      <td>2015</td>\n",
       "      <td>July</td>\n",
       "      <td>27</td>\n",
       "      <td>1</td>\n",
       "      <td>0</td>\n",
       "      <td>1</td>\n",
       "      <td>1</td>\n",
       "      <td>0.0</td>\n",
       "      <td>0</td>\n",
       "      <td>BB</td>\n",
       "      <td>GBR</td>\n",
       "      <td>Direct</td>\n",
       "      <td>Direct</td>\n",
       "      <td>0</td>\n",
       "      <td>0</td>\n",
       "      <td>0</td>\n",
       "      <td>A</td>\n",
       "      <td>C</td>\n",
       "      <td>0</td>\n",
       "      <td>No Deposit</td>\n",
       "      <td>0.0</td>\n",
       "      <td>0.0</td>\n",
       "      <td>0</td>\n",
       "      <td>Transient</td>\n",
       "      <td>75.0</td>\n",
       "      <td>0</td>\n",
       "      <td>0</td>\n",
       "      <td>Check-Out</td>\n",
       "      <td>7/2/2015</td>\n",
       "    </tr>\n",
       "    <tr>\n",
       "      <th>3</th>\n",
       "      <td>Resort Hotel</td>\n",
       "      <td>0</td>\n",
       "      <td>13</td>\n",
       "      <td>2015</td>\n",
       "      <td>July</td>\n",
       "      <td>27</td>\n",
       "      <td>1</td>\n",
       "      <td>0</td>\n",
       "      <td>1</td>\n",
       "      <td>1</td>\n",
       "      <td>0.0</td>\n",
       "      <td>0</td>\n",
       "      <td>BB</td>\n",
       "      <td>GBR</td>\n",
       "      <td>Corporate</td>\n",
       "      <td>Corporate</td>\n",
       "      <td>0</td>\n",
       "      <td>0</td>\n",
       "      <td>0</td>\n",
       "      <td>A</td>\n",
       "      <td>A</td>\n",
       "      <td>0</td>\n",
       "      <td>No Deposit</td>\n",
       "      <td>304.0</td>\n",
       "      <td>0.0</td>\n",
       "      <td>0</td>\n",
       "      <td>Transient</td>\n",
       "      <td>75.0</td>\n",
       "      <td>0</td>\n",
       "      <td>0</td>\n",
       "      <td>Check-Out</td>\n",
       "      <td>7/2/2015</td>\n",
       "    </tr>\n",
       "    <tr>\n",
       "      <th>4</th>\n",
       "      <td>Resort Hotel</td>\n",
       "      <td>0</td>\n",
       "      <td>14</td>\n",
       "      <td>2015</td>\n",
       "      <td>July</td>\n",
       "      <td>27</td>\n",
       "      <td>1</td>\n",
       "      <td>0</td>\n",
       "      <td>2</td>\n",
       "      <td>2</td>\n",
       "      <td>0.0</td>\n",
       "      <td>0</td>\n",
       "      <td>BB</td>\n",
       "      <td>GBR</td>\n",
       "      <td>Online TA</td>\n",
       "      <td>TA/TO</td>\n",
       "      <td>0</td>\n",
       "      <td>0</td>\n",
       "      <td>0</td>\n",
       "      <td>A</td>\n",
       "      <td>A</td>\n",
       "      <td>0</td>\n",
       "      <td>No Deposit</td>\n",
       "      <td>240.0</td>\n",
       "      <td>0.0</td>\n",
       "      <td>0</td>\n",
       "      <td>Transient</td>\n",
       "      <td>98.0</td>\n",
       "      <td>0</td>\n",
       "      <td>1</td>\n",
       "      <td>Check-Out</td>\n",
       "      <td>7/3/2015</td>\n",
       "    </tr>\n",
       "  </tbody>\n",
       "</table>\n",
       "</div>"
      ],
      "text/plain": [
       "          hotel  is_canceled  lead_time  arrival_date_year arrival_date_month  \\\n",
       "0  Resort Hotel            0        342               2015               July   \n",
       "1  Resort Hotel            0        737               2015               July   \n",
       "2  Resort Hotel            0          7               2015               July   \n",
       "3  Resort Hotel            0         13               2015               July   \n",
       "4  Resort Hotel            0         14               2015               July   \n",
       "\n",
       "   arrival_date_week_number  arrival_date_day_of_month  \\\n",
       "0                        27                          1   \n",
       "1                        27                          1   \n",
       "2                        27                          1   \n",
       "3                        27                          1   \n",
       "4                        27                          1   \n",
       "\n",
       "   stays_in_weekend_nights  stays_in_week_nights  adults  children  babies  \\\n",
       "0                        0                     0       2       0.0       0   \n",
       "1                        0                     0       2       0.0       0   \n",
       "2                        0                     1       1       0.0       0   \n",
       "3                        0                     1       1       0.0       0   \n",
       "4                        0                     2       2       0.0       0   \n",
       "\n",
       "  meal country market_segment distribution_channel  is_repeated_guest  \\\n",
       "0   BB     PRT         Direct               Direct                  0   \n",
       "1   BB     PRT         Direct               Direct                  0   \n",
       "2   BB     GBR         Direct               Direct                  0   \n",
       "3   BB     GBR      Corporate            Corporate                  0   \n",
       "4   BB     GBR      Online TA                TA/TO                  0   \n",
       "\n",
       "   previous_cancellations  previous_bookings_not_canceled reserved_room_type  \\\n",
       "0                       0                               0                  C   \n",
       "1                       0                               0                  C   \n",
       "2                       0                               0                  A   \n",
       "3                       0                               0                  A   \n",
       "4                       0                               0                  A   \n",
       "\n",
       "  assigned_room_type  booking_changes deposit_type  agent  company  \\\n",
       "0                  C                3   No Deposit    0.0      0.0   \n",
       "1                  C                4   No Deposit    0.0      0.0   \n",
       "2                  C                0   No Deposit    0.0      0.0   \n",
       "3                  A                0   No Deposit  304.0      0.0   \n",
       "4                  A                0   No Deposit  240.0      0.0   \n",
       "\n",
       "   days_in_waiting_list customer_type   adr  required_car_parking_spaces  \\\n",
       "0                     0     Transient   0.0                            0   \n",
       "1                     0     Transient   0.0                            0   \n",
       "2                     0     Transient  75.0                            0   \n",
       "3                     0     Transient  75.0                            0   \n",
       "4                     0     Transient  98.0                            0   \n",
       "\n",
       "   total_of_special_requests reservation_status reservation_status_date  \n",
       "0                          0          Check-Out                7/1/2015  \n",
       "1                          0          Check-Out                7/1/2015  \n",
       "2                          0          Check-Out                7/2/2015  \n",
       "3                          0          Check-Out                7/2/2015  \n",
       "4                          1          Check-Out                7/3/2015  "
      ]
     },
     "execution_count": 183,
     "metadata": {},
     "output_type": "execute_result"
    }
   ],
   "source": [
    "data.head()"
   ]
  },
  {
   "cell_type": "code",
   "execution_count": 184,
   "id": "9bc11b46",
   "metadata": {},
   "outputs": [
    {
     "data": {
      "text/html": [
       "<div>\n",
       "<style scoped>\n",
       "    .dataframe tbody tr th:only-of-type {\n",
       "        vertical-align: middle;\n",
       "    }\n",
       "\n",
       "    .dataframe tbody tr th {\n",
       "        vertical-align: top;\n",
       "    }\n",
       "\n",
       "    .dataframe thead th {\n",
       "        text-align: right;\n",
       "    }\n",
       "</style>\n",
       "<table border=\"1\" class=\"dataframe\">\n",
       "  <thead>\n",
       "    <tr style=\"text-align: right;\">\n",
       "      <th></th>\n",
       "      <th>is_canceled</th>\n",
       "      <th>lead_time</th>\n",
       "      <th>arrival_date_year</th>\n",
       "      <th>arrival_date_week_number</th>\n",
       "      <th>arrival_date_day_of_month</th>\n",
       "      <th>stays_in_weekend_nights</th>\n",
       "      <th>stays_in_week_nights</th>\n",
       "      <th>adults</th>\n",
       "      <th>children</th>\n",
       "      <th>babies</th>\n",
       "      <th>is_repeated_guest</th>\n",
       "      <th>previous_cancellations</th>\n",
       "      <th>previous_bookings_not_canceled</th>\n",
       "      <th>booking_changes</th>\n",
       "      <th>agent</th>\n",
       "      <th>company</th>\n",
       "      <th>days_in_waiting_list</th>\n",
       "      <th>adr</th>\n",
       "      <th>required_car_parking_spaces</th>\n",
       "      <th>total_of_special_requests</th>\n",
       "    </tr>\n",
       "  </thead>\n",
       "  <tbody>\n",
       "    <tr>\n",
       "      <th>is_canceled</th>\n",
       "      <td>1.000000</td>\n",
       "      <td>0.292876</td>\n",
       "      <td>0.016622</td>\n",
       "      <td>0.008315</td>\n",
       "      <td>-0.005948</td>\n",
       "      <td>-0.001323</td>\n",
       "      <td>0.025542</td>\n",
       "      <td>0.058182</td>\n",
       "      <td>0.004851</td>\n",
       "      <td>-0.032569</td>\n",
       "      <td>-0.083745</td>\n",
       "      <td>0.110139</td>\n",
       "      <td>-0.057365</td>\n",
       "      <td>-0.144832</td>\n",
       "      <td>-0.046770</td>\n",
       "      <td>-0.083594</td>\n",
       "      <td>0.054301</td>\n",
       "      <td>0.046492</td>\n",
       "      <td>-0.195701</td>\n",
       "      <td>-0.234877</td>\n",
       "    </tr>\n",
       "    <tr>\n",
       "      <th>lead_time</th>\n",
       "      <td>0.292876</td>\n",
       "      <td>1.000000</td>\n",
       "      <td>0.040334</td>\n",
       "      <td>0.127046</td>\n",
       "      <td>0.002306</td>\n",
       "      <td>0.085985</td>\n",
       "      <td>0.166892</td>\n",
       "      <td>0.117575</td>\n",
       "      <td>-0.037878</td>\n",
       "      <td>-0.021003</td>\n",
       "      <td>-0.123209</td>\n",
       "      <td>0.086025</td>\n",
       "      <td>-0.073599</td>\n",
       "      <td>0.002230</td>\n",
       "      <td>-0.013114</td>\n",
       "      <td>-0.085854</td>\n",
       "      <td>0.170008</td>\n",
       "      <td>-0.065018</td>\n",
       "      <td>-0.116624</td>\n",
       "      <td>-0.095949</td>\n",
       "    </tr>\n",
       "    <tr>\n",
       "      <th>arrival_date_year</th>\n",
       "      <td>0.016622</td>\n",
       "      <td>0.040334</td>\n",
       "      <td>1.000000</td>\n",
       "      <td>-0.540373</td>\n",
       "      <td>-0.000121</td>\n",
       "      <td>0.021694</td>\n",
       "      <td>0.031203</td>\n",
       "      <td>0.030266</td>\n",
       "      <td>0.054710</td>\n",
       "      <td>-0.013192</td>\n",
       "      <td>0.010281</td>\n",
       "      <td>-0.119905</td>\n",
       "      <td>0.029234</td>\n",
       "      <td>0.031416</td>\n",
       "      <td>0.056438</td>\n",
       "      <td>0.033682</td>\n",
       "      <td>-0.056348</td>\n",
       "      <td>0.198429</td>\n",
       "      <td>-0.013812</td>\n",
       "      <td>0.108610</td>\n",
       "    </tr>\n",
       "    <tr>\n",
       "      <th>arrival_date_week_number</th>\n",
       "      <td>0.008315</td>\n",
       "      <td>0.127046</td>\n",
       "      <td>-0.540373</td>\n",
       "      <td>1.000000</td>\n",
       "      <td>0.066572</td>\n",
       "      <td>0.018629</td>\n",
       "      <td>0.016047</td>\n",
       "      <td>0.026567</td>\n",
       "      <td>0.005556</td>\n",
       "      <td>0.010417</td>\n",
       "      <td>-0.031125</td>\n",
       "      <td>0.035493</td>\n",
       "      <td>-0.021009</td>\n",
       "      <td>0.006311</td>\n",
       "      <td>-0.018225</td>\n",
       "      <td>-0.032912</td>\n",
       "      <td>0.022677</td>\n",
       "      <td>0.076281</td>\n",
       "      <td>0.001980</td>\n",
       "      <td>0.026202</td>\n",
       "    </tr>\n",
       "    <tr>\n",
       "      <th>arrival_date_day_of_month</th>\n",
       "      <td>-0.005948</td>\n",
       "      <td>0.002306</td>\n",
       "      <td>-0.000121</td>\n",
       "      <td>0.066572</td>\n",
       "      <td>1.000000</td>\n",
       "      <td>-0.016225</td>\n",
       "      <td>-0.028362</td>\n",
       "      <td>-0.001754</td>\n",
       "      <td>0.014550</td>\n",
       "      <td>-0.000235</td>\n",
       "      <td>-0.006471</td>\n",
       "      <td>-0.027027</td>\n",
       "      <td>-0.000306</td>\n",
       "      <td>0.011266</td>\n",
       "      <td>0.000159</td>\n",
       "      <td>0.003667</td>\n",
       "      <td>0.022532</td>\n",
       "      <td>0.030291</td>\n",
       "      <td>0.008569</td>\n",
       "      <td>0.003026</td>\n",
       "    </tr>\n",
       "    <tr>\n",
       "      <th>stays_in_weekend_nights</th>\n",
       "      <td>-0.001323</td>\n",
       "      <td>0.085985</td>\n",
       "      <td>0.021694</td>\n",
       "      <td>0.018629</td>\n",
       "      <td>-0.016225</td>\n",
       "      <td>1.000000</td>\n",
       "      <td>0.494175</td>\n",
       "      <td>0.094759</td>\n",
       "      <td>0.046135</td>\n",
       "      <td>0.018607</td>\n",
       "      <td>-0.086009</td>\n",
       "      <td>-0.012769</td>\n",
       "      <td>-0.042859</td>\n",
       "      <td>0.050191</td>\n",
       "      <td>0.162411</td>\n",
       "      <td>-0.080783</td>\n",
       "      <td>-0.054399</td>\n",
       "      <td>0.050670</td>\n",
       "      <td>-0.018520</td>\n",
       "      <td>0.073124</td>\n",
       "    </tr>\n",
       "    <tr>\n",
       "      <th>stays_in_week_nights</th>\n",
       "      <td>0.025542</td>\n",
       "      <td>0.166892</td>\n",
       "      <td>0.031203</td>\n",
       "      <td>0.016047</td>\n",
       "      <td>-0.028362</td>\n",
       "      <td>0.494175</td>\n",
       "      <td>1.000000</td>\n",
       "      <td>0.096214</td>\n",
       "      <td>0.044652</td>\n",
       "      <td>0.020373</td>\n",
       "      <td>-0.095302</td>\n",
       "      <td>-0.013976</td>\n",
       "      <td>-0.048873</td>\n",
       "      <td>0.080018</td>\n",
       "      <td>0.196777</td>\n",
       "      <td>-0.044437</td>\n",
       "      <td>-0.002026</td>\n",
       "      <td>0.066847</td>\n",
       "      <td>-0.024933</td>\n",
       "      <td>0.068738</td>\n",
       "    </tr>\n",
       "    <tr>\n",
       "      <th>adults</th>\n",
       "      <td>0.058182</td>\n",
       "      <td>0.117575</td>\n",
       "      <td>0.030266</td>\n",
       "      <td>0.026567</td>\n",
       "      <td>-0.001754</td>\n",
       "      <td>0.094759</td>\n",
       "      <td>0.096214</td>\n",
       "      <td>1.000000</td>\n",
       "      <td>0.029409</td>\n",
       "      <td>0.017890</td>\n",
       "      <td>-0.140973</td>\n",
       "      <td>-0.007070</td>\n",
       "      <td>-0.108856</td>\n",
       "      <td>-0.041472</td>\n",
       "      <td>0.023370</td>\n",
       "      <td>-0.166182</td>\n",
       "      <td>-0.008365</td>\n",
       "      <td>0.224253</td>\n",
       "      <td>0.014438</td>\n",
       "      <td>0.123353</td>\n",
       "    </tr>\n",
       "    <tr>\n",
       "      <th>children</th>\n",
       "      <td>0.004851</td>\n",
       "      <td>-0.037878</td>\n",
       "      <td>0.054710</td>\n",
       "      <td>0.005556</td>\n",
       "      <td>0.014550</td>\n",
       "      <td>0.046135</td>\n",
       "      <td>0.044652</td>\n",
       "      <td>0.029409</td>\n",
       "      <td>1.000000</td>\n",
       "      <td>0.023999</td>\n",
       "      <td>-0.032475</td>\n",
       "      <td>-0.024755</td>\n",
       "      <td>-0.021078</td>\n",
       "      <td>0.051000</td>\n",
       "      <td>0.050461</td>\n",
       "      <td>-0.042554</td>\n",
       "      <td>-0.033293</td>\n",
       "      <td>0.325057</td>\n",
       "      <td>0.056247</td>\n",
       "      <td>0.081747</td>\n",
       "    </tr>\n",
       "    <tr>\n",
       "      <th>babies</th>\n",
       "      <td>-0.032569</td>\n",
       "      <td>-0.021003</td>\n",
       "      <td>-0.013192</td>\n",
       "      <td>0.010417</td>\n",
       "      <td>-0.000235</td>\n",
       "      <td>0.018607</td>\n",
       "      <td>0.020373</td>\n",
       "      <td>0.017890</td>\n",
       "      <td>0.023999</td>\n",
       "      <td>1.000000</td>\n",
       "      <td>-0.008813</td>\n",
       "      <td>-0.007509</td>\n",
       "      <td>-0.006552</td>\n",
       "      <td>0.085605</td>\n",
       "      <td>0.030235</td>\n",
       "      <td>-0.009426</td>\n",
       "      <td>-0.010627</td>\n",
       "      <td>0.029043</td>\n",
       "      <td>0.037389</td>\n",
       "      <td>0.097939</td>\n",
       "    </tr>\n",
       "    <tr>\n",
       "      <th>is_repeated_guest</th>\n",
       "      <td>-0.083745</td>\n",
       "      <td>-0.123209</td>\n",
       "      <td>0.010281</td>\n",
       "      <td>-0.031125</td>\n",
       "      <td>-0.006471</td>\n",
       "      <td>-0.086009</td>\n",
       "      <td>-0.095302</td>\n",
       "      <td>-0.140973</td>\n",
       "      <td>-0.032475</td>\n",
       "      <td>-0.008813</td>\n",
       "      <td>1.000000</td>\n",
       "      <td>0.082740</td>\n",
       "      <td>0.420642</td>\n",
       "      <td>0.013044</td>\n",
       "      <td>-0.051584</td>\n",
       "      <td>0.161871</td>\n",
       "      <td>-0.022057</td>\n",
       "      <td>-0.130807</td>\n",
       "      <td>0.077928</td>\n",
       "      <td>0.012963</td>\n",
       "    </tr>\n",
       "    <tr>\n",
       "      <th>previous_cancellations</th>\n",
       "      <td>0.110139</td>\n",
       "      <td>0.086025</td>\n",
       "      <td>-0.119905</td>\n",
       "      <td>0.035493</td>\n",
       "      <td>-0.027027</td>\n",
       "      <td>-0.012769</td>\n",
       "      <td>-0.013976</td>\n",
       "      <td>-0.007070</td>\n",
       "      <td>-0.024755</td>\n",
       "      <td>-0.007509</td>\n",
       "      <td>0.082740</td>\n",
       "      <td>1.000000</td>\n",
       "      <td>0.152570</td>\n",
       "      <td>-0.027261</td>\n",
       "      <td>-0.018251</td>\n",
       "      <td>-0.001110</td>\n",
       "      <td>0.005941</td>\n",
       "      <td>-0.065974</td>\n",
       "      <td>-0.018540</td>\n",
       "      <td>-0.048488</td>\n",
       "    </tr>\n",
       "    <tr>\n",
       "      <th>previous_bookings_not_canceled</th>\n",
       "      <td>-0.057365</td>\n",
       "      <td>-0.073599</td>\n",
       "      <td>0.029234</td>\n",
       "      <td>-0.021009</td>\n",
       "      <td>-0.000306</td>\n",
       "      <td>-0.042859</td>\n",
       "      <td>-0.048873</td>\n",
       "      <td>-0.108856</td>\n",
       "      <td>-0.021078</td>\n",
       "      <td>-0.006552</td>\n",
       "      <td>0.420642</td>\n",
       "      <td>0.152570</td>\n",
       "      <td>1.000000</td>\n",
       "      <td>0.011963</td>\n",
       "      <td>-0.046348</td>\n",
       "      <td>0.111220</td>\n",
       "      <td>-0.009416</td>\n",
       "      <td>-0.072335</td>\n",
       "      <td>0.047506</td>\n",
       "      <td>0.037775</td>\n",
       "    </tr>\n",
       "    <tr>\n",
       "      <th>booking_changes</th>\n",
       "      <td>-0.144832</td>\n",
       "      <td>0.002230</td>\n",
       "      <td>0.031416</td>\n",
       "      <td>0.006311</td>\n",
       "      <td>0.011266</td>\n",
       "      <td>0.050191</td>\n",
       "      <td>0.080018</td>\n",
       "      <td>-0.041472</td>\n",
       "      <td>0.051000</td>\n",
       "      <td>0.085605</td>\n",
       "      <td>0.013044</td>\n",
       "      <td>-0.027261</td>\n",
       "      <td>0.011963</td>\n",
       "      <td>1.000000</td>\n",
       "      <td>0.038555</td>\n",
       "      <td>0.089768</td>\n",
       "      <td>-0.011916</td>\n",
       "      <td>0.026601</td>\n",
       "      <td>0.067490</td>\n",
       "      <td>0.055003</td>\n",
       "    </tr>\n",
       "    <tr>\n",
       "      <th>agent</th>\n",
       "      <td>-0.046770</td>\n",
       "      <td>-0.013114</td>\n",
       "      <td>0.056438</td>\n",
       "      <td>-0.018225</td>\n",
       "      <td>0.000159</td>\n",
       "      <td>0.162411</td>\n",
       "      <td>0.196777</td>\n",
       "      <td>0.023370</td>\n",
       "      <td>0.050461</td>\n",
       "      <td>0.030235</td>\n",
       "      <td>-0.051584</td>\n",
       "      <td>-0.018251</td>\n",
       "      <td>-0.046348</td>\n",
       "      <td>0.038555</td>\n",
       "      <td>1.000000</td>\n",
       "      <td>-0.121333</td>\n",
       "      <td>-0.041182</td>\n",
       "      <td>0.015711</td>\n",
       "      <td>0.119282</td>\n",
       "      <td>0.060783</td>\n",
       "    </tr>\n",
       "    <tr>\n",
       "      <th>company</th>\n",
       "      <td>-0.083594</td>\n",
       "      <td>-0.085854</td>\n",
       "      <td>0.033682</td>\n",
       "      <td>-0.032912</td>\n",
       "      <td>0.003667</td>\n",
       "      <td>-0.080783</td>\n",
       "      <td>-0.044437</td>\n",
       "      <td>-0.166182</td>\n",
       "      <td>-0.042554</td>\n",
       "      <td>-0.009426</td>\n",
       "      <td>0.161871</td>\n",
       "      <td>-0.001110</td>\n",
       "      <td>0.111220</td>\n",
       "      <td>0.089768</td>\n",
       "      <td>-0.121333</td>\n",
       "      <td>1.000000</td>\n",
       "      <td>-0.022944</td>\n",
       "      <td>-0.127641</td>\n",
       "      <td>0.038638</td>\n",
       "      <td>-0.090790</td>\n",
       "    </tr>\n",
       "    <tr>\n",
       "      <th>days_in_waiting_list</th>\n",
       "      <td>0.054301</td>\n",
       "      <td>0.170008</td>\n",
       "      <td>-0.056348</td>\n",
       "      <td>0.022677</td>\n",
       "      <td>0.022532</td>\n",
       "      <td>-0.054399</td>\n",
       "      <td>-0.002026</td>\n",
       "      <td>-0.008365</td>\n",
       "      <td>-0.033293</td>\n",
       "      <td>-0.010627</td>\n",
       "      <td>-0.022057</td>\n",
       "      <td>0.005941</td>\n",
       "      <td>-0.009416</td>\n",
       "      <td>-0.011916</td>\n",
       "      <td>-0.041182</td>\n",
       "      <td>-0.022944</td>\n",
       "      <td>1.000000</td>\n",
       "      <td>-0.040859</td>\n",
       "      <td>-0.030601</td>\n",
       "      <td>-0.082755</td>\n",
       "    </tr>\n",
       "    <tr>\n",
       "      <th>adr</th>\n",
       "      <td>0.046492</td>\n",
       "      <td>-0.065018</td>\n",
       "      <td>0.198429</td>\n",
       "      <td>0.076281</td>\n",
       "      <td>0.030291</td>\n",
       "      <td>0.050670</td>\n",
       "      <td>0.066847</td>\n",
       "      <td>0.224253</td>\n",
       "      <td>0.325057</td>\n",
       "      <td>0.029043</td>\n",
       "      <td>-0.130807</td>\n",
       "      <td>-0.065974</td>\n",
       "      <td>-0.072335</td>\n",
       "      <td>0.026601</td>\n",
       "      <td>0.015711</td>\n",
       "      <td>-0.127641</td>\n",
       "      <td>-0.040859</td>\n",
       "      <td>1.000000</td>\n",
       "      <td>0.056510</td>\n",
       "      <td>0.172308</td>\n",
       "    </tr>\n",
       "    <tr>\n",
       "      <th>required_car_parking_spaces</th>\n",
       "      <td>-0.195701</td>\n",
       "      <td>-0.116624</td>\n",
       "      <td>-0.013812</td>\n",
       "      <td>0.001980</td>\n",
       "      <td>0.008569</td>\n",
       "      <td>-0.018520</td>\n",
       "      <td>-0.024933</td>\n",
       "      <td>0.014438</td>\n",
       "      <td>0.056247</td>\n",
       "      <td>0.037389</td>\n",
       "      <td>0.077928</td>\n",
       "      <td>-0.018540</td>\n",
       "      <td>0.047506</td>\n",
       "      <td>0.067490</td>\n",
       "      <td>0.119282</td>\n",
       "      <td>0.038638</td>\n",
       "      <td>-0.030601</td>\n",
       "      <td>0.056510</td>\n",
       "      <td>1.000000</td>\n",
       "      <td>0.082718</td>\n",
       "    </tr>\n",
       "    <tr>\n",
       "      <th>total_of_special_requests</th>\n",
       "      <td>-0.234877</td>\n",
       "      <td>-0.095949</td>\n",
       "      <td>0.108610</td>\n",
       "      <td>0.026202</td>\n",
       "      <td>0.003026</td>\n",
       "      <td>0.073124</td>\n",
       "      <td>0.068738</td>\n",
       "      <td>0.123353</td>\n",
       "      <td>0.081747</td>\n",
       "      <td>0.097939</td>\n",
       "      <td>0.012963</td>\n",
       "      <td>-0.048488</td>\n",
       "      <td>0.037775</td>\n",
       "      <td>0.055003</td>\n",
       "      <td>0.060783</td>\n",
       "      <td>-0.090790</td>\n",
       "      <td>-0.082755</td>\n",
       "      <td>0.172308</td>\n",
       "      <td>0.082718</td>\n",
       "      <td>1.000000</td>\n",
       "    </tr>\n",
       "  </tbody>\n",
       "</table>\n",
       "</div>"
      ],
      "text/plain": [
       "                                is_canceled  lead_time  arrival_date_year  \\\n",
       "is_canceled                        1.000000   0.292876           0.016622   \n",
       "lead_time                          0.292876   1.000000           0.040334   \n",
       "arrival_date_year                  0.016622   0.040334           1.000000   \n",
       "arrival_date_week_number           0.008315   0.127046          -0.540373   \n",
       "arrival_date_day_of_month         -0.005948   0.002306          -0.000121   \n",
       "stays_in_weekend_nights           -0.001323   0.085985           0.021694   \n",
       "stays_in_week_nights               0.025542   0.166892           0.031203   \n",
       "adults                             0.058182   0.117575           0.030266   \n",
       "children                           0.004851  -0.037878           0.054710   \n",
       "babies                            -0.032569  -0.021003          -0.013192   \n",
       "is_repeated_guest                 -0.083745  -0.123209           0.010281   \n",
       "previous_cancellations             0.110139   0.086025          -0.119905   \n",
       "previous_bookings_not_canceled    -0.057365  -0.073599           0.029234   \n",
       "booking_changes                   -0.144832   0.002230           0.031416   \n",
       "agent                             -0.046770  -0.013114           0.056438   \n",
       "company                           -0.083594  -0.085854           0.033682   \n",
       "days_in_waiting_list               0.054301   0.170008          -0.056348   \n",
       "adr                                0.046492  -0.065018           0.198429   \n",
       "required_car_parking_spaces       -0.195701  -0.116624          -0.013812   \n",
       "total_of_special_requests         -0.234877  -0.095949           0.108610   \n",
       "\n",
       "                                arrival_date_week_number  \\\n",
       "is_canceled                                     0.008315   \n",
       "lead_time                                       0.127046   \n",
       "arrival_date_year                              -0.540373   \n",
       "arrival_date_week_number                        1.000000   \n",
       "arrival_date_day_of_month                       0.066572   \n",
       "stays_in_weekend_nights                         0.018629   \n",
       "stays_in_week_nights                            0.016047   \n",
       "adults                                          0.026567   \n",
       "children                                        0.005556   \n",
       "babies                                          0.010417   \n",
       "is_repeated_guest                              -0.031125   \n",
       "previous_cancellations                          0.035493   \n",
       "previous_bookings_not_canceled                 -0.021009   \n",
       "booking_changes                                 0.006311   \n",
       "agent                                          -0.018225   \n",
       "company                                        -0.032912   \n",
       "days_in_waiting_list                            0.022677   \n",
       "adr                                             0.076281   \n",
       "required_car_parking_spaces                     0.001980   \n",
       "total_of_special_requests                       0.026202   \n",
       "\n",
       "                                arrival_date_day_of_month  \\\n",
       "is_canceled                                     -0.005948   \n",
       "lead_time                                        0.002306   \n",
       "arrival_date_year                               -0.000121   \n",
       "arrival_date_week_number                         0.066572   \n",
       "arrival_date_day_of_month                        1.000000   \n",
       "stays_in_weekend_nights                         -0.016225   \n",
       "stays_in_week_nights                            -0.028362   \n",
       "adults                                          -0.001754   \n",
       "children                                         0.014550   \n",
       "babies                                          -0.000235   \n",
       "is_repeated_guest                               -0.006471   \n",
       "previous_cancellations                          -0.027027   \n",
       "previous_bookings_not_canceled                  -0.000306   \n",
       "booking_changes                                  0.011266   \n",
       "agent                                            0.000159   \n",
       "company                                          0.003667   \n",
       "days_in_waiting_list                             0.022532   \n",
       "adr                                              0.030291   \n",
       "required_car_parking_spaces                      0.008569   \n",
       "total_of_special_requests                        0.003026   \n",
       "\n",
       "                                stays_in_weekend_nights  stays_in_week_nights  \\\n",
       "is_canceled                                   -0.001323              0.025542   \n",
       "lead_time                                      0.085985              0.166892   \n",
       "arrival_date_year                              0.021694              0.031203   \n",
       "arrival_date_week_number                       0.018629              0.016047   \n",
       "arrival_date_day_of_month                     -0.016225             -0.028362   \n",
       "stays_in_weekend_nights                        1.000000              0.494175   \n",
       "stays_in_week_nights                           0.494175              1.000000   \n",
       "adults                                         0.094759              0.096214   \n",
       "children                                       0.046135              0.044652   \n",
       "babies                                         0.018607              0.020373   \n",
       "is_repeated_guest                             -0.086009             -0.095302   \n",
       "previous_cancellations                        -0.012769             -0.013976   \n",
       "previous_bookings_not_canceled                -0.042859             -0.048873   \n",
       "booking_changes                                0.050191              0.080018   \n",
       "agent                                          0.162411              0.196777   \n",
       "company                                       -0.080783             -0.044437   \n",
       "days_in_waiting_list                          -0.054399             -0.002026   \n",
       "adr                                            0.050670              0.066847   \n",
       "required_car_parking_spaces                   -0.018520             -0.024933   \n",
       "total_of_special_requests                      0.073124              0.068738   \n",
       "\n",
       "                                  adults  children    babies  \\\n",
       "is_canceled                     0.058182  0.004851 -0.032569   \n",
       "lead_time                       0.117575 -0.037878 -0.021003   \n",
       "arrival_date_year               0.030266  0.054710 -0.013192   \n",
       "arrival_date_week_number        0.026567  0.005556  0.010417   \n",
       "arrival_date_day_of_month      -0.001754  0.014550 -0.000235   \n",
       "stays_in_weekend_nights         0.094759  0.046135  0.018607   \n",
       "stays_in_week_nights            0.096214  0.044652  0.020373   \n",
       "adults                          1.000000  0.029409  0.017890   \n",
       "children                        0.029409  1.000000  0.023999   \n",
       "babies                          0.017890  0.023999  1.000000   \n",
       "is_repeated_guest              -0.140973 -0.032475 -0.008813   \n",
       "previous_cancellations         -0.007070 -0.024755 -0.007509   \n",
       "previous_bookings_not_canceled -0.108856 -0.021078 -0.006552   \n",
       "booking_changes                -0.041472  0.051000  0.085605   \n",
       "agent                           0.023370  0.050461  0.030235   \n",
       "company                        -0.166182 -0.042554 -0.009426   \n",
       "days_in_waiting_list           -0.008365 -0.033293 -0.010627   \n",
       "adr                             0.224253  0.325057  0.029043   \n",
       "required_car_parking_spaces     0.014438  0.056247  0.037389   \n",
       "total_of_special_requests       0.123353  0.081747  0.097939   \n",
       "\n",
       "                                is_repeated_guest  previous_cancellations  \\\n",
       "is_canceled                             -0.083745                0.110139   \n",
       "lead_time                               -0.123209                0.086025   \n",
       "arrival_date_year                        0.010281               -0.119905   \n",
       "arrival_date_week_number                -0.031125                0.035493   \n",
       "arrival_date_day_of_month               -0.006471               -0.027027   \n",
       "stays_in_weekend_nights                 -0.086009               -0.012769   \n",
       "stays_in_week_nights                    -0.095302               -0.013976   \n",
       "adults                                  -0.140973               -0.007070   \n",
       "children                                -0.032475               -0.024755   \n",
       "babies                                  -0.008813               -0.007509   \n",
       "is_repeated_guest                        1.000000                0.082740   \n",
       "previous_cancellations                   0.082740                1.000000   \n",
       "previous_bookings_not_canceled           0.420642                0.152570   \n",
       "booking_changes                          0.013044               -0.027261   \n",
       "agent                                   -0.051584               -0.018251   \n",
       "company                                  0.161871               -0.001110   \n",
       "days_in_waiting_list                    -0.022057                0.005941   \n",
       "adr                                     -0.130807               -0.065974   \n",
       "required_car_parking_spaces              0.077928               -0.018540   \n",
       "total_of_special_requests                0.012963               -0.048488   \n",
       "\n",
       "                                previous_bookings_not_canceled  \\\n",
       "is_canceled                                          -0.057365   \n",
       "lead_time                                            -0.073599   \n",
       "arrival_date_year                                     0.029234   \n",
       "arrival_date_week_number                             -0.021009   \n",
       "arrival_date_day_of_month                            -0.000306   \n",
       "stays_in_weekend_nights                              -0.042859   \n",
       "stays_in_week_nights                                 -0.048873   \n",
       "adults                                               -0.108856   \n",
       "children                                             -0.021078   \n",
       "babies                                               -0.006552   \n",
       "is_repeated_guest                                     0.420642   \n",
       "previous_cancellations                                0.152570   \n",
       "previous_bookings_not_canceled                        1.000000   \n",
       "booking_changes                                       0.011963   \n",
       "agent                                                -0.046348   \n",
       "company                                               0.111220   \n",
       "days_in_waiting_list                                 -0.009416   \n",
       "adr                                                  -0.072335   \n",
       "required_car_parking_spaces                           0.047506   \n",
       "total_of_special_requests                             0.037775   \n",
       "\n",
       "                                booking_changes     agent   company  \\\n",
       "is_canceled                           -0.144832 -0.046770 -0.083594   \n",
       "lead_time                              0.002230 -0.013114 -0.085854   \n",
       "arrival_date_year                      0.031416  0.056438  0.033682   \n",
       "arrival_date_week_number               0.006311 -0.018225 -0.032912   \n",
       "arrival_date_day_of_month              0.011266  0.000159  0.003667   \n",
       "stays_in_weekend_nights                0.050191  0.162411 -0.080783   \n",
       "stays_in_week_nights                   0.080018  0.196777 -0.044437   \n",
       "adults                                -0.041472  0.023370 -0.166182   \n",
       "children                               0.051000  0.050461 -0.042554   \n",
       "babies                                 0.085605  0.030235 -0.009426   \n",
       "is_repeated_guest                      0.013044 -0.051584  0.161871   \n",
       "previous_cancellations                -0.027261 -0.018251 -0.001110   \n",
       "previous_bookings_not_canceled         0.011963 -0.046348  0.111220   \n",
       "booking_changes                        1.000000  0.038555  0.089768   \n",
       "agent                                  0.038555  1.000000 -0.121333   \n",
       "company                                0.089768 -0.121333  1.000000   \n",
       "days_in_waiting_list                  -0.011916 -0.041182 -0.022944   \n",
       "adr                                    0.026601  0.015711 -0.127641   \n",
       "required_car_parking_spaces            0.067490  0.119282  0.038638   \n",
       "total_of_special_requests              0.055003  0.060783 -0.090790   \n",
       "\n",
       "                                days_in_waiting_list       adr  \\\n",
       "is_canceled                                 0.054301  0.046492   \n",
       "lead_time                                   0.170008 -0.065018   \n",
       "arrival_date_year                          -0.056348  0.198429   \n",
       "arrival_date_week_number                    0.022677  0.076281   \n",
       "arrival_date_day_of_month                   0.022532  0.030291   \n",
       "stays_in_weekend_nights                    -0.054399  0.050670   \n",
       "stays_in_week_nights                       -0.002026  0.066847   \n",
       "adults                                     -0.008365  0.224253   \n",
       "children                                   -0.033293  0.325057   \n",
       "babies                                     -0.010627  0.029043   \n",
       "is_repeated_guest                          -0.022057 -0.130807   \n",
       "previous_cancellations                      0.005941 -0.065974   \n",
       "previous_bookings_not_canceled             -0.009416 -0.072335   \n",
       "booking_changes                            -0.011916  0.026601   \n",
       "agent                                      -0.041182  0.015711   \n",
       "company                                    -0.022944 -0.127641   \n",
       "days_in_waiting_list                        1.000000 -0.040859   \n",
       "adr                                        -0.040859  1.000000   \n",
       "required_car_parking_spaces                -0.030601  0.056510   \n",
       "total_of_special_requests                  -0.082755  0.172308   \n",
       "\n",
       "                                required_car_parking_spaces  \\\n",
       "is_canceled                                       -0.195701   \n",
       "lead_time                                         -0.116624   \n",
       "arrival_date_year                                 -0.013812   \n",
       "arrival_date_week_number                           0.001980   \n",
       "arrival_date_day_of_month                          0.008569   \n",
       "stays_in_weekend_nights                           -0.018520   \n",
       "stays_in_week_nights                              -0.024933   \n",
       "adults                                             0.014438   \n",
       "children                                           0.056247   \n",
       "babies                                             0.037389   \n",
       "is_repeated_guest                                  0.077928   \n",
       "previous_cancellations                            -0.018540   \n",
       "previous_bookings_not_canceled                     0.047506   \n",
       "booking_changes                                    0.067490   \n",
       "agent                                              0.119282   \n",
       "company                                            0.038638   \n",
       "days_in_waiting_list                              -0.030601   \n",
       "adr                                                0.056510   \n",
       "required_car_parking_spaces                        1.000000   \n",
       "total_of_special_requests                          0.082718   \n",
       "\n",
       "                                total_of_special_requests  \n",
       "is_canceled                                     -0.234877  \n",
       "lead_time                                       -0.095949  \n",
       "arrival_date_year                                0.108610  \n",
       "arrival_date_week_number                         0.026202  \n",
       "arrival_date_day_of_month                        0.003026  \n",
       "stays_in_weekend_nights                          0.073124  \n",
       "stays_in_week_nights                             0.068738  \n",
       "adults                                           0.123353  \n",
       "children                                         0.081747  \n",
       "babies                                           0.097939  \n",
       "is_repeated_guest                                0.012963  \n",
       "previous_cancellations                          -0.048488  \n",
       "previous_bookings_not_canceled                   0.037775  \n",
       "booking_changes                                  0.055003  \n",
       "agent                                            0.060783  \n",
       "company                                         -0.090790  \n",
       "days_in_waiting_list                            -0.082755  \n",
       "adr                                              0.172308  \n",
       "required_car_parking_spaces                      0.082718  \n",
       "total_of_special_requests                        1.000000  "
      ]
     },
     "execution_count": 184,
     "metadata": {},
     "output_type": "execute_result"
    }
   ],
   "source": [
    "data.corr()             #finding correlation"
   ]
  },
  {
   "cell_type": "code",
   "execution_count": 185,
   "id": "19d94dfd",
   "metadata": {},
   "outputs": [
    {
     "data": {
      "text/plain": [
       "is_canceled                       1.000000\n",
       "lead_time                         0.292876\n",
       "arrival_date_year                 0.016622\n",
       "arrival_date_week_number          0.008315\n",
       "arrival_date_day_of_month        -0.005948\n",
       "stays_in_weekend_nights          -0.001323\n",
       "stays_in_week_nights              0.025542\n",
       "adults                            0.058182\n",
       "children                          0.004851\n",
       "babies                           -0.032569\n",
       "is_repeated_guest                -0.083745\n",
       "previous_cancellations            0.110139\n",
       "previous_bookings_not_canceled   -0.057365\n",
       "booking_changes                  -0.144832\n",
       "agent                            -0.046770\n",
       "company                          -0.083594\n",
       "days_in_waiting_list              0.054301\n",
       "adr                               0.046492\n",
       "required_car_parking_spaces      -0.195701\n",
       "total_of_special_requests        -0.234877\n",
       "Name: is_canceled, dtype: float64"
      ]
     },
     "execution_count": 185,
     "metadata": {},
     "output_type": "execute_result"
    }
   ],
   "source": [
    "co_relation=data.corr()['is_canceled']       #findint correlation with respect to is_canceled\n",
    "co_relation"
   ]
  },
  {
   "cell_type": "code",
   "execution_count": 186,
   "id": "5c7d7a23",
   "metadata": {},
   "outputs": [
    {
     "data": {
      "text/plain": [
       "is_canceled                       1.000000\n",
       "lead_time                         0.292876\n",
       "total_of_special_requests         0.234877\n",
       "required_car_parking_spaces       0.195701\n",
       "booking_changes                   0.144832\n",
       "previous_cancellations            0.110139\n",
       "is_repeated_guest                 0.083745\n",
       "company                           0.083594\n",
       "adults                            0.058182\n",
       "previous_bookings_not_canceled    0.057365\n",
       "days_in_waiting_list              0.054301\n",
       "agent                             0.046770\n",
       "adr                               0.046492\n",
       "babies                            0.032569\n",
       "stays_in_week_nights              0.025542\n",
       "arrival_date_year                 0.016622\n",
       "arrival_date_week_number          0.008315\n",
       "arrival_date_day_of_month         0.005948\n",
       "children                          0.004851\n",
       "stays_in_weekend_nights           0.001323\n",
       "Name: is_canceled, dtype: float64"
      ]
     },
     "execution_count": 186,
     "metadata": {},
     "output_type": "execute_result"
    }
   ],
   "source": [
    "co_relation.abs().sort_values(ascending=False)        #used abs to avoid negative values and sort_values to sort the value of correlation"
   ]
  },
  {
   "cell_type": "code",
   "execution_count": 187,
   "id": "e5b5c307",
   "metadata": {},
   "outputs": [
    {
     "data": {
      "text/plain": [
       "is_canceled  reservation_status\n",
       "0            Check-Out             75011\n",
       "1            Canceled              42993\n",
       "             No-Show                1206\n",
       "Name: reservation_status, dtype: int64"
      ]
     },
     "execution_count": 187,
     "metadata": {},
     "output_type": "execute_result"
    }
   ],
   "source": [
    "data.groupby('is_canceled')['reservation_status'].value_counts()   #Checking reservation_status on the basis of is_canceled"
   ]
  },
  {
   "cell_type": "code",
   "execution_count": 188,
   "id": "23574cb4",
   "metadata": {},
   "outputs": [],
   "source": [
    "list_not=['days_in_waiting_list','arrival_date_year']     #excluding this feature"
   ]
  },
  {
   "cell_type": "code",
   "execution_count": 189,
   "id": "75521f1a",
   "metadata": {},
   "outputs": [
    {
     "data": {
      "text/plain": [
       "['is_canceled',\n",
       " 'lead_time',\n",
       " 'arrival_date_week_number',\n",
       " 'arrival_date_day_of_month',\n",
       " 'stays_in_weekend_nights',\n",
       " 'stays_in_week_nights',\n",
       " 'adults',\n",
       " 'children',\n",
       " 'babies',\n",
       " 'is_repeated_guest',\n",
       " 'previous_cancellations',\n",
       " 'previous_bookings_not_canceled',\n",
       " 'booking_changes',\n",
       " 'agent',\n",
       " 'company',\n",
       " 'adr',\n",
       " 'required_car_parking_spaces',\n",
       " 'total_of_special_requests']"
      ]
     },
     "execution_count": 189,
     "metadata": {},
     "output_type": "execute_result"
    }
   ],
   "source": [
    "num_features=[col for col in data.columns if data[col].dtype!='O' and col not in list_not]     #fetching numerical colums \n",
    "num_features"
   ]
  },
  {
   "cell_type": "code",
   "execution_count": 190,
   "id": "89e19491",
   "metadata": {},
   "outputs": [
    {
     "data": {
      "text/plain": [
       "Index(['hotel', 'is_canceled', 'lead_time', 'arrival_date_year',\n",
       "       'arrival_date_month', 'arrival_date_week_number',\n",
       "       'arrival_date_day_of_month', 'stays_in_weekend_nights',\n",
       "       'stays_in_week_nights', 'adults', 'children', 'babies', 'meal',\n",
       "       'country', 'market_segment', 'distribution_channel',\n",
       "       'is_repeated_guest', 'previous_cancellations',\n",
       "       'previous_bookings_not_canceled', 'reserved_room_type',\n",
       "       'assigned_room_type', 'booking_changes', 'deposit_type', 'agent',\n",
       "       'company', 'days_in_waiting_list', 'customer_type', 'adr',\n",
       "       'required_car_parking_spaces', 'total_of_special_requests',\n",
       "       'reservation_status', 'reservation_status_date'],\n",
       "      dtype='object')"
      ]
     },
     "execution_count": 190,
     "metadata": {},
     "output_type": "execute_result"
    }
   ],
   "source": [
    "data.columns             #showing all columns"
   ]
  },
  {
   "cell_type": "code",
   "execution_count": 191,
   "id": "c8d4e186",
   "metadata": {},
   "outputs": [],
   "source": [
    "cat_not=['arrival_date_year','assigned_room_type','booking_changes','reservation_status','country','days_in_waiting_list']                #excluding categorical columns"
   ]
  },
  {
   "cell_type": "code",
   "execution_count": 192,
   "id": "9c81c033",
   "metadata": {},
   "outputs": [
    {
     "data": {
      "text/plain": [
       "['hotel',\n",
       " 'arrival_date_month',\n",
       " 'meal',\n",
       " 'market_segment',\n",
       " 'distribution_channel',\n",
       " 'reserved_room_type',\n",
       " 'deposit_type',\n",
       " 'customer_type',\n",
       " 'reservation_status_date']"
      ]
     },
     "execution_count": 192,
     "metadata": {},
     "output_type": "execute_result"
    }
   ],
   "source": [
    "cat_features=[col for col in data.columns if data[col].dtype=='O' and col not in cat_not]        #list comprehension\n",
    "cat_features                                                                              "
   ]
  },
  {
   "cell_type": "code",
   "execution_count": 193,
   "id": "6539188f",
   "metadata": {},
   "outputs": [],
   "source": [
    "data_cat=data[cat_features]        #pushing cat_features to datafrmae"
   ]
  },
  {
   "cell_type": "code",
   "execution_count": 194,
   "id": "55957e34",
   "metadata": {},
   "outputs": [
    {
     "data": {
      "text/html": [
       "<div>\n",
       "<style scoped>\n",
       "    .dataframe tbody tr th:only-of-type {\n",
       "        vertical-align: middle;\n",
       "    }\n",
       "\n",
       "    .dataframe tbody tr th {\n",
       "        vertical-align: top;\n",
       "    }\n",
       "\n",
       "    .dataframe thead th {\n",
       "        text-align: right;\n",
       "    }\n",
       "</style>\n",
       "<table border=\"1\" class=\"dataframe\">\n",
       "  <thead>\n",
       "    <tr style=\"text-align: right;\">\n",
       "      <th></th>\n",
       "      <th>hotel</th>\n",
       "      <th>arrival_date_month</th>\n",
       "      <th>meal</th>\n",
       "      <th>market_segment</th>\n",
       "      <th>distribution_channel</th>\n",
       "      <th>reserved_room_type</th>\n",
       "      <th>deposit_type</th>\n",
       "      <th>customer_type</th>\n",
       "      <th>reservation_status_date</th>\n",
       "    </tr>\n",
       "  </thead>\n",
       "  <tbody>\n",
       "    <tr>\n",
       "      <th>0</th>\n",
       "      <td>Resort Hotel</td>\n",
       "      <td>July</td>\n",
       "      <td>BB</td>\n",
       "      <td>Direct</td>\n",
       "      <td>Direct</td>\n",
       "      <td>C</td>\n",
       "      <td>No Deposit</td>\n",
       "      <td>Transient</td>\n",
       "      <td>7/1/2015</td>\n",
       "    </tr>\n",
       "    <tr>\n",
       "      <th>1</th>\n",
       "      <td>Resort Hotel</td>\n",
       "      <td>July</td>\n",
       "      <td>BB</td>\n",
       "      <td>Direct</td>\n",
       "      <td>Direct</td>\n",
       "      <td>C</td>\n",
       "      <td>No Deposit</td>\n",
       "      <td>Transient</td>\n",
       "      <td>7/1/2015</td>\n",
       "    </tr>\n",
       "    <tr>\n",
       "      <th>2</th>\n",
       "      <td>Resort Hotel</td>\n",
       "      <td>July</td>\n",
       "      <td>BB</td>\n",
       "      <td>Direct</td>\n",
       "      <td>Direct</td>\n",
       "      <td>A</td>\n",
       "      <td>No Deposit</td>\n",
       "      <td>Transient</td>\n",
       "      <td>7/2/2015</td>\n",
       "    </tr>\n",
       "    <tr>\n",
       "      <th>3</th>\n",
       "      <td>Resort Hotel</td>\n",
       "      <td>July</td>\n",
       "      <td>BB</td>\n",
       "      <td>Corporate</td>\n",
       "      <td>Corporate</td>\n",
       "      <td>A</td>\n",
       "      <td>No Deposit</td>\n",
       "      <td>Transient</td>\n",
       "      <td>7/2/2015</td>\n",
       "    </tr>\n",
       "    <tr>\n",
       "      <th>4</th>\n",
       "      <td>Resort Hotel</td>\n",
       "      <td>July</td>\n",
       "      <td>BB</td>\n",
       "      <td>Online TA</td>\n",
       "      <td>TA/TO</td>\n",
       "      <td>A</td>\n",
       "      <td>No Deposit</td>\n",
       "      <td>Transient</td>\n",
       "      <td>7/3/2015</td>\n",
       "    </tr>\n",
       "    <tr>\n",
       "      <th>...</th>\n",
       "      <td>...</td>\n",
       "      <td>...</td>\n",
       "      <td>...</td>\n",
       "      <td>...</td>\n",
       "      <td>...</td>\n",
       "      <td>...</td>\n",
       "      <td>...</td>\n",
       "      <td>...</td>\n",
       "      <td>...</td>\n",
       "    </tr>\n",
       "    <tr>\n",
       "      <th>119385</th>\n",
       "      <td>City Hotel</td>\n",
       "      <td>August</td>\n",
       "      <td>BB</td>\n",
       "      <td>Offline TA/TO</td>\n",
       "      <td>TA/TO</td>\n",
       "      <td>A</td>\n",
       "      <td>No Deposit</td>\n",
       "      <td>Transient</td>\n",
       "      <td>9/6/2017</td>\n",
       "    </tr>\n",
       "    <tr>\n",
       "      <th>119386</th>\n",
       "      <td>City Hotel</td>\n",
       "      <td>August</td>\n",
       "      <td>BB</td>\n",
       "      <td>Online TA</td>\n",
       "      <td>TA/TO</td>\n",
       "      <td>E</td>\n",
       "      <td>No Deposit</td>\n",
       "      <td>Transient</td>\n",
       "      <td>9/7/2017</td>\n",
       "    </tr>\n",
       "    <tr>\n",
       "      <th>119387</th>\n",
       "      <td>City Hotel</td>\n",
       "      <td>August</td>\n",
       "      <td>BB</td>\n",
       "      <td>Online TA</td>\n",
       "      <td>TA/TO</td>\n",
       "      <td>D</td>\n",
       "      <td>No Deposit</td>\n",
       "      <td>Transient</td>\n",
       "      <td>9/7/2017</td>\n",
       "    </tr>\n",
       "    <tr>\n",
       "      <th>119388</th>\n",
       "      <td>City Hotel</td>\n",
       "      <td>August</td>\n",
       "      <td>BB</td>\n",
       "      <td>Online TA</td>\n",
       "      <td>TA/TO</td>\n",
       "      <td>A</td>\n",
       "      <td>No Deposit</td>\n",
       "      <td>Transient</td>\n",
       "      <td>9/7/2017</td>\n",
       "    </tr>\n",
       "    <tr>\n",
       "      <th>119389</th>\n",
       "      <td>City Hotel</td>\n",
       "      <td>August</td>\n",
       "      <td>HB</td>\n",
       "      <td>Online TA</td>\n",
       "      <td>TA/TO</td>\n",
       "      <td>A</td>\n",
       "      <td>No Deposit</td>\n",
       "      <td>Transient</td>\n",
       "      <td>9/7/2017</td>\n",
       "    </tr>\n",
       "  </tbody>\n",
       "</table>\n",
       "<p>119210 rows × 9 columns</p>\n",
       "</div>"
      ],
      "text/plain": [
       "               hotel arrival_date_month meal market_segment  \\\n",
       "0       Resort Hotel               July   BB         Direct   \n",
       "1       Resort Hotel               July   BB         Direct   \n",
       "2       Resort Hotel               July   BB         Direct   \n",
       "3       Resort Hotel               July   BB      Corporate   \n",
       "4       Resort Hotel               July   BB      Online TA   \n",
       "...              ...                ...  ...            ...   \n",
       "119385    City Hotel             August   BB  Offline TA/TO   \n",
       "119386    City Hotel             August   BB      Online TA   \n",
       "119387    City Hotel             August   BB      Online TA   \n",
       "119388    City Hotel             August   BB      Online TA   \n",
       "119389    City Hotel             August   HB      Online TA   \n",
       "\n",
       "       distribution_channel reserved_room_type deposit_type customer_type  \\\n",
       "0                    Direct                  C   No Deposit     Transient   \n",
       "1                    Direct                  C   No Deposit     Transient   \n",
       "2                    Direct                  A   No Deposit     Transient   \n",
       "3                 Corporate                  A   No Deposit     Transient   \n",
       "4                     TA/TO                  A   No Deposit     Transient   \n",
       "...                     ...                ...          ...           ...   \n",
       "119385                TA/TO                  A   No Deposit     Transient   \n",
       "119386                TA/TO                  E   No Deposit     Transient   \n",
       "119387                TA/TO                  D   No Deposit     Transient   \n",
       "119388                TA/TO                  A   No Deposit     Transient   \n",
       "119389                TA/TO                  A   No Deposit     Transient   \n",
       "\n",
       "       reservation_status_date  \n",
       "0                     7/1/2015  \n",
       "1                     7/1/2015  \n",
       "2                     7/2/2015  \n",
       "3                     7/2/2015  \n",
       "4                     7/3/2015  \n",
       "...                        ...  \n",
       "119385                9/6/2017  \n",
       "119386                9/7/2017  \n",
       "119387                9/7/2017  \n",
       "119388                9/7/2017  \n",
       "119389                9/7/2017  \n",
       "\n",
       "[119210 rows x 9 columns]"
      ]
     },
     "execution_count": 194,
     "metadata": {},
     "output_type": "execute_result"
    }
   ],
   "source": [
    "data_cat      #executing "
   ]
  },
  {
   "cell_type": "code",
   "execution_count": 195,
   "id": "a2a5bfed",
   "metadata": {},
   "outputs": [
    {
     "data": {
      "text/plain": [
       "hotel                      object\n",
       "arrival_date_month         object\n",
       "meal                       object\n",
       "market_segment             object\n",
       "distribution_channel       object\n",
       "reserved_room_type         object\n",
       "deposit_type               object\n",
       "customer_type              object\n",
       "reservation_status_date    object\n",
       "dtype: object"
      ]
     },
     "execution_count": 195,
     "metadata": {},
     "output_type": "execute_result"
    }
   ],
   "source": [
    "data_cat.dtypes"
   ]
  },
  {
   "cell_type": "code",
   "execution_count": 196,
   "id": "5679bfde",
   "metadata": {},
   "outputs": [],
   "source": [
    "import warnings\n",
    "from warnings import filterwarnings      #importing filterwarnings from warnings package\n",
    "filterwarnings('ignore')                 #ingnoring warnings"
   ]
  },
  {
   "cell_type": "code",
   "execution_count": 197,
   "id": "a11a19f6",
   "metadata": {},
   "outputs": [],
   "source": [
    "data_cat['reservation_status_date']=pd.to_datetime(data_cat['reservation_status_date'])   #converting into datetime format and updating data_cat feature"
   ]
  },
  {
   "cell_type": "code",
   "execution_count": 198,
   "id": "97b6b77f",
   "metadata": {},
   "outputs": [],
   "source": [
    "data_cat.drop('reservation_status_date',axis=1,inplace=True)            #dropping reservation_status_date and updating by inplace true"
   ]
  },
  {
   "cell_type": "code",
   "execution_count": 199,
   "id": "ee4b4e80",
   "metadata": {},
   "outputs": [],
   "source": [
    "data_cat['cancellation']=data['is_canceled']               #inserting column"
   ]
  },
  {
   "cell_type": "code",
   "execution_count": 200,
   "id": "e1f495aa",
   "metadata": {},
   "outputs": [
    {
     "data": {
      "text/html": [
       "<div>\n",
       "<style scoped>\n",
       "    .dataframe tbody tr th:only-of-type {\n",
       "        vertical-align: middle;\n",
       "    }\n",
       "\n",
       "    .dataframe tbody tr th {\n",
       "        vertical-align: top;\n",
       "    }\n",
       "\n",
       "    .dataframe thead th {\n",
       "        text-align: right;\n",
       "    }\n",
       "</style>\n",
       "<table border=\"1\" class=\"dataframe\">\n",
       "  <thead>\n",
       "    <tr style=\"text-align: right;\">\n",
       "      <th></th>\n",
       "      <th>hotel</th>\n",
       "      <th>arrival_date_month</th>\n",
       "      <th>meal</th>\n",
       "      <th>market_segment</th>\n",
       "      <th>distribution_channel</th>\n",
       "      <th>reserved_room_type</th>\n",
       "      <th>deposit_type</th>\n",
       "      <th>customer_type</th>\n",
       "      <th>cancellation</th>\n",
       "    </tr>\n",
       "  </thead>\n",
       "  <tbody>\n",
       "    <tr>\n",
       "      <th>0</th>\n",
       "      <td>Resort Hotel</td>\n",
       "      <td>July</td>\n",
       "      <td>BB</td>\n",
       "      <td>Direct</td>\n",
       "      <td>Direct</td>\n",
       "      <td>C</td>\n",
       "      <td>No Deposit</td>\n",
       "      <td>Transient</td>\n",
       "      <td>0</td>\n",
       "    </tr>\n",
       "    <tr>\n",
       "      <th>1</th>\n",
       "      <td>Resort Hotel</td>\n",
       "      <td>July</td>\n",
       "      <td>BB</td>\n",
       "      <td>Direct</td>\n",
       "      <td>Direct</td>\n",
       "      <td>C</td>\n",
       "      <td>No Deposit</td>\n",
       "      <td>Transient</td>\n",
       "      <td>0</td>\n",
       "    </tr>\n",
       "    <tr>\n",
       "      <th>2</th>\n",
       "      <td>Resort Hotel</td>\n",
       "      <td>July</td>\n",
       "      <td>BB</td>\n",
       "      <td>Direct</td>\n",
       "      <td>Direct</td>\n",
       "      <td>A</td>\n",
       "      <td>No Deposit</td>\n",
       "      <td>Transient</td>\n",
       "      <td>0</td>\n",
       "    </tr>\n",
       "    <tr>\n",
       "      <th>3</th>\n",
       "      <td>Resort Hotel</td>\n",
       "      <td>July</td>\n",
       "      <td>BB</td>\n",
       "      <td>Corporate</td>\n",
       "      <td>Corporate</td>\n",
       "      <td>A</td>\n",
       "      <td>No Deposit</td>\n",
       "      <td>Transient</td>\n",
       "      <td>0</td>\n",
       "    </tr>\n",
       "    <tr>\n",
       "      <th>4</th>\n",
       "      <td>Resort Hotel</td>\n",
       "      <td>July</td>\n",
       "      <td>BB</td>\n",
       "      <td>Online TA</td>\n",
       "      <td>TA/TO</td>\n",
       "      <td>A</td>\n",
       "      <td>No Deposit</td>\n",
       "      <td>Transient</td>\n",
       "      <td>0</td>\n",
       "    </tr>\n",
       "  </tbody>\n",
       "</table>\n",
       "</div>"
      ],
      "text/plain": [
       "          hotel arrival_date_month meal market_segment distribution_channel  \\\n",
       "0  Resort Hotel               July   BB         Direct               Direct   \n",
       "1  Resort Hotel               July   BB         Direct               Direct   \n",
       "2  Resort Hotel               July   BB         Direct               Direct   \n",
       "3  Resort Hotel               July   BB      Corporate            Corporate   \n",
       "4  Resort Hotel               July   BB      Online TA                TA/TO   \n",
       "\n",
       "  reserved_room_type deposit_type customer_type  cancellation  \n",
       "0                  C   No Deposit     Transient             0  \n",
       "1                  C   No Deposit     Transient             0  \n",
       "2                  A   No Deposit     Transient             0  \n",
       "3                  A   No Deposit     Transient             0  \n",
       "4                  A   No Deposit     Transient             0  "
      ]
     },
     "execution_count": 200,
     "metadata": {},
     "output_type": "execute_result"
    }
   ],
   "source": [
    "data_cat.head()"
   ]
  },
  {
   "cell_type": "code",
   "execution_count": 201,
   "id": "b5e1c450",
   "metadata": {},
   "outputs": [
    {
     "data": {
      "text/plain": [
       "array(['Direct', 'Corporate', 'Online TA', 'Offline TA/TO',\n",
       "       'Complementary', 'Groups', 'Undefined', 'Aviation'], dtype=object)"
      ]
     },
     "execution_count": 201,
     "metadata": {},
     "output_type": "execute_result"
    }
   ],
   "source": [
    "data_cat['market_segment'].unique()      #showing unique directory of market_segment"
   ]
  },
  {
   "cell_type": "code",
   "execution_count": 202,
   "id": "6c70721b",
   "metadata": {},
   "outputs": [
    {
     "data": {
      "text/plain": [
       "Index(['hotel', 'arrival_date_month', 'meal', 'market_segment',\n",
       "       'distribution_channel', 'reserved_room_type', 'deposit_type',\n",
       "       'customer_type', 'cancellation'],\n",
       "      dtype='object')"
      ]
     },
     "execution_count": 202,
     "metadata": {},
     "output_type": "execute_result"
    }
   ],
   "source": [
    "cols = data_cat.columns                             #showing colums from 0 to 8 as we don't need cancellation column\n",
    "cols"
   ]
  },
  {
   "cell_type": "code",
   "execution_count": 203,
   "id": "36975d67",
   "metadata": {},
   "outputs": [
    {
     "data": {
      "text/plain": [
       "hotel\n",
       "City Hotel      0.417859\n",
       "Resort Hotel    0.277674\n",
       "Name: cancellation, dtype: float64"
      ]
     },
     "execution_count": 203,
     "metadata": {},
     "output_type": "execute_result"
    }
   ],
   "source": [
    "data_cat.groupby(['hotel'])['cancellation'].mean()       #accessing hotels"
   ]
  },
  {
   "cell_type": "code",
   "execution_count": 204,
   "id": "26b4a361",
   "metadata": {},
   "outputs": [
    {
     "name": "stdout",
     "output_type": "stream",
     "text": [
      "hotel\n",
      "City Hotel      0.417859\n",
      "Resort Hotel    0.277674\n",
      "Name: cancellation, dtype: float64\n",
      "\n",
      "\n",
      "arrival_date_month\n",
      "April        0.407835\n",
      "August       0.377823\n",
      "December     0.350348\n",
      "February     0.334451\n",
      "January      0.305016\n",
      "July         0.374644\n",
      "June         0.414860\n",
      "March        0.322277\n",
      "May          0.397029\n",
      "November     0.313100\n",
      "October      0.380910\n",
      "September    0.391905\n",
      "Name: cancellation, dtype: float64\n",
      "\n",
      "\n",
      "meal\n",
      "BB           0.374106\n",
      "FB           0.598997\n",
      "HB           0.344653\n",
      "SC           0.374064\n",
      "Undefined    0.244654\n",
      "Name: cancellation, dtype: float64\n",
      "\n",
      "\n",
      "market_segment\n",
      "Aviation         0.221277\n",
      "Complementary    0.122253\n",
      "Corporate        0.187618\n",
      "Direct           0.153712\n",
      "Groups           0.611086\n",
      "Offline TA/TO    0.343313\n",
      "Online TA        0.367590\n",
      "Undefined        1.000000\n",
      "Name: cancellation, dtype: float64\n",
      "\n",
      "\n",
      "distribution_channel\n",
      "Corporate    0.220568\n",
      "Direct       0.174868\n",
      "GDS          0.191710\n",
      "TA/TO        0.410598\n",
      "Undefined    0.800000\n",
      "Name: cancellation, dtype: float64\n",
      "\n",
      "\n",
      "reserved_room_type\n",
      "A    0.391567\n",
      "B    0.329148\n",
      "C    0.330827\n",
      "D    0.318108\n",
      "E    0.292683\n",
      "F    0.304077\n",
      "G    0.364723\n",
      "H    0.407654\n",
      "L    0.333333\n",
      "Name: cancellation, dtype: float64\n",
      "\n",
      "\n",
      "deposit_type\n",
      "No Deposit    0.284020\n",
      "Non Refund    0.993624\n",
      "Refundable    0.222222\n",
      "Name: cancellation, dtype: float64\n",
      "\n",
      "\n",
      "customer_type\n",
      "Contract           0.309921\n",
      "Group              0.101045\n",
      "Transient          0.407864\n",
      "Transient-Party    0.254504\n",
      "Name: cancellation, dtype: float64\n",
      "\n",
      "\n",
      "cancellation\n",
      "0    0.0\n",
      "1    1.0\n",
      "Name: cancellation, dtype: float64\n",
      "\n",
      "\n"
     ]
    }
   ],
   "source": [
    "for col in cols:\n",
    "    print(data_cat.groupby([col])['cancellation'].mean())        #performing mean coding for each and every feature\n",
    "    print('\\n')                                                  #added new line to make it more user friendly"
   ]
  },
  {
   "cell_type": "code",
   "execution_count": 205,
   "id": "dfe2eb38",
   "metadata": {},
   "outputs": [],
   "source": [
    "for col in cols:\n",
    "    dict=data_cat.groupby([col])['cancellation'].mean().to_dict()        #converted into dictionary\n",
    "    data_cat[col]=data_cat[col].map(dict)                                #mapping the dictionary and updating data column"
   ]
  },
  {
   "cell_type": "code",
   "execution_count": 206,
   "id": "c27439ee",
   "metadata": {},
   "outputs": [
    {
     "data": {
      "text/html": [
       "<div>\n",
       "<style scoped>\n",
       "    .dataframe tbody tr th:only-of-type {\n",
       "        vertical-align: middle;\n",
       "    }\n",
       "\n",
       "    .dataframe tbody tr th {\n",
       "        vertical-align: top;\n",
       "    }\n",
       "\n",
       "    .dataframe thead th {\n",
       "        text-align: right;\n",
       "    }\n",
       "</style>\n",
       "<table border=\"1\" class=\"dataframe\">\n",
       "  <thead>\n",
       "    <tr style=\"text-align: right;\">\n",
       "      <th></th>\n",
       "      <th>hotel</th>\n",
       "      <th>arrival_date_month</th>\n",
       "      <th>meal</th>\n",
       "      <th>market_segment</th>\n",
       "      <th>distribution_channel</th>\n",
       "      <th>reserved_room_type</th>\n",
       "      <th>deposit_type</th>\n",
       "      <th>customer_type</th>\n",
       "      <th>cancellation</th>\n",
       "    </tr>\n",
       "  </thead>\n",
       "  <tbody>\n",
       "    <tr>\n",
       "      <th>0</th>\n",
       "      <td>0.277674</td>\n",
       "      <td>0.374644</td>\n",
       "      <td>0.374106</td>\n",
       "      <td>0.153712</td>\n",
       "      <td>0.174868</td>\n",
       "      <td>0.330827</td>\n",
       "      <td>0.28402</td>\n",
       "      <td>0.407864</td>\n",
       "      <td>0.0</td>\n",
       "    </tr>\n",
       "    <tr>\n",
       "      <th>1</th>\n",
       "      <td>0.277674</td>\n",
       "      <td>0.374644</td>\n",
       "      <td>0.374106</td>\n",
       "      <td>0.153712</td>\n",
       "      <td>0.174868</td>\n",
       "      <td>0.330827</td>\n",
       "      <td>0.28402</td>\n",
       "      <td>0.407864</td>\n",
       "      <td>0.0</td>\n",
       "    </tr>\n",
       "    <tr>\n",
       "      <th>2</th>\n",
       "      <td>0.277674</td>\n",
       "      <td>0.374644</td>\n",
       "      <td>0.374106</td>\n",
       "      <td>0.153712</td>\n",
       "      <td>0.174868</td>\n",
       "      <td>0.391567</td>\n",
       "      <td>0.28402</td>\n",
       "      <td>0.407864</td>\n",
       "      <td>0.0</td>\n",
       "    </tr>\n",
       "    <tr>\n",
       "      <th>3</th>\n",
       "      <td>0.277674</td>\n",
       "      <td>0.374644</td>\n",
       "      <td>0.374106</td>\n",
       "      <td>0.187618</td>\n",
       "      <td>0.220568</td>\n",
       "      <td>0.391567</td>\n",
       "      <td>0.28402</td>\n",
       "      <td>0.407864</td>\n",
       "      <td>0.0</td>\n",
       "    </tr>\n",
       "    <tr>\n",
       "      <th>4</th>\n",
       "      <td>0.277674</td>\n",
       "      <td>0.374644</td>\n",
       "      <td>0.374106</td>\n",
       "      <td>0.367590</td>\n",
       "      <td>0.410598</td>\n",
       "      <td>0.391567</td>\n",
       "      <td>0.28402</td>\n",
       "      <td>0.407864</td>\n",
       "      <td>0.0</td>\n",
       "    </tr>\n",
       "  </tbody>\n",
       "</table>\n",
       "</div>"
      ],
      "text/plain": [
       "      hotel  arrival_date_month      meal  market_segment  \\\n",
       "0  0.277674            0.374644  0.374106        0.153712   \n",
       "1  0.277674            0.374644  0.374106        0.153712   \n",
       "2  0.277674            0.374644  0.374106        0.153712   \n",
       "3  0.277674            0.374644  0.374106        0.187618   \n",
       "4  0.277674            0.374644  0.374106        0.367590   \n",
       "\n",
       "   distribution_channel  reserved_room_type  deposit_type  customer_type  \\\n",
       "0              0.174868            0.330827       0.28402       0.407864   \n",
       "1              0.174868            0.330827       0.28402       0.407864   \n",
       "2              0.174868            0.391567       0.28402       0.407864   \n",
       "3              0.220568            0.391567       0.28402       0.407864   \n",
       "4              0.410598            0.391567       0.28402       0.407864   \n",
       "\n",
       "   cancellation  \n",
       "0           0.0  \n",
       "1           0.0  \n",
       "2           0.0  \n",
       "3           0.0  \n",
       "4           0.0  "
      ]
     },
     "execution_count": 206,
     "metadata": {},
     "output_type": "execute_result"
    }
   ],
   "source": [
    "data_cat.head()          #for showing few rows"
   ]
  },
  {
   "cell_type": "code",
   "execution_count": 207,
   "id": "88e06723",
   "metadata": {},
   "outputs": [],
   "source": [
    "dataframe=pd.concat([data_cat,data[num_features]],axis=1)     #concatenating in vertical fashion that's why axis=1"
   ]
  },
  {
   "cell_type": "code",
   "execution_count": 208,
   "id": "f1c0e990",
   "metadata": {},
   "outputs": [
    {
     "data": {
      "text/html": [
       "<div>\n",
       "<style scoped>\n",
       "    .dataframe tbody tr th:only-of-type {\n",
       "        vertical-align: middle;\n",
       "    }\n",
       "\n",
       "    .dataframe tbody tr th {\n",
       "        vertical-align: top;\n",
       "    }\n",
       "\n",
       "    .dataframe thead th {\n",
       "        text-align: right;\n",
       "    }\n",
       "</style>\n",
       "<table border=\"1\" class=\"dataframe\">\n",
       "  <thead>\n",
       "    <tr style=\"text-align: right;\">\n",
       "      <th></th>\n",
       "      <th>hotel</th>\n",
       "      <th>arrival_date_month</th>\n",
       "      <th>meal</th>\n",
       "      <th>market_segment</th>\n",
       "      <th>distribution_channel</th>\n",
       "      <th>reserved_room_type</th>\n",
       "      <th>deposit_type</th>\n",
       "      <th>customer_type</th>\n",
       "      <th>cancellation</th>\n",
       "      <th>is_canceled</th>\n",
       "      <th>lead_time</th>\n",
       "      <th>arrival_date_week_number</th>\n",
       "      <th>arrival_date_day_of_month</th>\n",
       "      <th>stays_in_weekend_nights</th>\n",
       "      <th>stays_in_week_nights</th>\n",
       "      <th>adults</th>\n",
       "      <th>children</th>\n",
       "      <th>babies</th>\n",
       "      <th>is_repeated_guest</th>\n",
       "      <th>previous_cancellations</th>\n",
       "      <th>previous_bookings_not_canceled</th>\n",
       "      <th>booking_changes</th>\n",
       "      <th>agent</th>\n",
       "      <th>company</th>\n",
       "      <th>adr</th>\n",
       "      <th>required_car_parking_spaces</th>\n",
       "      <th>total_of_special_requests</th>\n",
       "    </tr>\n",
       "  </thead>\n",
       "  <tbody>\n",
       "    <tr>\n",
       "      <th>0</th>\n",
       "      <td>0.277674</td>\n",
       "      <td>0.374644</td>\n",
       "      <td>0.374106</td>\n",
       "      <td>0.153712</td>\n",
       "      <td>0.174868</td>\n",
       "      <td>0.330827</td>\n",
       "      <td>0.28402</td>\n",
       "      <td>0.407864</td>\n",
       "      <td>0.0</td>\n",
       "      <td>0</td>\n",
       "      <td>342</td>\n",
       "      <td>27</td>\n",
       "      <td>1</td>\n",
       "      <td>0</td>\n",
       "      <td>0</td>\n",
       "      <td>2</td>\n",
       "      <td>0.0</td>\n",
       "      <td>0</td>\n",
       "      <td>0</td>\n",
       "      <td>0</td>\n",
       "      <td>0</td>\n",
       "      <td>3</td>\n",
       "      <td>0.0</td>\n",
       "      <td>0.0</td>\n",
       "      <td>0.0</td>\n",
       "      <td>0</td>\n",
       "      <td>0</td>\n",
       "    </tr>\n",
       "    <tr>\n",
       "      <th>1</th>\n",
       "      <td>0.277674</td>\n",
       "      <td>0.374644</td>\n",
       "      <td>0.374106</td>\n",
       "      <td>0.153712</td>\n",
       "      <td>0.174868</td>\n",
       "      <td>0.330827</td>\n",
       "      <td>0.28402</td>\n",
       "      <td>0.407864</td>\n",
       "      <td>0.0</td>\n",
       "      <td>0</td>\n",
       "      <td>737</td>\n",
       "      <td>27</td>\n",
       "      <td>1</td>\n",
       "      <td>0</td>\n",
       "      <td>0</td>\n",
       "      <td>2</td>\n",
       "      <td>0.0</td>\n",
       "      <td>0</td>\n",
       "      <td>0</td>\n",
       "      <td>0</td>\n",
       "      <td>0</td>\n",
       "      <td>4</td>\n",
       "      <td>0.0</td>\n",
       "      <td>0.0</td>\n",
       "      <td>0.0</td>\n",
       "      <td>0</td>\n",
       "      <td>0</td>\n",
       "    </tr>\n",
       "    <tr>\n",
       "      <th>2</th>\n",
       "      <td>0.277674</td>\n",
       "      <td>0.374644</td>\n",
       "      <td>0.374106</td>\n",
       "      <td>0.153712</td>\n",
       "      <td>0.174868</td>\n",
       "      <td>0.391567</td>\n",
       "      <td>0.28402</td>\n",
       "      <td>0.407864</td>\n",
       "      <td>0.0</td>\n",
       "      <td>0</td>\n",
       "      <td>7</td>\n",
       "      <td>27</td>\n",
       "      <td>1</td>\n",
       "      <td>0</td>\n",
       "      <td>1</td>\n",
       "      <td>1</td>\n",
       "      <td>0.0</td>\n",
       "      <td>0</td>\n",
       "      <td>0</td>\n",
       "      <td>0</td>\n",
       "      <td>0</td>\n",
       "      <td>0</td>\n",
       "      <td>0.0</td>\n",
       "      <td>0.0</td>\n",
       "      <td>75.0</td>\n",
       "      <td>0</td>\n",
       "      <td>0</td>\n",
       "    </tr>\n",
       "    <tr>\n",
       "      <th>3</th>\n",
       "      <td>0.277674</td>\n",
       "      <td>0.374644</td>\n",
       "      <td>0.374106</td>\n",
       "      <td>0.187618</td>\n",
       "      <td>0.220568</td>\n",
       "      <td>0.391567</td>\n",
       "      <td>0.28402</td>\n",
       "      <td>0.407864</td>\n",
       "      <td>0.0</td>\n",
       "      <td>0</td>\n",
       "      <td>13</td>\n",
       "      <td>27</td>\n",
       "      <td>1</td>\n",
       "      <td>0</td>\n",
       "      <td>1</td>\n",
       "      <td>1</td>\n",
       "      <td>0.0</td>\n",
       "      <td>0</td>\n",
       "      <td>0</td>\n",
       "      <td>0</td>\n",
       "      <td>0</td>\n",
       "      <td>0</td>\n",
       "      <td>304.0</td>\n",
       "      <td>0.0</td>\n",
       "      <td>75.0</td>\n",
       "      <td>0</td>\n",
       "      <td>0</td>\n",
       "    </tr>\n",
       "    <tr>\n",
       "      <th>4</th>\n",
       "      <td>0.277674</td>\n",
       "      <td>0.374644</td>\n",
       "      <td>0.374106</td>\n",
       "      <td>0.367590</td>\n",
       "      <td>0.410598</td>\n",
       "      <td>0.391567</td>\n",
       "      <td>0.28402</td>\n",
       "      <td>0.407864</td>\n",
       "      <td>0.0</td>\n",
       "      <td>0</td>\n",
       "      <td>14</td>\n",
       "      <td>27</td>\n",
       "      <td>1</td>\n",
       "      <td>0</td>\n",
       "      <td>2</td>\n",
       "      <td>2</td>\n",
       "      <td>0.0</td>\n",
       "      <td>0</td>\n",
       "      <td>0</td>\n",
       "      <td>0</td>\n",
       "      <td>0</td>\n",
       "      <td>0</td>\n",
       "      <td>240.0</td>\n",
       "      <td>0.0</td>\n",
       "      <td>98.0</td>\n",
       "      <td>0</td>\n",
       "      <td>1</td>\n",
       "    </tr>\n",
       "  </tbody>\n",
       "</table>\n",
       "</div>"
      ],
      "text/plain": [
       "      hotel  arrival_date_month      meal  market_segment  \\\n",
       "0  0.277674            0.374644  0.374106        0.153712   \n",
       "1  0.277674            0.374644  0.374106        0.153712   \n",
       "2  0.277674            0.374644  0.374106        0.153712   \n",
       "3  0.277674            0.374644  0.374106        0.187618   \n",
       "4  0.277674            0.374644  0.374106        0.367590   \n",
       "\n",
       "   distribution_channel  reserved_room_type  deposit_type  customer_type  \\\n",
       "0              0.174868            0.330827       0.28402       0.407864   \n",
       "1              0.174868            0.330827       0.28402       0.407864   \n",
       "2              0.174868            0.391567       0.28402       0.407864   \n",
       "3              0.220568            0.391567       0.28402       0.407864   \n",
       "4              0.410598            0.391567       0.28402       0.407864   \n",
       "\n",
       "   cancellation  is_canceled  lead_time  arrival_date_week_number  \\\n",
       "0           0.0            0        342                        27   \n",
       "1           0.0            0        737                        27   \n",
       "2           0.0            0          7                        27   \n",
       "3           0.0            0         13                        27   \n",
       "4           0.0            0         14                        27   \n",
       "\n",
       "   arrival_date_day_of_month  stays_in_weekend_nights  stays_in_week_nights  \\\n",
       "0                          1                        0                     0   \n",
       "1                          1                        0                     0   \n",
       "2                          1                        0                     1   \n",
       "3                          1                        0                     1   \n",
       "4                          1                        0                     2   \n",
       "\n",
       "   adults  children  babies  is_repeated_guest  previous_cancellations  \\\n",
       "0       2       0.0       0                  0                       0   \n",
       "1       2       0.0       0                  0                       0   \n",
       "2       1       0.0       0                  0                       0   \n",
       "3       1       0.0       0                  0                       0   \n",
       "4       2       0.0       0                  0                       0   \n",
       "\n",
       "   previous_bookings_not_canceled  booking_changes  agent  company   adr  \\\n",
       "0                               0                3    0.0      0.0   0.0   \n",
       "1                               0                4    0.0      0.0   0.0   \n",
       "2                               0                0    0.0      0.0  75.0   \n",
       "3                               0                0  304.0      0.0  75.0   \n",
       "4                               0                0  240.0      0.0  98.0   \n",
       "\n",
       "   required_car_parking_spaces  total_of_special_requests  \n",
       "0                            0                          0  \n",
       "1                            0                          0  \n",
       "2                            0                          0  \n",
       "3                            0                          0  \n",
       "4                            0                          1  "
      ]
     },
     "execution_count": 208,
     "metadata": {},
     "output_type": "execute_result"
    }
   ],
   "source": [
    "dataframe.head()      #dataframe showing"
   ]
  },
  {
   "cell_type": "code",
   "execution_count": 209,
   "id": "5ff48909",
   "metadata": {},
   "outputs": [],
   "source": [
    "dataframe.drop('cancellation',axis=1,inplace=True)             #dropping cancellation and updating dataframe by inplace true"
   ]
  },
  {
   "cell_type": "code",
   "execution_count": 210,
   "id": "f710c7ea",
   "metadata": {},
   "outputs": [
    {
     "data": {
      "text/plain": [
       "(119210, 26)"
      ]
     },
     "execution_count": 210,
     "metadata": {},
     "output_type": "execute_result"
    }
   ],
   "source": [
    "dataframe.shape                                                #For showing shape of dataframe"
   ]
  },
  {
   "cell_type": "code",
   "execution_count": 211,
   "id": "b03d13cf",
   "metadata": {},
   "outputs": [
    {
     "data": {
      "text/plain": [
       "<AxesSubplot:xlabel='lead_time', ylabel='Density'>"
      ]
     },
     "execution_count": 211,
     "metadata": {},
     "output_type": "execute_result"
    },
    {
     "data": {
      "image/png": "[encoded data removed]",
      "text/plain": [
       "<Figure size 432x288 with 1 Axes>"
      ]
     },
     "metadata": {
      "needs_background": "light"
     },
     "output_type": "display_data"
    }
   ],
   "source": [
    "sas.distplot(dataframe['lead_time'])       #Making distribution plot of lead_time by accessing dataframe"
   ]
  },
  {
   "cell_type": "code",
   "execution_count": 212,
   "id": "ed49ce0f",
   "metadata": {},
   "outputs": [],
   "source": [
    "import numpy as np      \n",
    "def handle_outlier(col):            #taking log of lead_time time for greater extent of skewness \n",
    "    dataframe[col]=np.log1p(dataframe[col])"
   ]
  },
  {
   "cell_type": "code",
   "execution_count": 213,
   "id": "3a2b9886",
   "metadata": {},
   "outputs": [],
   "source": [
    "handle_outlier('lead_time')     #calling the function"
   ]
  },
  {
   "cell_type": "code",
   "execution_count": 214,
   "id": "34c6caeb",
   "metadata": {},
   "outputs": [
    {
     "data": {
      "text/plain": [
       "<AxesSubplot:xlabel='lead_time', ylabel='Density'>"
      ]
     },
     "execution_count": 214,
     "metadata": {},
     "output_type": "execute_result"
    },
    {
     "data": {
      "image/png": "[encoded data removed]",
      "text/plain": [
       "<Figure size 432x288 with 1 Axes>"
      ]
     },
     "metadata": {
      "needs_background": "light"
     },
     "output_type": "display_data"
    }
   ],
   "source": [
    "sas.distplot(dataframe['lead_time'])              #showing distribution plot log applied lead_time"
   ]
  },
  {
   "cell_type": "code",
   "execution_count": 215,
   "id": "ae4193c0",
   "metadata": {},
   "outputs": [
    {
     "data": {
      "text/plain": [
       "<AxesSubplot:xlabel='adr', ylabel='Density'>"
      ]
     },
     "execution_count": 215,
     "metadata": {},
     "output_type": "execute_result"
    },
    {
     "data": {
      "image/png": "[encoded data removed]",
      "text/plain": [
       "<Figure size 432x288 with 1 Axes>"
      ]
     },
     "metadata": {
      "needs_background": "light"
     },
     "output_type": "display_data"
    }
   ],
   "source": [
    "sas.distplot(dataframe['adr'])                      #distribution plot of adr"
   ]
  },
  {
   "cell_type": "code",
   "execution_count": 216,
   "id": "694a46c7",
   "metadata": {},
   "outputs": [],
   "source": [
    "handle_outlier('adr')                                         #handling outlier for adr"
   ]
  },
  {
   "cell_type": "code",
   "execution_count": 217,
   "id": "338b06df",
   "metadata": {},
   "outputs": [
    {
     "data": {
      "text/plain": [
       "<AxesSubplot:xlabel='adr', ylabel='Density'>"
      ]
     },
     "execution_count": 217,
     "metadata": {},
     "output_type": "execute_result"
    },
    {
     "data": {
      "image/png": "[encoded data removed]",
      "text/plain": [
       "<Figure size 432x288 with 1 Axes>"
      ]
     },
     "metadata": {
      "needs_background": "light"
     },
     "output_type": "display_data"
    }
   ],
   "source": [
    "sas.distplot(dataframe['adr'].dropna())                       #distribution plot of adr and handling missing values by dropna  "
   ]
  },
  {
   "cell_type": "code",
   "execution_count": 218,
   "id": "1e348656",
   "metadata": {},
   "outputs": [
    {
     "data": {
      "text/plain": [
       "hotel                             0\n",
       "arrival_date_month                0\n",
       "meal                              0\n",
       "market_segment                    0\n",
       "distribution_channel              0\n",
       "reserved_room_type                0\n",
       "deposit_type                      0\n",
       "customer_type                     0\n",
       "is_canceled                       0\n",
       "lead_time                         0\n",
       "arrival_date_week_number          0\n",
       "arrival_date_day_of_month         0\n",
       "stays_in_weekend_nights           0\n",
       "stays_in_week_nights              0\n",
       "adults                            0\n",
       "children                          0\n",
       "babies                            0\n",
       "is_repeated_guest                 0\n",
       "previous_cancellations            0\n",
       "previous_bookings_not_canceled    0\n",
       "booking_changes                   0\n",
       "agent                             0\n",
       "company                           0\n",
       "adr                               1\n",
       "required_car_parking_spaces       0\n",
       "total_of_special_requests         0\n",
       "dtype: int64"
      ]
     },
     "execution_count": 218,
     "metadata": {},
     "output_type": "execute_result"
    }
   ],
   "source": [
    "dataframe.isnull().sum()            #checking null values and doing their sum"
   ]
  },
  {
   "cell_type": "code",
   "execution_count": 219,
   "id": "dc6486b1",
   "metadata": {},
   "outputs": [],
   "source": [
    "dataframe.dropna(inplace=True)          #dropping null values and updating dataframe"
   ]
  },
  {
   "cell_type": "code",
   "execution_count": 220,
   "id": "077dff45",
   "metadata": {},
   "outputs": [],
   "source": [
    "y=dataframe['is_canceled']              #predicting independent features -> is_canceled\n",
    "x=dataframe.drop('is_canceled',axis=1)     #dropping is_canceled feature"
   ]
  },
  {
   "cell_type": "code",
   "execution_count": 221,
   "id": "891ec8a9",
   "metadata": {},
   "outputs": [],
   "source": [
    "from sklearn.linear_model import Lasso\n",
    "from sklearn.feature_selection import SelectFromModel        #for selecting important features"
   ]
  },
  {
   "cell_type": "code",
   "execution_count": 222,
   "id": "06c31e4c",
   "metadata": {},
   "outputs": [],
   "source": [
    "feature_sel_model=SelectFromModel(Lasso(alpha=.005,random_state=0))                   #Specifying lasso regression model & setting low alpha value and putting random_state=0"
   ]
  },
  {
   "cell_type": "code",
   "execution_count": 223,
   "id": "2fad784a",
   "metadata": {},
   "outputs": [
    {
     "data": {
      "text/plain": [
       "SelectFromModel(estimator=Lasso(alpha=0.005, random_state=0))"
      ]
     },
     "execution_count": 223,
     "metadata": {},
     "output_type": "execute_result"
    }
   ],
   "source": [
    "feature_sel_model.fit(x,y)                        #fitting data to object"
   ]
  },
  {
   "cell_type": "code",
   "execution_count": 224,
   "id": "cdebb5bb",
   "metadata": {},
   "outputs": [
    {
     "data": {
      "text/plain": [
       "array([False, False, False, False, False, False,  True, False,  True,\n",
       "        True,  True, False,  True,  True,  True, False, False,  True,\n",
       "        True,  True,  True,  True,  True,  True,  True])"
      ]
     },
     "execution_count": 224,
     "metadata": {},
     "output_type": "execute_result"
    }
   ],
   "source": [
    "feature_sel_model.get_support()         #getting all the values from list"
   ]
  },
  {
   "cell_type": "code",
   "execution_count": 225,
   "id": "e9f7c0c9",
   "metadata": {},
   "outputs": [],
   "source": [
    "cols=x.columns          #all the columns"
   ]
  },
  {
   "cell_type": "code",
   "execution_count": 226,
   "id": "825f9ecb",
   "metadata": {},
   "outputs": [],
   "source": [
    "selected_feat=cols[feature_sel_model.get_support()]                     #adding filters to column"
   ]
  },
  {
   "cell_type": "code",
   "execution_count": 227,
   "id": "3cd7f466",
   "metadata": {},
   "outputs": [
    {
     "name": "stdout",
     "output_type": "stream",
     "text": [
      "total_features 25\n",
      "selected_features 15\n"
     ]
    }
   ],
   "source": [
    "print('total_features {}'.format(x.shape[1]))                   #printing total features\n",
    "print('selected_features {}'.format(len(selected_feat)))        #printing the selected features"
   ]
  },
  {
   "cell_type": "code",
   "execution_count": 228,
   "id": "a2a314db",
   "metadata": {},
   "outputs": [
    {
     "data": {
      "text/plain": [
       "Index(['deposit_type', 'lead_time', 'arrival_date_week_number',\n",
       "       'arrival_date_day_of_month', 'stays_in_week_nights', 'adults',\n",
       "       'children', 'previous_cancellations', 'previous_bookings_not_canceled',\n",
       "       'booking_changes', 'agent', 'company', 'adr',\n",
       "       'required_car_parking_spaces', 'total_of_special_requests'],\n",
       "      dtype='object')"
      ]
     },
     "execution_count": 228,
     "metadata": {},
     "output_type": "execute_result"
    }
   ],
   "source": [
    "selected_feat                                            #printing the entire features"
   ]
  },
  {
   "cell_type": "code",
   "execution_count": 229,
   "id": "25564e27",
   "metadata": {},
   "outputs": [],
   "source": [
    "x=x[selected_feat]                     #updating independent dataframe"
   ]
  },
  {
   "cell_type": "code",
   "execution_count": 230,
   "id": "70982873",
   "metadata": {},
   "outputs": [
    {
     "data": {
      "text/html": [
       "<div>\n",
       "<style scoped>\n",
       "    .dataframe tbody tr th:only-of-type {\n",
       "        vertical-align: middle;\n",
       "    }\n",
       "\n",
       "    .dataframe tbody tr th {\n",
       "        vertical-align: top;\n",
       "    }\n",
       "\n",
       "    .dataframe thead th {\n",
       "        text-align: right;\n",
       "    }\n",
       "</style>\n",
       "<table border=\"1\" class=\"dataframe\">\n",
       "  <thead>\n",
       "    <tr style=\"text-align: right;\">\n",
       "      <th></th>\n",
       "      <th>deposit_type</th>\n",
       "      <th>lead_time</th>\n",
       "      <th>arrival_date_week_number</th>\n",
       "      <th>arrival_date_day_of_month</th>\n",
       "      <th>stays_in_week_nights</th>\n",
       "      <th>adults</th>\n",
       "      <th>children</th>\n",
       "      <th>previous_cancellations</th>\n",
       "      <th>previous_bookings_not_canceled</th>\n",
       "      <th>booking_changes</th>\n",
       "      <th>agent</th>\n",
       "      <th>company</th>\n",
       "      <th>adr</th>\n",
       "      <th>required_car_parking_spaces</th>\n",
       "      <th>total_of_special_requests</th>\n",
       "    </tr>\n",
       "  </thead>\n",
       "  <tbody>\n",
       "    <tr>\n",
       "      <th>0</th>\n",
       "      <td>0.28402</td>\n",
       "      <td>5.837730</td>\n",
       "      <td>27</td>\n",
       "      <td>1</td>\n",
       "      <td>0</td>\n",
       "      <td>2</td>\n",
       "      <td>0.0</td>\n",
       "      <td>0</td>\n",
       "      <td>0</td>\n",
       "      <td>3</td>\n",
       "      <td>0.0</td>\n",
       "      <td>0.0</td>\n",
       "      <td>0.000000</td>\n",
       "      <td>0</td>\n",
       "      <td>0</td>\n",
       "    </tr>\n",
       "    <tr>\n",
       "      <th>1</th>\n",
       "      <td>0.28402</td>\n",
       "      <td>6.603944</td>\n",
       "      <td>27</td>\n",
       "      <td>1</td>\n",
       "      <td>0</td>\n",
       "      <td>2</td>\n",
       "      <td>0.0</td>\n",
       "      <td>0</td>\n",
       "      <td>0</td>\n",
       "      <td>4</td>\n",
       "      <td>0.0</td>\n",
       "      <td>0.0</td>\n",
       "      <td>0.000000</td>\n",
       "      <td>0</td>\n",
       "      <td>0</td>\n",
       "    </tr>\n",
       "    <tr>\n",
       "      <th>2</th>\n",
       "      <td>0.28402</td>\n",
       "      <td>2.079442</td>\n",
       "      <td>27</td>\n",
       "      <td>1</td>\n",
       "      <td>1</td>\n",
       "      <td>1</td>\n",
       "      <td>0.0</td>\n",
       "      <td>0</td>\n",
       "      <td>0</td>\n",
       "      <td>0</td>\n",
       "      <td>0.0</td>\n",
       "      <td>0.0</td>\n",
       "      <td>4.330733</td>\n",
       "      <td>0</td>\n",
       "      <td>0</td>\n",
       "    </tr>\n",
       "    <tr>\n",
       "      <th>3</th>\n",
       "      <td>0.28402</td>\n",
       "      <td>2.639057</td>\n",
       "      <td>27</td>\n",
       "      <td>1</td>\n",
       "      <td>1</td>\n",
       "      <td>1</td>\n",
       "      <td>0.0</td>\n",
       "      <td>0</td>\n",
       "      <td>0</td>\n",
       "      <td>0</td>\n",
       "      <td>304.0</td>\n",
       "      <td>0.0</td>\n",
       "      <td>4.330733</td>\n",
       "      <td>0</td>\n",
       "      <td>0</td>\n",
       "    </tr>\n",
       "    <tr>\n",
       "      <th>4</th>\n",
       "      <td>0.28402</td>\n",
       "      <td>2.708050</td>\n",
       "      <td>27</td>\n",
       "      <td>1</td>\n",
       "      <td>2</td>\n",
       "      <td>2</td>\n",
       "      <td>0.0</td>\n",
       "      <td>0</td>\n",
       "      <td>0</td>\n",
       "      <td>0</td>\n",
       "      <td>240.0</td>\n",
       "      <td>0.0</td>\n",
       "      <td>4.595120</td>\n",
       "      <td>0</td>\n",
       "      <td>1</td>\n",
       "    </tr>\n",
       "    <tr>\n",
       "      <th>...</th>\n",
       "      <td>...</td>\n",
       "      <td>...</td>\n",
       "      <td>...</td>\n",
       "      <td>...</td>\n",
       "      <td>...</td>\n",
       "      <td>...</td>\n",
       "      <td>...</td>\n",
       "      <td>...</td>\n",
       "      <td>...</td>\n",
       "      <td>...</td>\n",
       "      <td>...</td>\n",
       "      <td>...</td>\n",
       "      <td>...</td>\n",
       "      <td>...</td>\n",
       "      <td>...</td>\n",
       "    </tr>\n",
       "    <tr>\n",
       "      <th>119385</th>\n",
       "      <td>0.28402</td>\n",
       "      <td>3.178054</td>\n",
       "      <td>35</td>\n",
       "      <td>30</td>\n",
       "      <td>5</td>\n",
       "      <td>2</td>\n",
       "      <td>0.0</td>\n",
       "      <td>0</td>\n",
       "      <td>0</td>\n",
       "      <td>0</td>\n",
       "      <td>394.0</td>\n",
       "      <td>0.0</td>\n",
       "      <td>4.576153</td>\n",
       "      <td>0</td>\n",
       "      <td>0</td>\n",
       "    </tr>\n",
       "    <tr>\n",
       "      <th>119386</th>\n",
       "      <td>0.28402</td>\n",
       "      <td>4.634729</td>\n",
       "      <td>35</td>\n",
       "      <td>31</td>\n",
       "      <td>5</td>\n",
       "      <td>3</td>\n",
       "      <td>0.0</td>\n",
       "      <td>0</td>\n",
       "      <td>0</td>\n",
       "      <td>0</td>\n",
       "      <td>9.0</td>\n",
       "      <td>0.0</td>\n",
       "      <td>5.422436</td>\n",
       "      <td>0</td>\n",
       "      <td>2</td>\n",
       "    </tr>\n",
       "    <tr>\n",
       "      <th>119387</th>\n",
       "      <td>0.28402</td>\n",
       "      <td>3.555348</td>\n",
       "      <td>35</td>\n",
       "      <td>31</td>\n",
       "      <td>5</td>\n",
       "      <td>2</td>\n",
       "      <td>0.0</td>\n",
       "      <td>0</td>\n",
       "      <td>0</td>\n",
       "      <td>0</td>\n",
       "      <td>9.0</td>\n",
       "      <td>0.0</td>\n",
       "      <td>5.067079</td>\n",
       "      <td>0</td>\n",
       "      <td>4</td>\n",
       "    </tr>\n",
       "    <tr>\n",
       "      <th>119388</th>\n",
       "      <td>0.28402</td>\n",
       "      <td>4.700480</td>\n",
       "      <td>35</td>\n",
       "      <td>31</td>\n",
       "      <td>5</td>\n",
       "      <td>2</td>\n",
       "      <td>0.0</td>\n",
       "      <td>0</td>\n",
       "      <td>0</td>\n",
       "      <td>0</td>\n",
       "      <td>89.0</td>\n",
       "      <td>0.0</td>\n",
       "      <td>4.657763</td>\n",
       "      <td>0</td>\n",
       "      <td>0</td>\n",
       "    </tr>\n",
       "    <tr>\n",
       "      <th>119389</th>\n",
       "      <td>0.28402</td>\n",
       "      <td>5.327876</td>\n",
       "      <td>35</td>\n",
       "      <td>29</td>\n",
       "      <td>7</td>\n",
       "      <td>2</td>\n",
       "      <td>0.0</td>\n",
       "      <td>0</td>\n",
       "      <td>0</td>\n",
       "      <td>0</td>\n",
       "      <td>9.0</td>\n",
       "      <td>0.0</td>\n",
       "      <td>5.025195</td>\n",
       "      <td>0</td>\n",
       "      <td>2</td>\n",
       "    </tr>\n",
       "  </tbody>\n",
       "</table>\n",
       "<p>119209 rows × 15 columns</p>\n",
       "</div>"
      ],
      "text/plain": [
       "        deposit_type  lead_time  arrival_date_week_number  \\\n",
       "0            0.28402   5.837730                        27   \n",
       "1            0.28402   6.603944                        27   \n",
       "2            0.28402   2.079442                        27   \n",
       "3            0.28402   2.639057                        27   \n",
       "4            0.28402   2.708050                        27   \n",
       "...              ...        ...                       ...   \n",
       "119385       0.28402   3.178054                        35   \n",
       "119386       0.28402   4.634729                        35   \n",
       "119387       0.28402   3.555348                        35   \n",
       "119388       0.28402   4.700480                        35   \n",
       "119389       0.28402   5.327876                        35   \n",
       "\n",
       "        arrival_date_day_of_month  stays_in_week_nights  adults  children  \\\n",
       "0                               1                     0       2       0.0   \n",
       "1                               1                     0       2       0.0   \n",
       "2                               1                     1       1       0.0   \n",
       "3                               1                     1       1       0.0   \n",
       "4                               1                     2       2       0.0   \n",
       "...                           ...                   ...     ...       ...   \n",
       "119385                         30                     5       2       0.0   \n",
       "119386                         31                     5       3       0.0   \n",
       "119387                         31                     5       2       0.0   \n",
       "119388                         31                     5       2       0.0   \n",
       "119389                         29                     7       2       0.0   \n",
       "\n",
       "        previous_cancellations  previous_bookings_not_canceled  \\\n",
       "0                            0                               0   \n",
       "1                            0                               0   \n",
       "2                            0                               0   \n",
       "3                            0                               0   \n",
       "4                            0                               0   \n",
       "...                        ...                             ...   \n",
       "119385                       0                               0   \n",
       "119386                       0                               0   \n",
       "119387                       0                               0   \n",
       "119388                       0                               0   \n",
       "119389                       0                               0   \n",
       "\n",
       "        booking_changes  agent  company       adr  \\\n",
       "0                     3    0.0      0.0  0.000000   \n",
       "1                     4    0.0      0.0  0.000000   \n",
       "2                     0    0.0      0.0  4.330733   \n",
       "3                     0  304.0      0.0  4.330733   \n",
       "4                     0  240.0      0.0  4.595120   \n",
       "...                 ...    ...      ...       ...   \n",
       "119385                0  394.0      0.0  4.576153   \n",
       "119386                0    9.0      0.0  5.422436   \n",
       "119387                0    9.0      0.0  5.067079   \n",
       "119388                0   89.0      0.0  4.657763   \n",
       "119389                0    9.0      0.0  5.025195   \n",
       "\n",
       "        required_car_parking_spaces  total_of_special_requests  \n",
       "0                                 0                          0  \n",
       "1                                 0                          0  \n",
       "2                                 0                          0  \n",
       "3                                 0                          0  \n",
       "4                                 0                          1  \n",
       "...                             ...                        ...  \n",
       "119385                            0                          0  \n",
       "119386                            0                          2  \n",
       "119387                            0                          4  \n",
       "119388                            0                          0  \n",
       "119389                            0                          2  \n",
       "\n",
       "[119209 rows x 15 columns]"
      ]
     },
     "execution_count": 230,
     "metadata": {},
     "output_type": "execute_result"
    }
   ],
   "source": [
    "x"
   ]
  },
  {
   "cell_type": "code",
   "execution_count": 231,
   "id": "b3bdbbd7",
   "metadata": {},
   "outputs": [],
   "source": [
    "from sklearn.model_selection import train_test_split         #for splitting data into train and test set"
   ]
  },
  {
   "cell_type": "code",
   "execution_count": 232,
   "id": "e5e30cd6",
   "metadata": {},
   "outputs": [],
   "source": [
    "X_train,X_test,y_train,y_test=train_test_split(x,y,test_size=0.25,random_state=0)           #taking 25% of data for testing"
   ]
  },
  {
   "cell_type": "code",
   "execution_count": 233,
   "id": "40533fbd",
   "metadata": {},
   "outputs": [],
   "source": [
    "from sklearn.linear_model import LogisticRegression             #importing logisticregression"
   ]
  },
  {
   "cell_type": "code",
   "execution_count": 234,
   "id": "48231838",
   "metadata": {},
   "outputs": [],
   "source": [
    "logreg=LogisticRegression()                                     #calling the logisticregression class"
   ]
  },
  {
   "cell_type": "code",
   "execution_count": 235,
   "id": "64929c11",
   "metadata": {},
   "outputs": [
    {
     "data": {
      "text/plain": [
       "LogisticRegression()"
      ]
     },
     "execution_count": 235,
     "metadata": {},
     "output_type": "execute_result"
    }
   ],
   "source": [
    "logreg.fit(X_train,y_train)                                     #fitting training data"
   ]
  },
  {
   "cell_type": "code",
   "execution_count": 236,
   "id": "c2f404ac",
   "metadata": {},
   "outputs": [],
   "source": [
    "y_pred=logreg.predict(X_test)                                   #doing prediction on test data"
   ]
  },
  {
   "cell_type": "code",
   "execution_count": 237,
   "id": "05fa41f5",
   "metadata": {},
   "outputs": [
    {
     "data": {
      "text/plain": [
       "array([1, 0, 0, ..., 0, 1, 1], dtype=int64)"
      ]
     },
     "execution_count": 237,
     "metadata": {},
     "output_type": "execute_result"
    }
   ],
   "source": [
    "y_pred                                                          #printing the prediction array"
   ]
  },
  {
   "cell_type": "code",
   "execution_count": 238,
   "id": "a4bead2c",
   "metadata": {},
   "outputs": [],
   "source": [
    "from sklearn.metrics import confusion_matrix                    #importing confusion matrix"
   ]
  },
  {
   "cell_type": "code",
   "execution_count": 239,
   "id": "c5aeeb91",
   "metadata": {},
   "outputs": [
    {
     "data": {
      "text/plain": [
       "array([[15561,  3078],\n",
       "       [ 4513,  6651]], dtype=int64)"
      ]
     },
     "execution_count": 239,
     "metadata": {},
     "output_type": "execute_result"
    }
   ],
   "source": [
    "confusion_matrix(y_test,y_pred)                                 #confusion matrix of this logistic regression model"
   ]
  },
  {
   "cell_type": "code",
   "execution_count": 240,
   "id": "33c44ddb",
   "metadata": {},
   "outputs": [],
   "source": [
    "from sklearn.metrics import accuracy_score                  #importing accuracy_score to check accuracy"
   ]
  },
  {
   "cell_type": "code",
   "execution_count": 241,
   "id": "03df433d",
   "metadata": {},
   "outputs": [
    {
     "data": {
      "text/plain": [
       "0.7452940979096064"
      ]
     },
     "execution_count": 241,
     "metadata": {},
     "output_type": "execute_result"
    }
   ],
   "source": [
    "accuracy_score(y_test,y_pred)                               #checking accuracy_score of y test and prediction"
   ]
  },
  {
   "cell_type": "code",
   "execution_count": 242,
   "id": "914a97b1",
   "metadata": {},
   "outputs": [],
   "source": [
    "from sklearn.model_selection import cross_val_score           #importing cross validation"
   ]
  },
  {
   "cell_type": "code",
   "execution_count": 243,
   "id": "1a5ee704",
   "metadata": {},
   "outputs": [],
   "source": [
    "score=cross_val_score(logreg,x,y,cv=10)                          #applying cross validation for achieving more accurate score"
   ]
  },
  {
   "cell_type": "code",
   "execution_count": 244,
   "id": "83467b6a",
   "metadata": {},
   "outputs": [
    {
     "data": {
      "text/plain": [
       "0.7219678417028434"
      ]
     },
     "execution_count": 244,
     "metadata": {},
     "output_type": "execute_result"
    }
   ],
   "source": [
    "score.mean()                                                    #achieved new score by calling mean"
   ]
  },
  {
   "cell_type": "code",
   "execution_count": 245,
   "id": "7de5534d",
   "metadata": {},
   "outputs": [],
   "source": [
    "from sklearn.naive_bayes import GaussianNB                  #importing gussain from navie_bayes algo"
   ]
  },
  {
   "cell_type": "code",
   "execution_count": 246,
   "id": "65ed1a9d",
   "metadata": {},
   "outputs": [],
   "source": [
    "from sklearn.linear_model import LogisticRegression         #importing logisticregression from linear_model "
   ]
  },
  {
   "cell_type": "code",
   "execution_count": 247,
   "id": "9177d8ec",
   "metadata": {},
   "outputs": [],
   "source": [
    "from sklearn.neighbors import KNeighborsClassifier          #importing knn algorithm"
   ]
  },
  {
   "cell_type": "code",
   "execution_count": 248,
   "id": "1213893c",
   "metadata": {},
   "outputs": [],
   "source": [
    "from sklearn.ensemble import RandomForestClassifier         #importing random forest from ensemble"
   ]
  },
  {
   "cell_type": "code",
   "execution_count": 249,
   "id": "7ec8e746",
   "metadata": {},
   "outputs": [],
   "source": [
    "from sklearn.tree import DecisionTreeClassifier             #importing decision tree classifier"
   ]
  },
  {
   "cell_type": "code",
   "execution_count": 262,
   "id": "1d80d7a8",
   "metadata": {},
   "outputs": [],
   "source": [
    "models=[]                                                      #this blank list is for appending all algorithms\n",
    "\n",
    "models.append(('LogisticRegression',LogisticRegression()))     #appending logisticregression and initializing it\n",
    "models.append(('Navie Bayes',GaussianNB()))                      #appending Naive Bayes and initializing it\n",
    "models.append(('RandomForest',RandomForestClassifier()))         #appending random forest and initializing it\n",
    "models.append(('Decision Tree',DecisionTreeClassifier()))      #appending decision tree and initializing it\n",
    "models.append(('KNN',KNeighborsClassifier()))                  #appending knn and initializing it"
   ]
  },
  {
   "cell_type": "code",
   "execution_count": 264,
   "id": "cdf3955d",
   "metadata": {},
   "outputs": [
    {
     "name": "stdout",
     "output_type": "stream",
     "text": [
      "LogisticRegression\n",
      "[[15561  4513]\n",
      " [ 3078  6651]]\n",
      "\n",
      "\n",
      "0.7452940979096064\n",
      "\n",
      "\n",
      "Navie Bayes\n",
      "[[ 7838  1053]\n",
      " [10801 10111]]\n",
      "\n",
      "\n",
      "0.6022548065630977\n",
      "\n",
      "\n",
      "RandomForest\n",
      "[[17435  2862]\n",
      " [ 1204  8302]]\n",
      "\n",
      "\n",
      "0.8635707814649531\n",
      "\n",
      "\n",
      "Decision Tree\n",
      "[[15979  2657]\n",
      " [ 2660  8507]]\n",
      "\n",
      "\n",
      "0.8215951414287153\n",
      "\n",
      "\n",
      "KNN\n",
      "[[16256  3273]\n",
      " [ 2383  7891]]\n",
      "\n",
      "\n",
      "0.8102204476059457\n",
      "\n",
      "\n"
     ]
    }
   ],
   "source": [
    "for name,model in models:                                      #iterating over models\n",
    "    print(name)                                                #printing name of model\n",
    "    model.fit(X_train,y_train)                             #fitting train set of x & y into model\n",
    "    predictions=model.predict(X_test)                    #predicting test set of x\n",
    "    \n",
    "    from sklearn.metrics import confusion_matrix                    #importing confusion matrix\n",
    "    print(confusion_matrix(predictions,y_test))                  #printing confusion matrix\n",
    "    print('\\n')\n",
    "    print(accuracy_score(predictions,y_test))                   #printing accuracy_score\n",
    "    print('\\n')"
   ]
  },
  {
   "cell_type": "code",
   "execution_count": null,
   "id": "8c61ff56",
   "metadata": {},
   "outputs": [],
   "source": []
  },
  {
   "cell_type": "code",
   "execution_count": null,
   "id": "f8dfaf8d",
   "metadata": {},
   "outputs": [],
   "source": []
  }
 ],
 "metadata": {
  "kernelspec": {
   "display_name": "Python 3 (ipykernel)",
   "language": "python",
   "name": "python3"
  },
  "language_info": {
   "codemirror_mode": {
    "name": "ipython",
    "version": 3
   },
   "file_extension": ".py",
   "mimetype": "text/x-python",
   "name": "python",
   "nbconvert_exporter": "python",
   "pygments_lexer": "ipython3",
   "version": "3.9.7"
  }
 },
 "nbformat": 4,
 "nbformat_minor": 5
}
